{
 "cells": [
  {
   "cell_type": "code",
   "execution_count": 1,
   "metadata": {},
   "outputs": [],
   "source": [
    "import pandas as pd \n",
    "import numpy as np \n",
    "import matplotlib.pyplot as plt \n",
    "from pandas.plotting import scatter_matrix\n",
    "import seaborn as sns \n",
    "from sklearn.model_selection import train_test_split\n",
    "from sklearn.preprocessing import StandardScaler \n",
    "from sklearn.preprocessing import MinMaxScaler\n"
   ]
  },
  {
   "cell_type": "code",
   "execution_count": 2,
   "metadata": {},
   "outputs": [
    {
     "name": "stdout",
     "output_type": "stream",
     "text": [
      "(776, 27)\n",
      "(776, 18)\n"
     ]
    }
   ],
   "source": [
    "ar = pd.read_csv('../wk4/audit_risk.csv')\n",
    "tr = pd.read_csv('../wk4/trial.csv')\n",
    "print(ar.shape)\n",
    "print(tr.shape)"
   ]
  },
  {
   "cell_type": "code",
   "execution_count": 3,
   "metadata": {},
   "outputs": [
    {
     "data": {
      "text/plain": [
       "(776, 36)"
      ]
     },
     "execution_count": 3,
     "metadata": {},
     "output_type": "execute_result"
    }
   ],
   "source": [
    "# comapre column names \n",
    "ar_cols = ar.columns\n",
    "tr_cols = tr.columns\n",
    "\n",
    "common_cols = ar_cols.intersection(tr_cols)\n",
    "ar_not_tr = ar_cols.difference(tr_cols)\n",
    "tr_not_ar = tr_cols.difference(ar_cols)\n",
    "\n",
    "# modify common column names to compare their row values\n",
    "# Risk has different values in ar and tr, rest of the common columns have the same values\n",
    "tr.rename(columns={'Risk':'aRisk'}, inplace=True)\n",
    "\n",
    "ar_cols = ar.columns\n",
    "tr_cols = tr.columns\n",
    "tr_not_ar = tr_cols.difference(ar_cols)\n",
    "\n",
    "df = pd.concat([ar,tr[tr_not_ar]], axis=1)\n",
    "df.shape"
   ]
  },
  {
   "cell_type": "code",
   "execution_count": 4,
   "metadata": {},
   "outputs": [
    {
     "name": "stdout",
     "output_type": "stream",
     "text": [
      "Money_Value with NaN: 10956.663999999999\n",
      "Repalce NaN with mean: 10970.80163096774\n"
     ]
    }
   ],
   "source": [
    "df.isnull().values.sum()\n",
    "\n",
    "# Money_value and aMoney_value have Nan\n",
    "df[df.isnull().any(1)]\n",
    "\n",
    "# fill NAN with mean\n",
    "colname = list(df)\n",
    "\n",
    "x = colname[12] # 'Money_Value'\n",
    "\n",
    "print('Money_Value with NaN:',df.loc[:,x].sum())\n",
    "\n",
    "df[x] = df[x].fillna(df[x].mean())\n",
    "\n",
    "print('Repalce NaN with mean:',df.loc[:,x].sum())\n"
   ]
  },
  {
   "cell_type": "code",
   "execution_count": 5,
   "metadata": {},
   "outputs": [
    {
     "name": "stdout",
     "output_type": "stream",
     "text": [
      "['Sector_score', 'LOCATION_ID', 'PARA_A', 'Score_A', 'Risk_A', 'PARA_B', 'Score_B', 'Risk_B', 'TOTAL', 'numbers', 'Score_B.1', 'Risk_C', 'Money_Value', 'Score_MV', 'Risk_D', 'District_Loss', 'PROB', 'RiSk_E', 'History', 'Prob', 'Risk_F', 'Score', 'Inherent_Risk', 'CONTROL_RISK', 'Detection_Risk', 'Audit_Risk', 'Risk', 'District', 'History_score', 'LOSS_SCORE', 'Loss', 'MONEY_Marks', 'Marks', 'SCORE_A', 'SCORE_B', 'aRisk']\n"
     ]
    }
   ],
   "source": [
    "print(colname)"
   ]
  },
  {
   "cell_type": "code",
   "execution_count": 6,
   "metadata": {},
   "outputs": [
    {
     "name": "stdout",
     "output_type": "stream",
     "text": [
      "Detection_Risk , unique values: 1\n",
      "['Detection_Risk']\n"
     ]
    }
   ],
   "source": [
    "# select columns based on their types\n",
    "flo_vars = list(df.select_dtypes(include=[np.float64]))\n",
    "int_vars = list(df.select_dtypes(include=[np.int64]))\n",
    "\n",
    "# select columns with less than 2 unique values :Detection_Risk'\n",
    "less2 =[]\n",
    "for flo in flo_vars:\n",
    "    a = len(np.unique(df[flo]))\n",
    "    if a < 2:\n",
    "        print(flo,', unique values:', a)\n",
    "        less2.append(flo)\n",
    "print(less2)        "
   ]
  },
  {
   "cell_type": "code",
   "execution_count": 7,
   "metadata": {},
   "outputs": [],
   "source": [
    "# drop \"Detection_Risk\"\n",
    "df = df.drop(['Detection_Risk'], axis=1)"
   ]
  },
  {
   "cell_type": "code",
   "execution_count": 8,
   "metadata": {},
   "outputs": [
    {
     "name": "stdout",
     "output_type": "stream",
     "text": [
      "22 13\n"
     ]
    }
   ],
   "source": [
    "# reorganize column types\n",
    "dfnames = list(df)\n",
    "\n",
    "new_flo= list(set(flo_vars)-set(less2))\n",
    "new_int = list(set(dfnames) -set(new_flo))\n",
    "print(len(new_flo),len(new_int))"
   ]
  },
  {
   "cell_type": "code",
   "execution_count": 9,
   "metadata": {},
   "outputs": [],
   "source": [
    "# Using seaborn pairplot to see the bivariate relation between each pair of features\n",
    "import seaborn as sns\n",
    "sns.set()\n",
    "\n",
    "#sns.pairplot(df[new_int],size = 2 ,kind ='scatter')\n",
    "#plt.show()"
   ]
  },
  {
   "cell_type": "code",
   "execution_count": 10,
   "metadata": {},
   "outputs": [],
   "source": [
    "# Using seaborn pairplot to see the bivariate relation between each pair of features\n",
    "import seaborn as sns\n",
    "sns.set()\n",
    "\n",
    "#sns.pairplot(df[new_flo],size = 2 ,kind ='scatter')\n",
    "#plt.show()"
   ]
  },
  {
   "cell_type": "code",
   "execution_count": 11,
   "metadata": {},
   "outputs": [
    {
     "data": {
      "image/png": "[encoded data removed]",
      "text/plain": [
       "<Figure size 432x288 with 1 Axes>"
      ]
     },
     "metadata": {},
     "output_type": "display_data"
    }
   ],
   "source": [
    "a=df[[\"LOCATION_ID\",\"Risk\"]].groupby(\"LOCATION_ID\").mean().sort_values(by=\"Risk\", ascending=False)\n",
    "\n",
    "# Risk varies in some LOCATION_IDs\n",
    "# Need transform location_id\n",
    "\n",
    "plt.plot(a.index,a['Risk'])\n",
    "plt.show()"
   ]
  },
  {
   "cell_type": "code",
   "execution_count": 12,
   "metadata": {},
   "outputs": [],
   "source": [
    "a =[]\n",
    "for i in df.LOCATION_ID:\n",
    "    if i == 'SAFIDON':\n",
    "        new_val = 101\n",
    "    elif i == 'NUH':\n",
    "        new_val = 102\n",
    "    elif i == 'LOHARU':\n",
    "        new_val = 1003\n",
    "    else:\n",
    "        new_val = int(i)\n",
    "    a.append(new_val)\n",
    "    #df.LOCATION_ID.replace(i,new_val)\n",
    "df.LOCATION_ID = a"
   ]
  },
  {
   "cell_type": "code",
   "execution_count": 13,
   "metadata": {},
   "outputs": [],
   "source": [
    "# define independent and dependent variables\n",
    "# split data\n",
    "colname = list(df)\n",
    "var = colname[1:24]+colname[25:35] \n",
    " \n",
    "X = df[var]\n",
    "y = df['Audit_Risk']\n",
    "\n",
    "X_train_mm, X_test_mm, y_train, y_test = train_test_split(X, y, random_state =15678 , test_size = 0.15)\n",
    "\n",
    "scaler  = StandardScaler()\n",
    "X_train = scaler.fit_transform(X_train_mm)\n",
    "X_test  = scaler.transform(X_test_mm)\n",
    "y_train = np.log1p(y_train)\n",
    "y_test  = np.log1p(y_test)\n",
    "\n",
    "# inverse of log1p\n",
    "real_ytest=np.expm1(y_test)"
   ]
  },
  {
   "cell_type": "markdown",
   "metadata": {},
   "source": [
    "## Bagging 1 (Decision Tree)"
   ]
  },
  {
   "cell_type": "code",
   "execution_count": 14,
   "metadata": {},
   "outputs": [
    {
     "name": "stdout",
     "output_type": "stream",
     "text": [
      "Grid best parameter (max. accuracy):  {'max_depth': 10}\n",
      "Grid best score (accuracy):  0.9691727974000607\n"
     ]
    }
   ],
   "source": [
    "from sklearn.ensemble import BaggingRegressor\n",
    "from sklearn.tree import DecisionTreeRegressor\n",
    "from sklearn.model_selection import GridSearchCV\n",
    "from sklearn.dummy import DummyRegressor\n",
    "\n",
    "grid_values = {'max_depth': [ 5, 10, 20, 50, 100]}\n",
    "\n",
    "dt_clf = DecisionTreeRegressor(random_state=12345)\n",
    "grid_clf = GridSearchCV(dt_clf,cv = 5, param_grid = grid_values)\n",
    "\n",
    "grid_clf.fit(X_train, y_train)\n",
    "y_decision_fn_scores_acc = grid_clf.predict(X_test) \n",
    "\n",
    "print('Grid best parameter (max. accuracy): ', grid_clf.best_params_)\n",
    "print('Grid best score (accuracy): ', grid_clf.best_score_)\n"
   ]
  },
  {
   "cell_type": "code",
   "execution_count": 15,
   "metadata": {},
   "outputs": [
    {
     "name": "stdout",
     "output_type": "stream",
     "text": [
      "Mean squared error (Decision Tree): 0.00\n",
      "MSE: 3.115275071586659e-08\n",
      "r2_score (Bag Decision Tree): 1.00\n"
     ]
    }
   ],
   "source": [
    "from sklearn.metrics import mean_squared_error\n",
    "from sklearn.metrics import mean_squared_error, r2_score\n",
    "\n",
    "\n",
    "# fitting test with the best parameter\n",
    "dtclf = DecisionTreeRegressor(**grid_clf.best_params_)\n",
    "dtclf.fit(X_test, y_test) \n",
    "\n",
    "y_test_predict = dtclf.predict(X_test)\n",
    "\n",
    "print(\"Mean squared error (Decision Tree): {:.2f}\".format(mean_squared_error(y_test, y_test_predict)))\n",
    "print('MSE:',np.square(y_test_predict-y_test).mean())\n",
    "print(\"r2_score (Bag Decision Tree): {:.2f}\".format(r2_score(y_test, y_test_predict )))"
   ]
  },
  {
   "cell_type": "code",
   "execution_count": 16,
   "metadata": {},
   "outputs": [
    {
     "name": "stdout",
     "output_type": "stream",
     "text": [
      "Mean squared error (dummy): 1.09\n",
      "Mean squared error (Bag Decision Tree): 0.03\n",
      "r2_score (dummy): -0.00\n",
      "r2_score (Bag Decision Tree): 0.98\n"
     ]
    }
   ],
   "source": [
    "from sklearn.metrics import mean_squared_error, r2_score\n",
    "\n",
    "bag_clf = BaggingRegressor(dtclf, n_estimators=20, max_samples=300, bootstrap=True, n_jobs=-1, random_state=123)\n",
    "bag_clf.fit(X_train, y_train)\n",
    "\n",
    "lm_dummy_mean = DummyRegressor(strategy = 'mean').fit(X_train, y_train)\n",
    "\n",
    "y_predict = bag_clf.predict(X_test)\n",
    "y_predict_dummy_mean = lm_dummy_mean.predict(X_test)\n",
    "\n",
    "#print('Bag Decision Tree, coefficients: ', bag_clf.coef_)\n",
    "print(\"Mean squared error (dummy): {:.2f}\".format(mean_squared_error(y_test, \n",
    "                                                                     y_predict_dummy_mean)))\n",
    "print(\"Mean squared error (Bag Decision Tree): {:.2f}\".format(mean_squared_error(y_test, y_predict)))\n",
    "#print('MSE:',np.square(y_predict-real_ytest).mean())\n",
    "\n",
    "print(\"r2_score (dummy): {:.2f}\".format(r2_score(y_test, y_predict_dummy_mean)))\n",
    "print(\"r2_score (Bag Decision Tree): {:.2f}\".format(r2_score(y_test, y_predict)))"
   ]
  },
  {
   "cell_type": "markdown",
   "metadata": {},
   "source": [
    "###  Bagging 2 (Ridge regression)"
   ]
  },
  {
   "cell_type": "code",
   "execution_count": 17,
   "metadata": {},
   "outputs": [
    {
     "name": "stdout",
     "output_type": "stream",
     "text": [
      "Grid best parameter (max. accuracy):  {'max_samples': 10, 'n_estimators': 50}\n",
      "Grid best score (accuracy):  0.8694079412176553\n"
     ]
    }
   ],
   "source": [
    "from  sklearn.linear_model import Ridge\n",
    "from sklearn.model_selection import GridSearchCV\n",
    "\n",
    "grid_values = {'n_estimators': [ 10, 50, 100],\n",
    "              'max_samples':   [ 10, 50, 100, 200]}\n",
    "\n",
    "ridge = Ridge()\n",
    "\n",
    "bag_clf = BaggingRegressor(ridge, bootstrap=True, n_jobs=-1, random_state=123)\n",
    "grid_clf = GridSearchCV(bag_clf, cv = 5, param_grid = grid_values)\n",
    "\n",
    "grid_clf.fit(X_train, y_train)\n",
    "\n",
    "print('Grid best parameter (max. accuracy): ', grid_clf.best_params_)\n",
    "print('Grid best score (accuracy): ', grid_clf.best_score_)"
   ]
  },
  {
   "cell_type": "code",
   "execution_count": 18,
   "metadata": {},
   "outputs": [
    {
     "name": "stdout",
     "output_type": "stream",
     "text": [
      "Mean squared error (dummy): 1.09\n",
      "Mean squared error (Bag: Ridge Regression): 0.13\n",
      "MSE (Bag: Ridge Regression): 0.13044143389772386\n",
      "r2_score (dummy): -0.00\n",
      "r2_score (Bag: Linear Regression): 0.88\n"
     ]
    }
   ],
   "source": [
    "# Apply best parameters\n",
    "\n",
    "bag_clf = BaggingRegressor(ridge,**grid_clf.best_params_, bootstrap=True, n_jobs=-1, random_state=1234,)\n",
    "bag_clf.fit(X_train, y_train)\n",
    "\n",
    "lm_dummy_mean = DummyRegressor(strategy = 'mean').fit(X_train, y_train)\n",
    "\n",
    "y_predict = bag_clf.predict(X_test)\n",
    "y_predict_dummy_mean = lm_dummy_mean.predict(X_test)\n",
    "\n",
    "\n",
    "print(\"Mean squared error (dummy): {:.2f}\".format(mean_squared_error(y_test, \n",
    "                                                                     y_predict_dummy_mean)))\n",
    "print(\"Mean squared error (Bag: Ridge Regression): {:.2f}\".format(mean_squared_error(y_test, y_predict)))\n",
    "print('MSE (Bag: Ridge Regression):',np.square(y_predict-y_test).mean())\n",
    "\n",
    "print(\"r2_score (dummy): {:.2f}\".format(r2_score(y_test, y_predict_dummy_mean)))\n",
    "print(\"r2_score (Bag: Linear Regression): {:.2f}\".format(r2_score(y_test, y_predict)))\n",
    "\n",
    "#422620407157.9463 (MSE from no feature engineering data)\n",
    "#0.11089856029768168(MSE from feature engineering data)"
   ]
  },
  {
   "cell_type": "markdown",
   "metadata": {},
   "source": [
    "###  Past 1 (Random Forest)"
   ]
  },
  {
   "cell_type": "code",
   "execution_count": 19,
   "metadata": {},
   "outputs": [
    {
     "name": "stdout",
     "output_type": "stream",
     "text": [
      "Grid best parameter (max. accuracy):  {'max_depth': 10, 'max_leaf_nodes': 200}\n",
      "Grid best score (accuracy):  0.977017070908517\n"
     ]
    }
   ],
   "source": [
    "# Grid search \n",
    "\n",
    "from sklearn.ensemble import RandomForestRegressor\n",
    "\n",
    "grid_values = {'max_depth': [ 10, 50, 100, 200, 500],\n",
    "              'max_leaf_nodes': [ 10, 20, 50, 100, 200]}\n",
    "\n",
    "\n",
    "rf_clf = RandomForestRegressor(random_state=12345)\n",
    "grid_clf = GridSearchCV(rf_clf,cv = 5, param_grid = grid_values)\n",
    "\n",
    "\n",
    "grid_clf.fit(X_train, y_train)\n",
    "y_decision_fn_scores_acc = grid_clf.predict(X_test) \n",
    "\n",
    "print('Grid best parameter (max. accuracy): ', grid_clf.best_params_)\n",
    "print('Grid best score (accuracy): ', grid_clf.best_score_)"
   ]
  },
  {
   "cell_type": "code",
   "execution_count": 20,
   "metadata": {},
   "outputs": [
    {
     "name": "stdout",
     "output_type": "stream",
     "text": [
      "Mean squared error (Decision Tree): 0.03\n",
      "MSE: 0.025376443543549346\n",
      "r2_score (Bag: Decision Tree): 0.98\n"
     ]
    }
   ],
   "source": [
    "# fitting test with the best parameter\n",
    "\n",
    "from sklearn.metrics import mean_squared_error\n",
    "\n",
    "rfclf = RandomForestRegressor(**grid_clf.best_params_)\n",
    "\n",
    "pasting_clf = BaggingRegressor(rfclf, n_estimators=20, max_samples=300, bootstrap=False, n_jobs=-1, random_state=123)\n",
    "pasting_clf.fit(X_train, y_train)\n",
    "\n",
    "\n",
    "y_test_predict = pasting_clf.predict(X_test)\n",
    "\n",
    "print(\"Mean squared error (Decision Tree): {:.2f}\".format(mean_squared_error(y_test, y_test_predict)))\n",
    "print('MSE:',np.square(y_test_predict-y_test).mean())\n",
    "print(\"r2_score (Bag: Decision Tree): {:.2f}\".format(r2_score(y_test, y_test_predict )))\n"
   ]
  },
  {
   "cell_type": "markdown",
   "metadata": {},
   "source": [
    "### Pasting 2 (Ridge Regression)"
   ]
  },
  {
   "cell_type": "code",
   "execution_count": 21,
   "metadata": {},
   "outputs": [
    {
     "name": "stdout",
     "output_type": "stream",
     "text": [
      "Mean squared error (dummy): 1.09\n",
      "Mean squared error (Bag: Linear Regression): 0.10\n",
      "MSE (Bag: Linear Regression): 0.10444841682297287\n",
      "r2_score (dummy): -0.00\n",
      "r2_score (Bag: Linear Regression): 0.90\n"
     ]
    }
   ],
   "source": [
    "\n",
    "pasting_ln = BaggingRegressor(ridge, max_samples = 10, n_estimators = 100, bootstrap=False, n_jobs=-1, random_state=1234,)\n",
    "pasting_ln.fit(X_train, y_train)\n",
    "\n",
    "lm_dummy_mean = DummyRegressor(strategy = 'mean').fit(X_train, y_train)\n",
    "\n",
    "y_predict = pasting_ln.predict(X_test)\n",
    "y_predict_dummy_mean = lm_dummy_mean.predict(X_test)\n",
    "\n",
    "\n",
    "print(\"Mean squared error (dummy): {:.2f}\".format(mean_squared_error(y_test, \n",
    "                                                                     y_predict_dummy_mean)))\n",
    "print(\"Mean squared error (Bag: Linear Regression): {:.2f}\".format(mean_squared_error(y_test, y_predict)))\n",
    "print('MSE (Bag: Linear Regression):',np.square(y_predict-y_test).mean())\n",
    "\n",
    "print(\"r2_score (dummy): {:.2f}\".format(r2_score(y_test, y_predict_dummy_mean)))\n",
    "print(\"r2_score (Bag: Linear Regression): {:.2f}\".format(r2_score(y_test, y_predict)))\n"
   ]
  },
  {
   "cell_type": "markdown",
   "metadata": {},
   "source": [
    "###  Adaboost 1 (Decision tree)"
   ]
  },
  {
   "cell_type": "code",
   "execution_count": 22,
   "metadata": {},
   "outputs": [
    {
     "name": "stdout",
     "output_type": "stream",
     "text": [
      "Grid best parameter (max. accuracy):  {'learning_rate': 0.5, 'n_estimators': 50}\n",
      "Grid best score (accuracy):  0.9794418653893204\n"
     ]
    }
   ],
   "source": [
    "## need to redesign\n",
    "from sklearn.metrics import mean_squared_error, r2_score\n",
    "from sklearn.ensemble import AdaBoostRegressor\n",
    "from sklearn.model_selection import GridSearchCV\n",
    "\n",
    "# Decision Tree parameters are adapted from previou result  \n",
    "\n",
    "grid_values = {'n_estimators': [ 10, 50, 100, 200, 500],\n",
    "              'learning_rate': [ 0.1, 0.2, 0.5, 0.8]}\n",
    "\n",
    "ada_clf = AdaBoostRegressor(DecisionTreeRegressor(max_depth=20), random_state=1234)\n",
    "\n",
    "grid_clf = GridSearchCV(ada_clf, cv = 5, param_grid = grid_values)\n",
    "\n",
    "grid_clf.fit(X_train, y_train)\n",
    "\n",
    "print('Grid best parameter (max. accuracy): ', grid_clf.best_params_)\n",
    "print('Grid best score (accuracy): ', grid_clf.best_score_)"
   ]
  },
  {
   "cell_type": "code",
   "execution_count": 23,
   "metadata": {},
   "outputs": [
    {
     "name": "stdout",
     "output_type": "stream",
     "text": [
      "Mean squared error (dummy): 1.09\n",
      "Mean squared error (Ada: DecisionTree): 0.00\n",
      "MSE (Ada: DecisionTree): 0.004746733420304831\n",
      "r2_score (dummy): -0.00\n",
      "r2_score (Ada: DecisionTree): 1.00\n"
     ]
    }
   ],
   "source": [
    "# Apply best parameters\n",
    "\n",
    "ada_clf = AdaBoostRegressor(DecisionTreeRegressor(max_depth=20),**grid_clf.best_params_,random_state=1234)\n",
    "\n",
    "ada_clf.fit(X_train, y_train)\n",
    "\n",
    "lm_dummy_mean = DummyRegressor(strategy = 'mean').fit(X_train, y_train)\n",
    "\n",
    "y_predict = ada_clf.predict(X_test)\n",
    "y_predict_dummy_mean = lm_dummy_mean.predict(X_test)\n",
    "\n",
    "\n",
    "#print('Bag Decision Tree, coefficients: ', bag_clf.coef_)\n",
    "print(\"Mean squared error (dummy): {:.2f}\".format(mean_squared_error(y_test, \n",
    "                                                                     y_predict_dummy_mean)))\n",
    "print(\"Mean squared error (Ada: DecisionTree): {:.2f}\".format(mean_squared_error(y_test, y_predict)))\n",
    "print('MSE (Ada: DecisionTree):',np.square(y_predict-y_test).mean())\n",
    "\n",
    "print(\"r2_score (dummy): {:.2f}\".format(r2_score(y_test, y_predict_dummy_mean)))\n",
    "print(\"r2_score (Ada: DecisionTree): {:.2f}\".format(r2_score(y_test, y_predict)))\n",
    "\n",
    "#0.004746733420304831 (MSE from no feature engineering data)\n",
    "#0.006141016463740285 (MSE from  feature engineering data)\n",
    "#0.009387713021158374 (MSE from reduced feature engineering data)"
   ]
  },
  {
   "cell_type": "markdown",
   "metadata": {},
   "source": [
    "### Adaboost 2 (Linear Regression)"
   ]
  },
  {
   "cell_type": "code",
   "execution_count": 24,
   "metadata": {},
   "outputs": [
    {
     "name": "stdout",
     "output_type": "stream",
     "text": [
      "Mean squared error (dummy): 1.09\n",
      "Mean squared error (Ada Linear Regression): 0.08\n",
      "MSE (Ada Linear Regression): 0.0793039242585043\n",
      "r2_score (dummy): -0.00\n",
      "r2_score (Ada Linear Regression): 0.93\n"
     ]
    }
   ],
   "source": [
    "from sklearn.linear_model import LinearRegression\n",
    "from sklearn.ensemble import AdaBoostRegressor\n",
    "\n",
    "lreg = LinearRegression()\n",
    "ada_clf = AdaBoostRegressor(lreg, n_estimators = 200, learning_rate= 0.8,random_state=1234)\n",
    "\n",
    "ada_clf.fit(X_train, y_train)\n",
    "lm_dummy_mean = DummyRegressor(strategy = 'mean').fit(X_train, y_train)\n",
    "\n",
    "y_predict = ada_clf.predict(X_test)\n",
    "y_predict_dummy_mean = lm_dummy_mean.predict(X_test)\n",
    "\n",
    "\n",
    "#print('Bag Decision Tree, coefficients: ', bag_clf.coef_)\n",
    "print(\"Mean squared error (dummy): {:.2f}\".format(mean_squared_error(y_test, \n",
    "                                                                     y_predict_dummy_mean)))\n",
    "print(\"Mean squared error (Ada Linear Regression): {:.2f}\".format(mean_squared_error(y_test, y_predict)))\n",
    "print('MSE (Ada Linear Regression):',np.square(y_predict-y_test).mean())\n",
    "\n",
    "print(\"r2_score (dummy): {:.2f}\".format(r2_score(y_test, y_predict_dummy_mean)))\n",
    "print(\"r2_score (Ada Linear Regression): {:.2f}\".format(r2_score(y_test, y_predict)))\n"
   ]
  },
  {
   "cell_type": "markdown",
   "metadata": {},
   "source": [
    "### Gradient Boosting (Decision Tree)"
   ]
  },
  {
   "cell_type": "code",
   "execution_count": 25,
   "metadata": {},
   "outputs": [
    {
     "name": "stdout",
     "output_type": "stream",
     "text": [
      "Grid best parameter (max. accuracy):  {'learning_rate': 0.1, 'max_depth': 5, 'n_estimators': 500}\n",
      "Grid best score (accuracy):  0.983931489807433\n"
     ]
    }
   ],
   "source": [
    "from  sklearn.ensemble import GradientBoostingRegressor\n",
    "from sklearn.model_selection import GridSearchCV\n",
    "\n",
    "# Decision Tree parameters are adapted from previou result  \n",
    "\n",
    "grid_values = {'max_depth'  : [ 5, 10, 20, 50],\n",
    "              'n_estimators': [ 10, 50, 100, 200, 500],\n",
    "              'learning_rate': [ 0.1, 0.2, 0.5, 0.8]}\n",
    "\n",
    "\n",
    "gbrt = GradientBoostingRegressor(random_state=42)\n",
    "\n",
    "grid_clf = GridSearchCV(gbrt, cv = 5, param_grid = grid_values)\n",
    "\n",
    "grid_clf.fit(X_train, y_train)\n",
    "\n",
    "print('Grid best parameter (max. accuracy): ', grid_clf.best_params_)\n",
    "print('Grid best score (accuracy): ', grid_clf.best_score_)"
   ]
  },
  {
   "cell_type": "code",
   "execution_count": 26,
   "metadata": {},
   "outputs": [
    {
     "name": "stdout",
     "output_type": "stream",
     "text": [
      "Mean squared error (dummy): 1.09\n",
      "Mean squared error (gbrt): 0.03\n",
      "MSE (gbrt): 0.02904358251314917\n",
      "r2_score (dummy): -0.00\n",
      "r2_score (gbrt): 0.97\n"
     ]
    }
   ],
   "source": [
    "# Apply best parameters\n",
    "\n",
    "gbrt = GradientBoostingRegressor(**grid_clf.best_params_, random_state=42)\n",
    "gbrt.fit(X_train, y_train)\n",
    "\n",
    "lm_dummy_mean = DummyRegressor(strategy = 'mean').fit(X_train, y_train)\n",
    "\n",
    "y_predict = gbrt.predict(X_test)\n",
    "y_predict_dummy_mean = lm_dummy_mean.predict(X_test)\n",
    "\n",
    "\n",
    "#print('Bag Decision Tree, coefficients: ', bag_clf.coef_)\n",
    "print(\"Mean squared error (dummy): {:.2f}\".format(mean_squared_error(y_test, \n",
    "                                                                     y_predict_dummy_mean)))\n",
    "print(\"Mean squared error (gbrt): {:.2f}\".format(mean_squared_error(y_test, y_predict)))\n",
    "print('MSE (gbrt):',np.square(y_predict-y_test).mean())\n",
    "\n",
    "print(\"r2_score (dummy): {:.2f}\".format(r2_score(y_test, y_predict_dummy_mean)))\n",
    "print(\"r2_score (gbrt): {:.2f}\".format(r2_score(y_test, y_predict)))\n",
    "\n",
    "# (MSE from no feature engineering data)\n",
    "#0.022455599574399694(MSE from feature engineering data)"
   ]
  },
  {
   "cell_type": "code",
   "execution_count": 27,
   "metadata": {},
   "outputs": [
    {
     "data": {
      "application/javascript": [
       "/* Put everything inside the global mpl namespace */\n",
       "window.mpl = {};\n",
       "\n",
       "\n",
       "mpl.get_websocket_type = function() {\n",
       "    if (typeof(WebSocket) !== 'undefined') {\n",
       "        return WebSocket;\n",
       "    } else if (typeof(MozWebSocket) !== 'undefined') {\n",
       "        return MozWebSocket;\n",
       "    } else {\n",
       "        alert('Your browser does not have WebSocket support.' +\n",
       "              'Please try Chrome, Safari or Firefox ≥ 6. ' +\n",
       "              'Firefox 4 and 5 are also supported but you ' +\n",
       "              'have to enable WebSockets in about:config.');\n",
       "    };\n",
       "}\n",
       "\n",
       "mpl.figure = function(figure_id, websocket, ondownload, parent_element) {\n",
       "    this.id = figure_id;\n",
       "\n",
       "    this.ws = websocket;\n",
       "\n",
       "    this.supports_binary = (this.ws.binaryType != undefined);\n",
       "\n",
       "    if (!this.supports_binary) {\n",
       "        var warnings = document.getElementById(\"mpl-warnings\");\n",
       "        if (warnings) {\n",
       "            warnings.style.display = 'block';\n",
       "            warnings.textContent = (\n",
       "                \"This browser does not support binary websocket messages. \" +\n",
       "                    \"Performance may be slow.\");\n",
       "        }\n",
       "    }\n",
       "\n",
       "    this.imageObj = new Image();\n",
       "\n",
       "    this.context = undefined;\n",
       "    this.message = undefined;\n",
       "    this.canvas = undefined;\n",
       "    this.rubberband_canvas = undefined;\n",
       "    this.rubberband_context = undefined;\n",
       "    this.format_dropdown = undefined;\n",
       "\n",
       "    this.image_mode = 'full';\n",
       "\n",
       "    this.root = $('<div/>');\n",
       "    this._root_extra_style(this.root)\n",
       "    this.root.attr('style', 'display: inline-block');\n",
       "\n",
       "    $(parent_element).append(this.root);\n",
       "\n",
       "    this._init_header(this);\n",
       "    this._init_canvas(this);\n",
       "    this._init_toolbar(this);\n",
       "\n",
       "    var fig = this;\n",
       "\n",
       "    this.waiting = false;\n",
       "\n",
       "    this.ws.onopen =  function () {\n",
       "            fig.send_message(\"supports_binary\", {value: fig.supports_binary});\n",
       "            fig.send_message(\"send_image_mode\", {});\n",
       "            if (mpl.ratio != 1) {\n",
       "                fig.send_message(\"set_dpi_ratio\", {'dpi_ratio': mpl.ratio});\n",
       "            }\n",
       "            fig.send_message(\"refresh\", {});\n",
       "        }\n",
       "\n",
       "    this.imageObj.onload = function() {\n",
       "            if (fig.image_mode == 'full') {\n",
       "                // Full images could contain transparency (where diff images\n",
       "                // almost always do), so we need to clear the canvas so that\n",
       "                // there is no ghosting.\n",
       "                fig.context.clearRect(0, 0, fig.canvas.width, fig.canvas.height);\n",
       "            }\n",
       "            fig.context.drawImage(fig.imageObj, 0, 0);\n",
       "        };\n",
       "\n",
       "    this.imageObj.onunload = function() {\n",
       "        fig.ws.close();\n",
       "    }\n",
       "\n",
       "    this.ws.onmessage = this._make_on_message_function(this);\n",
       "\n",
       "    this.ondownload = ondownload;\n",
       "}\n",
       "\n",
       "mpl.figure.prototype._init_header = function() {\n",
       "    var titlebar = $(\n",
       "        '<div class=\"ui-dialog-titlebar ui-widget-header ui-corner-all ' +\n",
       "        'ui-helper-clearfix\"/>');\n",
       "    var titletext = $(\n",
       "        '<div class=\"ui-dialog-title\" style=\"width: 100%; ' +\n",
       "        'text-align: center; padding: 3px;\"/>');\n",
       "    titlebar.append(titletext)\n",
       "    this.root.append(titlebar);\n",
       "    this.header = titletext[0];\n",
       "}\n",
       "\n",
       "\n",
       "\n",
       "mpl.figure.prototype._canvas_extra_style = function(canvas_div) {\n",
       "\n",
       "}\n",
       "\n",
       "\n",
       "mpl.figure.prototype._root_extra_style = function(canvas_div) {\n",
       "\n",
       "}\n",
       "\n",
       "mpl.figure.prototype._init_canvas = function() {\n",
       "    var fig = this;\n",
       "\n",
       "    var canvas_div = $('<div/>');\n",
       "\n",
       "    canvas_div.attr('style', 'position: relative; clear: both; outline: 0');\n",
       "\n",
       "    function canvas_keyboard_event(event) {\n",
       "        return fig.key_event(event, event['data']);\n",
       "    }\n",
       "\n",
       "    canvas_div.keydown('key_press', canvas_keyboard_event);\n",
       "    canvas_div.keyup('key_release', canvas_keyboard_event);\n",
       "    this.canvas_div = canvas_div\n",
       "    this._canvas_extra_style(canvas_div)\n",
       "    this.root.append(canvas_div);\n",
       "\n",
       "    var canvas = $('<canvas/>');\n",
       "    canvas.addClass('mpl-canvas');\n",
       "    canvas.attr('style', \"left: 0; top: 0; z-index: 0; outline: 0\")\n",
       "\n",
       "    this.canvas = canvas[0];\n",
       "    this.context = canvas[0].getContext(\"2d\");\n",
       "\n",
       "    var backingStore = this.context.backingStorePixelRatio ||\n",
       "\tthis.context.webkitBackingStorePixelRatio ||\n",
       "\tthis.context.mozBackingStorePixelRatio ||\n",
       "\tthis.context.msBackingStorePixelRatio ||\n",
       "\tthis.context.oBackingStorePixelRatio ||\n",
       "\tthis.context.backingStorePixelRatio || 1;\n",
       "\n",
       "    mpl.ratio = (window.devicePixelRatio || 1) / backingStore;\n",
       "\n",
       "    var rubberband = $('<canvas/>');\n",
       "    rubberband.attr('style', \"position: absolute; left: 0; top: 0; z-index: 1;\")\n",
       "\n",
       "    var pass_mouse_events = true;\n",
       "\n",
       "    canvas_div.resizable({\n",
       "        start: function(event, ui) {\n",
       "            pass_mouse_events = false;\n",
       "        },\n",
       "        resize: function(event, ui) {\n",
       "            fig.request_resize(ui.size.width, ui.size.height);\n",
       "        },\n",
       "        stop: function(event, ui) {\n",
       "            pass_mouse_events = true;\n",
       "            fig.request_resize(ui.size.width, ui.size.height);\n",
       "        },\n",
       "    });\n",
       "\n",
       "    function mouse_event_fn(event) {\n",
       "        if (pass_mouse_events)\n",
       "            return fig.mouse_event(event, event['data']);\n",
       "    }\n",
       "\n",
       "    rubberband.mousedown('button_press', mouse_event_fn);\n",
       "    rubberband.mouseup('button_release', mouse_event_fn);\n",
       "    // Throttle sequential mouse events to 1 every 20ms.\n",
       "    rubberband.mousemove('motion_notify', mouse_event_fn);\n",
       "\n",
       "    rubberband.mouseenter('figure_enter', mouse_event_fn);\n",
       "    rubberband.mouseleave('figure_leave', mouse_event_fn);\n",
       "\n",
       "    canvas_div.on(\"wheel\", function (event) {\n",
       "        event = event.originalEvent;\n",
       "        event['data'] = 'scroll'\n",
       "        if (event.deltaY < 0) {\n",
       "            event.step = 1;\n",
       "        } else {\n",
       "            event.step = -1;\n",
       "        }\n",
       "        mouse_event_fn(event);\n",
       "    });\n",
       "\n",
       "    canvas_div.append(canvas);\n",
       "    canvas_div.append(rubberband);\n",
       "\n",
       "    this.rubberband = rubberband;\n",
       "    this.rubberband_canvas = rubberband[0];\n",
       "    this.rubberband_context = rubberband[0].getContext(\"2d\");\n",
       "    this.rubberband_context.strokeStyle = \"#000000\";\n",
       "\n",
       "    this._resize_canvas = function(width, height) {\n",
       "        // Keep the size of the canvas, canvas container, and rubber band\n",
       "        // canvas in synch.\n",
       "        canvas_div.css('width', width)\n",
       "        canvas_div.css('height', height)\n",
       "\n",
       "        canvas.attr('width', width * mpl.ratio);\n",
       "        canvas.attr('height', height * mpl.ratio);\n",
       "        canvas.attr('style', 'width: ' + width + 'px; height: ' + height + 'px;');\n",
       "\n",
       "        rubberband.attr('width', width);\n",
       "        rubberband.attr('height', height);\n",
       "    }\n",
       "\n",
       "    // Set the figure to an initial 600x600px, this will subsequently be updated\n",
       "    // upon first draw.\n",
       "    this._resize_canvas(600, 600);\n",
       "\n",
       "    // Disable right mouse context menu.\n",
       "    $(this.rubberband_canvas).bind(\"contextmenu\",function(e){\n",
       "        return false;\n",
       "    });\n",
       "\n",
       "    function set_focus () {\n",
       "        canvas.focus();\n",
       "        canvas_div.focus();\n",
       "    }\n",
       "\n",
       "    window.setTimeout(set_focus, 100);\n",
       "}\n",
       "\n",
       "mpl.figure.prototype._init_toolbar = function() {\n",
       "    var fig = this;\n",
       "\n",
       "    var nav_element = $('<div/>')\n",
       "    nav_element.attr('style', 'width: 100%');\n",
       "    this.root.append(nav_element);\n",
       "\n",
       "    // Define a callback function for later on.\n",
       "    function toolbar_event(event) {\n",
       "        return fig.toolbar_button_onclick(event['data']);\n",
       "    }\n",
       "    function toolbar_mouse_event(event) {\n",
       "        return fig.toolbar_button_onmouseover(event['data']);\n",
       "    }\n",
       "\n",
       "    for(var toolbar_ind in mpl.toolbar_items) {\n",
       "        var name = mpl.toolbar_items[toolbar_ind][0];\n",
       "        var tooltip = mpl.toolbar_items[toolbar_ind][1];\n",
       "        var image = mpl.toolbar_items[toolbar_ind][2];\n",
       "        var method_name = mpl.toolbar_items[toolbar_ind][3];\n",
       "\n",
       "        if (!name) {\n",
       "            // put a spacer in here.\n",
       "            continue;\n",
       "        }\n",
       "        var button = $('<button/>');\n",
       "        button.addClass('ui-button ui-widget ui-state-default ui-corner-all ' +\n",
       "                        'ui-button-icon-only');\n",
       "        button.attr('role', 'button');\n",
       "        button.attr('aria-disabled', 'false');\n",
       "        button.click(method_name, toolbar_event);\n",
       "        button.mouseover(tooltip, toolbar_mouse_event);\n",
       "\n",
       "        var icon_img = $('<span/>');\n",
       "        icon_img.addClass('ui-button-icon-primary ui-icon');\n",
       "        icon_img.addClass(image);\n",
       "        icon_img.addClass('ui-corner-all');\n",
       "\n",
       "        var tooltip_span = $('<span/>');\n",
       "        tooltip_span.addClass('ui-button-text');\n",
       "        tooltip_span.html(tooltip);\n",
       "\n",
       "        button.append(icon_img);\n",
       "        button.append(tooltip_span);\n",
       "\n",
       "        nav_element.append(button);\n",
       "    }\n",
       "\n",
       "    var fmt_picker_span = $('<span/>');\n",
       "\n",
       "    var fmt_picker = $('<select/>');\n",
       "    fmt_picker.addClass('mpl-toolbar-option ui-widget ui-widget-content');\n",
       "    fmt_picker_span.append(fmt_picker);\n",
       "    nav_element.append(fmt_picker_span);\n",
       "    this.format_dropdown = fmt_picker[0];\n",
       "\n",
       "    for (var ind in mpl.extensions) {\n",
       "        var fmt = mpl.extensions[ind];\n",
       "        var option = $(\n",
       "            '<option/>', {selected: fmt === mpl.default_extension}).html(fmt);\n",
       "        fmt_picker.append(option)\n",
       "    }\n",
       "\n",
       "    // Add hover states to the ui-buttons\n",
       "    $( \".ui-button\" ).hover(\n",
       "        function() { $(this).addClass(\"ui-state-hover\");},\n",
       "        function() { $(this).removeClass(\"ui-state-hover\");}\n",
       "    );\n",
       "\n",
       "    var status_bar = $('<span class=\"mpl-message\"/>');\n",
       "    nav_element.append(status_bar);\n",
       "    this.message = status_bar[0];\n",
       "}\n",
       "\n",
       "mpl.figure.prototype.request_resize = function(x_pixels, y_pixels) {\n",
       "    // Request matplotlib to resize the figure. Matplotlib will then trigger a resize in the client,\n",
       "    // which will in turn request a refresh of the image.\n",
       "    this.send_message('resize', {'width': x_pixels, 'height': y_pixels});\n",
       "}\n",
       "\n",
       "mpl.figure.prototype.send_message = function(type, properties) {\n",
       "    properties['type'] = type;\n",
       "    properties['figure_id'] = this.id;\n",
       "    this.ws.send(JSON.stringify(properties));\n",
       "}\n",
       "\n",
       "mpl.figure.prototype.send_draw_message = function() {\n",
       "    if (!this.waiting) {\n",
       "        this.waiting = true;\n",
       "        this.ws.send(JSON.stringify({type: \"draw\", figure_id: this.id}));\n",
       "    }\n",
       "}\n",
       "\n",
       "\n",
       "mpl.figure.prototype.handle_save = function(fig, msg) {\n",
       "    var format_dropdown = fig.format_dropdown;\n",
       "    var format = format_dropdown.options[format_dropdown.selectedIndex].value;\n",
       "    fig.ondownload(fig, format);\n",
       "}\n",
       "\n",
       "\n",
       "mpl.figure.prototype.handle_resize = function(fig, msg) {\n",
       "    var size = msg['size'];\n",
       "    if (size[0] != fig.canvas.width || size[1] != fig.canvas.height) {\n",
       "        fig._resize_canvas(size[0], size[1]);\n",
       "        fig.send_message(\"refresh\", {});\n",
       "    };\n",
       "}\n",
       "\n",
       "mpl.figure.prototype.handle_rubberband = function(fig, msg) {\n",
       "    var x0 = msg['x0'] / mpl.ratio;\n",
       "    var y0 = (fig.canvas.height - msg['y0']) / mpl.ratio;\n",
       "    var x1 = msg['x1'] / mpl.ratio;\n",
       "    var y1 = (fig.canvas.height - msg['y1']) / mpl.ratio;\n",
       "    x0 = Math.floor(x0) + 0.5;\n",
       "    y0 = Math.floor(y0) + 0.5;\n",
       "    x1 = Math.floor(x1) + 0.5;\n",
       "    y1 = Math.floor(y1) + 0.5;\n",
       "    var min_x = Math.min(x0, x1);\n",
       "    var min_y = Math.min(y0, y1);\n",
       "    var width = Math.abs(x1 - x0);\n",
       "    var height = Math.abs(y1 - y0);\n",
       "\n",
       "    fig.rubberband_context.clearRect(\n",
       "        0, 0, fig.canvas.width, fig.canvas.height);\n",
       "\n",
       "    fig.rubberband_context.strokeRect(min_x, min_y, width, height);\n",
       "}\n",
       "\n",
       "mpl.figure.prototype.handle_figure_label = function(fig, msg) {\n",
       "    // Updates the figure title.\n",
       "    fig.header.textContent = msg['label'];\n",
       "}\n",
       "\n",
       "mpl.figure.prototype.handle_cursor = function(fig, msg) {\n",
       "    var cursor = msg['cursor'];\n",
       "    switch(cursor)\n",
       "    {\n",
       "    case 0:\n",
       "        cursor = 'pointer';\n",
       "        break;\n",
       "    case 1:\n",
       "        cursor = 'default';\n",
       "        break;\n",
       "    case 2:\n",
       "        cursor = 'crosshair';\n",
       "        break;\n",
       "    case 3:\n",
       "        cursor = 'move';\n",
       "        break;\n",
       "    }\n",
       "    fig.rubberband_canvas.style.cursor = cursor;\n",
       "}\n",
       "\n",
       "mpl.figure.prototype.handle_message = function(fig, msg) {\n",
       "    fig.message.textContent = msg['message'];\n",
       "}\n",
       "\n",
       "mpl.figure.prototype.handle_draw = function(fig, msg) {\n",
       "    // Request the server to send over a new figure.\n",
       "    fig.send_draw_message();\n",
       "}\n",
       "\n",
       "mpl.figure.prototype.handle_image_mode = function(fig, msg) {\n",
       "    fig.image_mode = msg['mode'];\n",
       "}\n",
       "\n",
       "mpl.figure.prototype.updated_canvas_event = function() {\n",
       "    // Called whenever the canvas gets updated.\n",
       "    this.send_message(\"ack\", {});\n",
       "}\n",
       "\n",
       "// A function to construct a web socket function for onmessage handling.\n",
       "// Called in the figure constructor.\n",
       "mpl.figure.prototype._make_on_message_function = function(fig) {\n",
       "    return function socket_on_message(evt) {\n",
       "        if (evt.data instanceof Blob) {\n",
       "            /* FIXME: We get \"Resource interpreted as Image but\n",
       "             * transferred with MIME type text/plain:\" errors on\n",
       "             * Chrome.  But how to set the MIME type?  It doesn't seem\n",
       "             * to be part of the websocket stream */\n",
       "            evt.data.type = \"image/png\";\n",
       "\n",
       "            /* Free the memory for the previous frames */\n",
       "            if (fig.imageObj.src) {\n",
       "                (window.URL || window.webkitURL).revokeObjectURL(\n",
       "                    fig.imageObj.src);\n",
       "            }\n",
       "\n",
       "            fig.imageObj.src = (window.URL || window.webkitURL).createObjectURL(\n",
       "                evt.data);\n",
       "            fig.updated_canvas_event();\n",
       "            fig.waiting = false;\n",
       "            return;\n",
       "        }\n",
       "        else if (typeof evt.data === 'string' && evt.data.slice(0, 21) == \"data:image/png;base64\") {\n",
       "            fig.imageObj.src = evt.data;\n",
       "            fig.updated_canvas_event();\n",
       "            fig.waiting = false;\n",
       "            return;\n",
       "        }\n",
       "\n",
       "        var msg = JSON.parse(evt.data);\n",
       "        var msg_type = msg['type'];\n",
       "\n",
       "        // Call the  \"handle_{type}\" callback, which takes\n",
       "        // the figure and JSON message as its only arguments.\n",
       "        try {\n",
       "            var callback = fig[\"handle_\" + msg_type];\n",
       "        } catch (e) {\n",
       "            console.log(\"No handler for the '\" + msg_type + \"' message type: \", msg);\n",
       "            return;\n",
       "        }\n",
       "\n",
       "        if (callback) {\n",
       "            try {\n",
       "                // console.log(\"Handling '\" + msg_type + \"' message: \", msg);\n",
       "                callback(fig, msg);\n",
       "            } catch (e) {\n",
       "                console.log(\"Exception inside the 'handler_\" + msg_type + \"' callback:\", e, e.stack, msg);\n",
       "            }\n",
       "        }\n",
       "    };\n",
       "}\n",
       "\n",
       "// from http://stackoverflow.com/questions/1114465/getting-mouse-location-in-canvas\n",
       "mpl.findpos = function(e) {\n",
       "    //this section is from http://www.quirksmode.org/js/events_properties.html\n",
       "    var targ;\n",
       "    if (!e)\n",
       "        e = window.event;\n",
       "    if (e.target)\n",
       "        targ = e.target;\n",
       "    else if (e.srcElement)\n",
       "        targ = e.srcElement;\n",
       "    if (targ.nodeType == 3) // defeat Safari bug\n",
       "        targ = targ.parentNode;\n",
       "\n",
       "    // jQuery normalizes the pageX and pageY\n",
       "    // pageX,Y are the mouse positions relative to the document\n",
       "    // offset() returns the position of the element relative to the document\n",
       "    var x = e.pageX - $(targ).offset().left;\n",
       "    var y = e.pageY - $(targ).offset().top;\n",
       "\n",
       "    return {\"x\": x, \"y\": y};\n",
       "};\n",
       "\n",
       "/*\n",
       " * return a copy of an object with only non-object keys\n",
       " * we need this to avoid circular references\n",
       " * http://stackoverflow.com/a/24161582/3208463\n",
       " */\n",
       "function simpleKeys (original) {\n",
       "  return Object.keys(original).reduce(function (obj, key) {\n",
       "    if (typeof original[key] !== 'object')\n",
       "        obj[key] = original[key]\n",
       "    return obj;\n",
       "  }, {});\n",
       "}\n",
       "\n",
       "mpl.figure.prototype.mouse_event = function(event, name) {\n",
       "    var canvas_pos = mpl.findpos(event)\n",
       "\n",
       "    if (name === 'button_press')\n",
       "    {\n",
       "        this.canvas.focus();\n",
       "        this.canvas_div.focus();\n",
       "    }\n",
       "\n",
       "    var x = canvas_pos.x * mpl.ratio;\n",
       "    var y = canvas_pos.y * mpl.ratio;\n",
       "\n",
       "    this.send_message(name, {x: x, y: y, button: event.button,\n",
       "                             step: event.step,\n",
       "                             guiEvent: simpleKeys(event)});\n",
       "\n",
       "    /* This prevents the web browser from automatically changing to\n",
       "     * the text insertion cursor when the button is pressed.  We want\n",
       "     * to control all of the cursor setting manually through the\n",
       "     * 'cursor' event from matplotlib */\n",
       "    event.preventDefault();\n",
       "    return false;\n",
       "}\n",
       "\n",
       "mpl.figure.prototype._key_event_extra = function(event, name) {\n",
       "    // Handle any extra behaviour associated with a key event\n",
       "}\n",
       "\n",
       "mpl.figure.prototype.key_event = function(event, name) {\n",
       "\n",
       "    // Prevent repeat events\n",
       "    if (name == 'key_press')\n",
       "    {\n",
       "        if (event.which === this._key)\n",
       "            return;\n",
       "        else\n",
       "            this._key = event.which;\n",
       "    }\n",
       "    if (name == 'key_release')\n",
       "        this._key = null;\n",
       "\n",
       "    var value = '';\n",
       "    if (event.ctrlKey && event.which != 17)\n",
       "        value += \"ctrl+\";\n",
       "    if (event.altKey && event.which != 18)\n",
       "        value += \"alt+\";\n",
       "    if (event.shiftKey && event.which != 16)\n",
       "        value += \"shift+\";\n",
       "\n",
       "    value += 'k';\n",
       "    value += event.which.toString();\n",
       "\n",
       "    this._key_event_extra(event, name);\n",
       "\n",
       "    this.send_message(name, {key: value,\n",
       "                             guiEvent: simpleKeys(event)});\n",
       "    return false;\n",
       "}\n",
       "\n",
       "mpl.figure.prototype.toolbar_button_onclick = function(name) {\n",
       "    if (name == 'download') {\n",
       "        this.handle_save(this, null);\n",
       "    } else {\n",
       "        this.send_message(\"toolbar_button\", {name: name});\n",
       "    }\n",
       "};\n",
       "\n",
       "mpl.figure.prototype.toolbar_button_onmouseover = function(tooltip) {\n",
       "    this.message.textContent = tooltip;\n",
       "};\n",
       "mpl.toolbar_items = [[\"Home\", \"Reset original view\", \"fa fa-home icon-home\", \"home\"], [\"Back\", \"Back to  previous view\", \"fa fa-arrow-left icon-arrow-left\", \"back\"], [\"Forward\", \"Forward to next view\", \"fa fa-arrow-right icon-arrow-right\", \"forward\"], [\"\", \"\", \"\", \"\"], [\"Pan\", \"Pan axes with left mouse, zoom with right\", \"fa fa-arrows icon-move\", \"pan\"], [\"Zoom\", \"Zoom to rectangle\", \"fa fa-square-o icon-check-empty\", \"zoom\"], [\"\", \"\", \"\", \"\"], [\"Download\", \"Download plot\", \"fa fa-floppy-o icon-save\", \"download\"]];\n",
       "\n",
       "mpl.extensions = [\"eps\", \"jpeg\", \"pdf\", \"png\", \"ps\", \"raw\", \"svg\", \"tif\"];\n",
       "\n",
       "mpl.default_extension = \"png\";var comm_websocket_adapter = function(comm) {\n",
       "    // Create a \"websocket\"-like object which calls the given IPython comm\n",
       "    // object with the appropriate methods. Currently this is a non binary\n",
       "    // socket, so there is still some room for performance tuning.\n",
       "    var ws = {};\n",
       "\n",
       "    ws.close = function() {\n",
       "        comm.close()\n",
       "    };\n",
       "    ws.send = function(m) {\n",
       "        //console.log('sending', m);\n",
       "        comm.send(m);\n",
       "    };\n",
       "    // Register the callback with on_msg.\n",
       "    comm.on_msg(function(msg) {\n",
       "        //console.log('receiving', msg['content']['data'], msg);\n",
       "        // Pass the mpl event to the overridden (by mpl) onmessage function.\n",
       "        ws.onmessage(msg['content']['data'])\n",
       "    });\n",
       "    return ws;\n",
       "}\n",
       "\n",
       "mpl.mpl_figure_comm = function(comm, msg) {\n",
       "    // This is the function which gets called when the mpl process\n",
       "    // starts-up an IPython Comm through the \"matplotlib\" channel.\n",
       "\n",
       "    var id = msg.content.data.id;\n",
       "    // Get hold of the div created by the display call when the Comm\n",
       "    // socket was opened in Python.\n",
       "    var element = $(\"#\" + id);\n",
       "    var ws_proxy = comm_websocket_adapter(comm)\n",
       "\n",
       "    function ondownload(figure, format) {\n",
       "        window.open(figure.imageObj.src);\n",
       "    }\n",
       "\n",
       "    var fig = new mpl.figure(id, ws_proxy,\n",
       "                           ondownload,\n",
       "                           element.get(0));\n",
       "\n",
       "    // Call onopen now - mpl needs it, as it is assuming we've passed it a real\n",
       "    // web socket which is closed, not our websocket->open comm proxy.\n",
       "    ws_proxy.onopen();\n",
       "\n",
       "    fig.parent_element = element.get(0);\n",
       "    fig.cell_info = mpl.find_output_cell(\"<div id='\" + id + \"'></div>\");\n",
       "    if (!fig.cell_info) {\n",
       "        console.error(\"Failed to find cell for figure\", id, fig);\n",
       "        return;\n",
       "    }\n",
       "\n",
       "    var output_index = fig.cell_info[2]\n",
       "    var cell = fig.cell_info[0];\n",
       "\n",
       "};\n",
       "\n",
       "mpl.figure.prototype.handle_close = function(fig, msg) {\n",
       "    var width = fig.canvas.width/mpl.ratio\n",
       "    fig.root.unbind('remove')\n",
       "\n",
       "    // Update the output cell to use the data from the current canvas.\n",
       "    fig.push_to_output();\n",
       "    var dataURL = fig.canvas.toDataURL();\n",
       "    // Re-enable the keyboard manager in IPython - without this line, in FF,\n",
       "    // the notebook keyboard shortcuts fail.\n",
       "    IPython.keyboard_manager.enable()\n",
       "    $(fig.parent_element).html('<img src=\"' + dataURL + '\" width=\"' + width + '\">');\n",
       "    fig.close_ws(fig, msg);\n",
       "}\n",
       "\n",
       "mpl.figure.prototype.close_ws = function(fig, msg){\n",
       "    fig.send_message('closing', msg);\n",
       "    // fig.ws.close()\n",
       "}\n",
       "\n",
       "mpl.figure.prototype.push_to_output = function(remove_interactive) {\n",
       "    // Turn the data on the canvas into data in the output cell.\n",
       "    var width = this.canvas.width/mpl.ratio\n",
       "    var dataURL = this.canvas.toDataURL();\n",
       "    this.cell_info[1]['text/html'] = '<img src=\"' + dataURL + '\" width=\"' + width + '\">';\n",
       "}\n",
       "\n",
       "mpl.figure.prototype.updated_canvas_event = function() {\n",
       "    // Tell IPython that the notebook contents must change.\n",
       "    IPython.notebook.set_dirty(true);\n",
       "    this.send_message(\"ack\", {});\n",
       "    var fig = this;\n",
       "    // Wait a second, then push the new image to the DOM so\n",
       "    // that it is saved nicely (might be nice to debounce this).\n",
       "    setTimeout(function () { fig.push_to_output() }, 1000);\n",
       "}\n",
       "\n",
       "mpl.figure.prototype._init_toolbar = function() {\n",
       "    var fig = this;\n",
       "\n",
       "    var nav_element = $('<div/>')\n",
       "    nav_element.attr('style', 'width: 100%');\n",
       "    this.root.append(nav_element);\n",
       "\n",
       "    // Define a callback function for later on.\n",
       "    function toolbar_event(event) {\n",
       "        return fig.toolbar_button_onclick(event['data']);\n",
       "    }\n",
       "    function toolbar_mouse_event(event) {\n",
       "        return fig.toolbar_button_onmouseover(event['data']);\n",
       "    }\n",
       "\n",
       "    for(var toolbar_ind in mpl.toolbar_items){\n",
       "        var name = mpl.toolbar_items[toolbar_ind][0];\n",
       "        var tooltip = mpl.toolbar_items[toolbar_ind][1];\n",
       "        var image = mpl.toolbar_items[toolbar_ind][2];\n",
       "        var method_name = mpl.toolbar_items[toolbar_ind][3];\n",
       "\n",
       "        if (!name) { continue; };\n",
       "\n",
       "        var button = $('<button class=\"btn btn-default\" href=\"#\" title=\"' + name + '\"><i class=\"fa ' + image + ' fa-lg\"></i></button>');\n",
       "        button.click(method_name, toolbar_event);\n",
       "        button.mouseover(tooltip, toolbar_mouse_event);\n",
       "        nav_element.append(button);\n",
       "    }\n",
       "\n",
       "    // Add the status bar.\n",
       "    var status_bar = $('<span class=\"mpl-message\" style=\"text-align:right; float: right;\"/>');\n",
       "    nav_element.append(status_bar);\n",
       "    this.message = status_bar[0];\n",
       "\n",
       "    // Add the close button to the window.\n",
       "    var buttongrp = $('<div class=\"btn-group inline pull-right\"></div>');\n",
       "    var button = $('<button class=\"btn btn-mini btn-primary\" href=\"#\" title=\"Stop Interaction\"><i class=\"fa fa-power-off icon-remove icon-large\"></i></button>');\n",
       "    button.click(function (evt) { fig.handle_close(fig, {}); } );\n",
       "    button.mouseover('Stop Interaction', toolbar_mouse_event);\n",
       "    buttongrp.append(button);\n",
       "    var titlebar = this.root.find($('.ui-dialog-titlebar'));\n",
       "    titlebar.prepend(buttongrp);\n",
       "}\n",
       "\n",
       "mpl.figure.prototype._root_extra_style = function(el){\n",
       "    var fig = this\n",
       "    el.on(\"remove\", function(){\n",
       "\tfig.close_ws(fig, {});\n",
       "    });\n",
       "}\n",
       "\n",
       "mpl.figure.prototype._canvas_extra_style = function(el){\n",
       "    // this is important to make the div 'focusable\n",
       "    el.attr('tabindex', 0)\n",
       "    // reach out to IPython and tell the keyboard manager to turn it's self\n",
       "    // off when our div gets focus\n",
       "\n",
       "    // location in version 3\n",
       "    if (IPython.notebook.keyboard_manager) {\n",
       "        IPython.notebook.keyboard_manager.register_events(el);\n",
       "    }\n",
       "    else {\n",
       "        // location in version 2\n",
       "        IPython.keyboard_manager.register_events(el);\n",
       "    }\n",
       "\n",
       "}\n",
       "\n",
       "mpl.figure.prototype._key_event_extra = function(event, name) {\n",
       "    var manager = IPython.notebook.keyboard_manager;\n",
       "    if (!manager)\n",
       "        manager = IPython.keyboard_manager;\n",
       "\n",
       "    // Check for shift+enter\n",
       "    if (event.shiftKey && event.which == 13) {\n",
       "        this.canvas_div.blur();\n",
       "        event.shiftKey = false;\n",
       "        // Send a \"J\" for go to next cell\n",
       "        event.which = 74;\n",
       "        event.keyCode = 74;\n",
       "        manager.command_mode();\n",
       "        manager.handle_keydown(event);\n",
       "    }\n",
       "}\n",
       "\n",
       "mpl.figure.prototype.handle_save = function(fig, msg) {\n",
       "    fig.ondownload(fig, null);\n",
       "}\n",
       "\n",
       "\n",
       "mpl.find_output_cell = function(html_output) {\n",
       "    // Return the cell and output element which can be found *uniquely* in the notebook.\n",
       "    // Note - this is a bit hacky, but it is done because the \"notebook_saving.Notebook\"\n",
       "    // IPython event is triggered only after the cells have been serialised, which for\n",
       "    // our purposes (turning an active figure into a static one), is too late.\n",
       "    var cells = IPython.notebook.get_cells();\n",
       "    var ncells = cells.length;\n",
       "    for (var i=0; i<ncells; i++) {\n",
       "        var cell = cells[i];\n",
       "        if (cell.cell_type === 'code'){\n",
       "            for (var j=0; j<cell.output_area.outputs.length; j++) {\n",
       "                var data = cell.output_area.outputs[j];\n",
       "                if (data.data) {\n",
       "                    // IPython >= 3 moved mimebundle to data attribute of output\n",
       "                    data = data.data;\n",
       "                }\n",
       "                if (data['text/html'] == html_output) {\n",
       "                    return [cell, data, j];\n",
       "                }\n",
       "            }\n",
       "        }\n",
       "    }\n",
       "}\n",
       "\n",
       "// Register the function which deals with the matplotlib target/channel.\n",
       "// The kernel may be null if the page has been refreshed.\n",
       "if (IPython.notebook.kernel != null) {\n",
       "    IPython.notebook.kernel.comm_manager.register_target('matplotlib', mpl.mpl_figure_comm);\n",
       "}\n"
      ],
      "text/plain": [
       "<IPython.core.display.Javascript object>"
      ]
     },
     "metadata": {},
     "output_type": "display_data"
    },
    {
     "data": {
      "text/html": [
       "<img src=\"data:image/png;base64,iVBORw0KGgoAAAANSUhEUgAAAoAAAAHgCAYAAAA10dzkAAAAAXNSR0IArs4c6QAAAARnQU1BAACxjwv8YQUAAAS+SURBVHhe7cEBDQAAAMKg909tDjcgAAAAAAAAAAAAAAAAAAAAAAAAAAAAAAAAAAAAAAAAAAAAAAAAAAAAAAAAAAAAAAAAAAAAAAAAAAAAAAAAAAAAAAAAAAAAAAAAAAAAAAAAAAAAAAAAAAAAAAAAAAAAAAAAAAAAAAAAAAAAAAAAAAAAAAAAAAAAAAAAAAAAAAAAAAAAAAAAAAAAAAAAAAAAAAAAAAAAAAAAAAAAAAAAAAAAAAAAAAAAAAAAAAAAAAAAAAAAAAAAAAAAAAAAAAAAAAAAAAAAAAAAAAAAAAAAAAAAAAAAAAAAAAAAAAAAAAAAAAAAAAAAAAAAAAAAAAAAAAAAAAAAAAAAAAAAAAAAAAAAAAAAAAAAAAAAAAAAAAAAAAAAAAAAAAAAAAAAAAAAAAAAAAAAAAAAAAAAAAAAAAAAAAAAAAAAAAAAAAAAAAAAAAAAAAAAAAAAAAAAAAAAAAAAAAAAAAAAAAAAAAAAAAAAAAAAAAAAAAAAAAAAAAAAAAAAAAAAAAAAAAAAAAAAAAAAAAAAAAAAAAAAAAAAAAAAAAAAAAAAAAAAAAAAAAAAAAAAAAAAAAAAAAAAAAAAAAAAAAAAAAAAAAAAAAAAAAAAAAAAAAAAAAAAAAAAAAAAAAAAAAAAAAAAAAAAAAAAAAAAAAAAAAAAAAAAAAAAAAAAAAAAAAAAAAAAAAAAAAAAAAAAAAAAAAAAAAAAAAAAAAAAAAAAAAAAAAAAAAAAAAAAAAAAAAAAAAAAAAAAAAAAAAAAAAAAAAAAAAAAAAAAAAAAAAAAAAAAAAAAAAAAAAAAAAAAAAAAAAAAAAAAAAAAAAAAAAAAAAAAAAAAAAAAAAAAAAAAAAAAAAAAAAAAAAAAAAAAAAAAAAAAAAAAAAAAAAAAAAAAAAAAAAAAAAAAAAAAAAAAAAAAAAAAAAAAAAAAAAAAAAAAAAAAAAAAAAAAAAAAAAAAAAAAAAAAAAAAAAAAAAAAAAAAAAAAAAAAAAAAAAAAAAAAAAAAAAAAAAAAAAAAAAAAAAAAAAAAAAAAAAAAAAAAAAAAAAAAAAAAAAAAAAAAAAAAAAAAAAAAAAAAAAAAAAAAAAAAAAAAAAAAAAAAAAAAAAAAAAAAAAAAAAAAAAAAAAAAAAAAAAAAAAAAAAAAAAAAAAAAAAAAAAAAAAAAAAAAAAAAAAAAAAAAAAAAAAAAAAAAAAAAAAAAAAAAAAAAAAAAAAAAAAAAAAAAAAAAAAAAAAAAAAAAAAAAAAAAAAAAAAAAAAAAAAAAAAAAAAAAAAAAAAAAAAAAAAAAAAAAAAAAAAAAAAAAAAAAAAAAAAAAAAAAAAAAAAAAAAAAAAAAAAAAAAAAAAAAAAAAAAAAAAAAAAAAAAAAAAAAAAAAAAAAAAAAAAAAAAAAAAAAAAAAAAAAAAAAAAAAAAAAAAAAAAAAAAAAAAAAAAAAAAAAAAAAAAAAAAAAAAAAAAAAAAAAAAAAAAAAAAAAAAAAAAAAAAAAAAAAAAAAAAAAAAAAAAAAAAAAAAAAAAAAAAAAAAAAAAAAAAAAAAAAAAAAAAAAAAAAAAAAAAAAAAAAAAAAAAAAAAAAAAAAAAAAAAAAAAAAAAAAAACACzXC7gAB9GuoowAAAABJRU5ErkJggg==\" width=\"640\">"
      ],
      "text/plain": [
       "<IPython.core.display.HTML object>"
      ]
     },
     "metadata": {},
     "output_type": "display_data"
    },
    {
     "data": {
      "text/plain": [
       "([<matplotlib.axis.YTick at 0x19f8c8c0b70>,\n",
       "  <matplotlib.axis.YTick at 0x19f8c8c0400>,\n",
       "  <matplotlib.axis.YTick at 0x19f8c8b5c88>,\n",
       "  <matplotlib.axis.YTick at 0x19f8c91d710>,\n",
       "  <matplotlib.axis.YTick at 0x19f8c91dc18>,\n",
       "  <matplotlib.axis.YTick at 0x19f8c926208>,\n",
       "  <matplotlib.axis.YTick at 0x19f8c9266d8>,\n",
       "  <matplotlib.axis.YTick at 0x19f8c91df60>,\n",
       "  <matplotlib.axis.YTick at 0x19f8c926c18>,\n",
       "  <matplotlib.axis.YTick at 0x19f8c92d208>,\n",
       "  <matplotlib.axis.YTick at 0x19f8c92d6d8>,\n",
       "  <matplotlib.axis.YTick at 0x19f8c92dc18>,\n",
       "  <matplotlib.axis.YTick at 0x19f8c933208>,\n",
       "  <matplotlib.axis.YTick at 0x19f8c9336d8>,\n",
       "  <matplotlib.axis.YTick at 0x19f8c933c18>,\n",
       "  <matplotlib.axis.YTick at 0x19f8c93a208>,\n",
       "  <matplotlib.axis.YTick at 0x19f8c9335f8>,\n",
       "  <matplotlib.axis.YTick at 0x19f8c926cc0>,\n",
       "  <matplotlib.axis.YTick at 0x19f8c93a5c0>,\n",
       "  <matplotlib.axis.YTick at 0x19f8c93aac8>,\n",
       "  <matplotlib.axis.YTick at 0x19f8c93ae48>,\n",
       "  <matplotlib.axis.YTick at 0x19f8c941588>,\n",
       "  <matplotlib.axis.YTick at 0x19f8c941ac8>,\n",
       "  <matplotlib.axis.YTick at 0x19f8c941e48>,\n",
       "  <matplotlib.axis.YTick at 0x19f8c949588>,\n",
       "  <matplotlib.axis.YTick at 0x19f8c941cf8>,\n",
       "  <matplotlib.axis.YTick at 0x19f8c926ba8>,\n",
       "  <matplotlib.axis.YTick at 0x19f8c9490f0>,\n",
       "  <matplotlib.axis.YTick at 0x19f8c949f28>,\n",
       "  <matplotlib.axis.YTick at 0x19f8c9504a8>,\n",
       "  <matplotlib.axis.YTick at 0x19f8c9509e8>,\n",
       "  <matplotlib.axis.YTick at 0x19f8c950f28>,\n",
       "  <matplotlib.axis.YTick at 0x19f8c9574a8>],\n",
       " <a list of 33 Text yticklabel objects>)"
      ]
     },
     "execution_count": 27,
     "metadata": {},
     "output_type": "execute_result"
    }
   ],
   "source": [
    "%matplotlib notebook\n",
    "\n",
    "y_list = gbrt.feature_importances_\n",
    "y_pos = np.arange(len(y_list))\n",
    "features = var\n",
    "plt.barh(y_pos, y_list, align='center', alpha=0.4)\n",
    "plt.yticks(y_pos, features)"
   ]
  },
  {
   "cell_type": "markdown",
   "metadata": {},
   "source": [
    "### Regression Neural networks"
   ]
  },
  {
   "cell_type": "code",
   "execution_count": 28,
   "metadata": {},
   "outputs": [
    {
     "name": "stderr",
     "output_type": "stream",
     "text": [
      "C:\\Users\\clfee\\Anaconda3\\lib\\site-packages\\h5py\\__init__.py:36: FutureWarning: Conversion of the second argument of issubdtype from `float` to `np.floating` is deprecated. In future, it will be treated as `np.float64 == np.dtype(float).type`.\n",
      "  from ._conv import register_converters as _register_converters\n",
      "Using TensorFlow backend.\n"
     ]
    }
   ],
   "source": [
    "import numpy as np\n",
    "from sklearn.model_selection import GridSearchCV\n",
    "from keras.models import Sequential\n",
    "from keras.layers import Dense, Dropout, Activation\n",
    "from keras import optimizers\n",
    "from keras.callbacks import EarlyStopping, ModelCheckpoint, CSVLogger\n",
    "from keras.wrappers.scikit_learn import KerasClassifier"
   ]
  },
  {
   "cell_type": "code",
   "execution_count": 29,
   "metadata": {},
   "outputs": [],
   "source": [
    "from pylab import *\n",
    "\n",
    "batch_size = 15\n",
    "epochs = 300\n",
    "\n",
    "#Define the model\n",
    "def baseline_model():\n",
    "    # create model\n",
    "    model = Sequential()\n",
    "    model.add(Dense(33, input_dim=33, kernel_initializer='normal', activation='relu'))\n",
    "    #model.add(Dropout(0.2))\n",
    "    model.add(Dense(8, kernel_initializer='normal'))    \n",
    "    model.add(Dense(4, kernel_initializer='normal'))\n",
    "    model.add(Dense(1, kernel_initializer='normal'))\n",
    "\n",
    "   # Compile model\n",
    "    #model.compile(loss='mse', optimizer='adam' , metrics = ['mse'])\n",
    "    model.compile(optimizer=optimizers.RMSprop(lr=0.005), loss='mean_squared_error', metrics=['mse'])\n",
    "    #model.compile(optimizer = 'rmsprop', loss = 'mean_squared_error', metrics = ['accuracy'])\n",
    "    return model\n",
    "\n",
    "# Set callback functions to early stop training and save the best model so far\n",
    "callbacks = [EarlyStopping(monitor='val_loss', patience=2),\n",
    "             ModelCheckpoint(filepath='regr', monitor='val_loss', save_best_only=True)]"
   ]
  },
  {
   "cell_type": "code",
   "execution_count": 30,
   "metadata": {},
   "outputs": [
    {
     "name": "stdout",
     "output_type": "stream",
     "text": [
      "Train on 593 samples, validate on 66 samples\n",
      "Epoch 1/300\n",
      "593/593 [==============================] - 2s 3ms/step - loss: 0.7505 - mean_squared_error: 0.7505 - val_loss: 0.0702 - val_mean_squared_error: 0.0702\n",
      "Epoch 2/300\n",
      "593/593 [==============================] - 0s 371us/step - loss: 0.1693 - mean_squared_error: 0.1693 - val_loss: 0.1969 - val_mean_squared_error: 0.1969\n",
      "Epoch 3/300\n",
      "593/593 [==============================] - 0s 277us/step - loss: 0.1406 - mean_squared_error: 0.1406 - val_loss: 0.1354 - val_mean_squared_error: 0.1354\n"
     ]
    }
   ],
   "source": [
    "#Use the model\n",
    "seed = 1025\n",
    "np.random.seed(seed)\n",
    "regr = baseline_model()\n",
    "#es = EarlyStopping(monitor ='val_loss', patience=2)\n",
    "csv_logger = CSVLogger('training.log')\n",
    "regr_fit = regr.fit(X_train,y_train, epochs = epochs,batch_size = batch_size, \n",
    "                    verbose = 1, validation_split = 0.1,callbacks =callbacks)"
   ]
  },
  {
   "cell_type": "code",
   "execution_count": 31,
   "metadata": {},
   "outputs": [
    {
     "name": "stdout",
     "output_type": "stream",
     "text": [
      "_________________________________________________________________\n",
      "Layer (type)                 Output Shape              Param #   \n",
      "=================================================================\n",
      "dense_1 (Dense)              (None, 33)                1122      \n",
      "_________________________________________________________________\n",
      "dense_2 (Dense)              (None, 8)                 272       \n",
      "_________________________________________________________________\n",
      "dense_3 (Dense)              (None, 4)                 36        \n",
      "_________________________________________________________________\n",
      "dense_4 (Dense)              (None, 1)                 5         \n",
      "=================================================================\n",
      "Total params: 1,435\n",
      "Trainable params: 1,435\n",
      "Non-trainable params: 0\n",
      "_________________________________________________________________\n"
     ]
    }
   ],
   "source": [
    "regr.summary()"
   ]
  },
  {
   "cell_type": "code",
   "execution_count": 33,
   "metadata": {},
   "outputs": [
    {
     "name": "stdout",
     "output_type": "stream",
     "text": [
      "test loss: 0.1559222787618637\n"
     ]
    }
   ],
   "source": [
    "# Model evaluation\n",
    "score = regr.evaluate(X_test, y_test, verbose = 0)\n",
    "print('test loss:', score[0])"
   ]
  },
  {
   "cell_type": "code",
   "execution_count": 34,
   "metadata": {},
   "outputs": [
    {
     "data": {
      "image/png": "[encoded data removed]",
      "text/plain": [
       "<Figure size 432x288 with 1 Axes>"
      ]
     },
     "metadata": {},
     "output_type": "display_data"
    }
   ],
   "source": [
    "%matplotlib inline\n",
    "from matplotlib import pyplot as plt\n",
    "# Learning rersults\n",
    "loss = regr_fit.history['loss']\n",
    "val_loss = regr_fit.history['val_loss']\n",
    "epochs = len(loss)\n",
    "plt.plot(range(epochs),loss, marker = '.', label = 'loss(training data)')\n",
    "plt.plot(range(epochs),val_loss, marker = ',', label = 'val_loss(evaluation data)')\n",
    "plt.legend(loc='best')\n",
    "plt.grid()\n",
    "plt.xlabel('epoch')\n",
    "plt.ylabel('loss')\n",
    "plt.show()"
   ]
  },
  {
   "cell_type": "code",
   "execution_count": 35,
   "metadata": {},
   "outputs": [
    {
     "name": "stdout",
     "output_type": "stream",
     "text": [
      "MSE_nn: 0.15592228468742358\n"
     ]
    }
   ],
   "source": [
    "# Neuron network Results\n",
    "from sklearn.metrics import mean_squared_error, r2_score\n",
    "\n",
    "y_test_predict = regr.predict(X_test)\n",
    "\n",
    "MSE_nn = (mean_squared_error(y_test, y_test_predict))\n",
    "\n",
    "print('MSE_nn:', MSE_nn)"
   ]
  },
  {
   "cell_type": "markdown",
   "metadata": {},
   "source": [
    "### PCA"
   ]
  },
  {
   "cell_type": "code",
   "execution_count": 36,
   "metadata": {},
   "outputs": [],
   "source": [
    "from sklearn.preprocessing import StandardScaler\n",
    "from sklearn.decomposition import PCA\n",
    "\n",
    "#scaler = MinMaxScaler()\n",
    "scaler = StandardScaler()\n",
    "X_reduced = scaler.fit_transform(X)\n",
    "\n",
    "#create model\n",
    "pca = PCA(n_components = 0.95)\n",
    "\n",
    "#train PCA model\n",
    "pca.fit(X_reduced)\n",
    "#transform C-train and X_test\n",
    "X_scaled = pca.transform(X_reduced)\n",
    "\n",
    "# Split train and test\n",
    "\n",
    "X_train_mm, X_test_mm, y_train, y_test = train_test_split(X_scaled, y, random_state =15678 , test_size = 0.15)\n",
    "\n",
    "scaler  = StandardScaler()\n",
    "X_train = scaler.fit_transform(X_train_mm)\n",
    "X_test  = scaler.transform(X_test_mm)\n",
    "y_train = np.log1p(y_train)\n",
    "y_test  = np.log1p(y_test)"
   ]
  },
  {
   "cell_type": "markdown",
   "metadata": {},
   "source": [
    "### PCA LASSO and Ridge"
   ]
  },
  {
   "cell_type": "code",
   "execution_count": 38,
   "metadata": {},
   "outputs": [
    {
     "name": "stdout",
     "output_type": "stream",
     "text": [
      "MSE_Lasso: 0.06941575715891418\n",
      "MSE_Ridge: 0.06897054642049116\n"
     ]
    }
   ],
   "source": [
    "# LASSO\n",
    "from sklearn.linear_model import Lasso\n",
    "x_range = [0.001]\n",
    "train_score_list = []\n",
    "test_score_list = []\n",
    "\n",
    "for alpha in x_range: \n",
    "    lasso = Lasso(alpha)\n",
    "    lasso.fit(X_train,y_train)\n",
    "    train_score_list.append(lasso.score(X_train,y_train))\n",
    "    test_score_list.append(lasso.score(X_test, y_test))\n",
    "\n",
    "y_test_predict = lasso.predict(X_test)\n",
    "\n",
    "MSE_Lasso = (mean_squared_error(y_test, y_test_predict))\n",
    "\n",
    "#print('MSE:',np.square(y_test_predict-y_test).mean())\n",
    "print('MSE_Lasso:',MSE_Lasso)\n",
    "\n",
    "# Ridge\n",
    "from  sklearn.linear_model import Ridge\n",
    "\n",
    "x_range = [0.01]\n",
    "train_score_list = []\n",
    "test_score_list = []\n",
    "\n",
    "for alpha in x_range: \n",
    "    ridge = Ridge(alpha)\n",
    "    ridge.fit(X_train,y_train)\n",
    "    train_score_list.append(ridge.score(X_train,y_train))\n",
    "    test_score_list.append(ridge.score(X_test, y_test))\n",
    "\n",
    "y_test_predict = ridge.predict(X_test)\n",
    "MSE_Ridge = (mean_squared_error(y_test, y_test_predict))\n",
    "\n",
    "print('MSE_Ridge:', MSE_Ridge)"
   ]
  },
  {
   "cell_type": "markdown",
   "metadata": {},
   "source": [
    "### PCA KNN"
   ]
  },
  {
   "cell_type": "code",
   "execution_count": 39,
   "metadata": {},
   "outputs": [
    {
     "name": "stdout",
     "output_type": "stream",
     "text": [
      "MSE: 0.07792009597310275\n"
     ]
    }
   ],
   "source": [
    "from sklearn.neighbors import KNeighborsRegressor \n",
    "k = 2\n",
    "knn_reg = KNeighborsRegressor(k)\n",
    "\n",
    "knn_reg.fit(X_train, y_train)\n",
    "y_test_predict = knn_reg.predict(X_test)\n",
    "\n",
    "\n",
    "MSE_KNN = (mean_squared_error(y_test, y_test_predict))\n",
    "print('MSE:', MSE_KNN)"
   ]
  },
  {
   "cell_type": "markdown",
   "metadata": {},
   "source": [
    "### SGD Regressor "
   ]
  },
  {
   "cell_type": "code",
   "execution_count": 41,
   "metadata": {},
   "outputs": [
    {
     "name": "stdout",
     "output_type": "stream",
     "text": [
      "MSE_lin: 0.06897079693322726\n",
      "MSE_poly: 0.142711866805924\n"
     ]
    }
   ],
   "source": [
    "### PCA Linear Regression and Polynomial Regression\n",
    "\n",
    "from sklearn.linear_model import LinearRegression\n",
    "\n",
    "lreg = LinearRegression()\n",
    "lreg.fit(X_train, y_train)\n",
    "\n",
    "y_test_predict = lreg.predict(X_test)\n",
    "\n",
    "MSE_lin = (mean_squared_error(y_test, y_test_predict))\n",
    "\n",
    "print('MSE_lin:', MSE_lin)\n",
    "\n",
    "## Poly ##\n",
    "\n",
    "from  sklearn.preprocessing  import PolynomialFeatures\n",
    "\n",
    "lreg = LinearRegression()\n",
    "\n",
    "n =2\n",
    "poly = PolynomialFeatures(n)\n",
    "poly.fit(X_train)\n",
    "X_train_poly = poly.transform(X_train)\n",
    "X_test_poly = poly.transform(X_test)\n",
    "lreg.fit(X_train_poly, y_train)\n",
    "\n",
    "train_score = lreg.score(X_train_poly, y_train)\n",
    "test_score =lreg.score(X_test_poly, y_test)\n",
    "\n",
    "y_test_predict = lreg.predict(X_test_poly)\n",
    "\n",
    "MSE_poly = (mean_squared_error(y_test, y_test_predict))\n",
    "\n",
    "print('MSE_poly:', MSE_poly)"
   ]
  },
  {
   "cell_type": "markdown",
   "metadata": {},
   "source": [
    "### SGD Regressor and LinearSVR"
   ]
  },
  {
   "cell_type": "code",
   "execution_count": 42,
   "metadata": {},
   "outputs": [
    {
     "name": "stdout",
     "output_type": "stream",
     "text": [
      "MSE_sgd: 0.07669210284950974\n",
      "Grid best parameter (max. accuracy):  {'C': 0.01, 'epsilon': 0.1}\n",
      "MSE_lnSVR: 0.615377813594834\n"
     ]
    }
   ],
   "source": [
    "from sklearn.linear_model import SGDRegressor\n",
    "\n",
    "a = 0.1\n",
    "n= X_train.shape[0]\n",
    "\n",
    "# Fit regression model\n",
    "sgd_reg = SGDRegressor(random_state= 8364, alpha = a, max_iter = np.ceil(10**6/n), learning_rate = 'optimal', penalty = 'l2')\n",
    "sgd_reg.fit(X_train, y_train)\n",
    "\n",
    "y_test_predict = sgd_reg.predict(X_test)\n",
    "\n",
    "MSE_sgd = (mean_squared_error(y_test, y_test_predict))\n",
    "\n",
    "print('MSE_sgd:', MSE_sgd)\n",
    "\n",
    "##\n",
    "\n",
    "# LinearSVR \n",
    "from sklearn.svm import LinearSVR\n",
    "from sklearn.metrics import mean_squared_error, r2_score\n",
    "from sklearn.model_selection import GridSearchCV\n",
    "\n",
    "grid_values = {'epsilon': [0.005, 0.01, 0.1, 1, 10, 100],\n",
    "              'C': [0.005, 0.01, 0.1, 1, 10, 100]}\n",
    "\n",
    "clf = LinearSVR(dual=True, fit_intercept=True,intercept_scaling=1.0, loss='epsilon_insensitive', max_iter=1000,random_state=843647, tol=1e-04, verbose=0)\n",
    "\n",
    "#clf = LinearSVR()\n",
    "grid_clf = GridSearchCV(clf, cv = 5, param_grid = grid_values)\n",
    "\n",
    "grid_clf.fit(X_train, y_train)\n",
    "\n",
    "#y_decision_fn_scores_acc = grid_clf.predict(X_test) \n",
    "\n",
    "print('Grid best parameter (max. accuracy): ', grid_clf.best_params_)\n",
    "\n",
    "bclf = LinearSVR(**grid_clf.best_params_)\n",
    "bclf.fit(X_test, y_test) \n",
    "y_test_predict = bclf.predict(X_test)\n",
    "\n",
    "MSE_lnSVR = (mean_squared_error(y_test, y_test_predict))\n",
    "\n",
    "print('MSE_lnSVR:', MSE_lnSVR)\n"
   ]
  },
  {
   "cell_type": "markdown",
   "metadata": {},
   "source": [
    "### SVR RBF, SVR linear, and SVR poly"
   ]
  },
  {
   "cell_type": "code",
   "execution_count": 43,
   "metadata": {},
   "outputs": [
    {
     "name": "stdout",
     "output_type": "stream",
     "text": [
      "Grid best parameter (max. accuracy):  {'C': 10, 'gamma': 0.01}\n",
      "MSE_rbf: 0.014132621584839687\n",
      "Grid best parameter (max. accuracy):  {'C': 0.01}\n",
      "MSE_svr_klin: 0.30305006754697034\n",
      "Grid best parameter (max. accuracy):  {'C': 0.01}\n",
      "MSE_svr_poly: 0.4961704952121145\n"
     ]
    }
   ],
   "source": [
    "# SVR RBF\n",
    "from sklearn.svm import SVR\n",
    "from sklearn.metrics import mean_squared_error, r2_score\n",
    "from sklearn.model_selection import GridSearchCV\n",
    "\n",
    "grid_values = {'gamma': [0.01, 0.1, 1, 10, 100],\n",
    "              'C': [0.01, 0.1, 1, 10, 100]}\n",
    "\n",
    "svr_rbf = SVR(kernel='rbf')\n",
    "\n",
    "grid_clf = GridSearchCV(svr_rbf, cv = 5, param_grid = grid_values)\n",
    "\n",
    "grid_clf.fit(X_train, y_train)\n",
    "\n",
    "#y_decision_fn_scores_acc = grid_clf.predict(X_test) \n",
    "\n",
    "print('Grid best parameter (max. accuracy): ', grid_clf.best_params_)\n",
    "\n",
    "bclf = SVR(kernel = 'rbf',**grid_clf.best_params_)\n",
    "bclf.fit(X_test, y_test) \n",
    "y_test_predict = bclf.predict(X_test)\n",
    "\n",
    "MSE_rbf = (mean_squared_error(y_test, y_test_predict))\n",
    "\n",
    "print('MSE_rbf:', MSE_rbf)\n",
    "\n",
    "## SVR Linear\n",
    "# SVR Linear Kernel \n",
    "from sklearn.svm import SVR\n",
    "from sklearn.metrics import mean_squared_error, r2_score\n",
    "from sklearn.model_selection import GridSearchCV\n",
    "\n",
    "grid_values = {'C': [0.01, 0.1, 1, 10, 100]}\n",
    "\n",
    "svr_lin = SVR(kernel='linear')\n",
    "svr_lin.fit(X_train, y_train)\n",
    "\n",
    "grid_clf = GridSearchCV(svr_lin, cv = 5, param_grid = grid_values)\n",
    "\n",
    "grid_clf.fit(X_train, y_train)\n",
    "\n",
    "#y_decision_fn_scores_acc = grid_clf.predict(X_test) \n",
    "\n",
    "print('Grid best parameter (max. accuracy): ', grid_clf.best_params_)\n",
    "\n",
    "bclf = SVR(kernel = 'linear',**grid_clf.best_params_)\n",
    "bclf.fit(X_test, y_test) \n",
    "y_test_predict = bclf.predict(X_test)\n",
    "\n",
    "MSE_svr_klin = (mean_squared_error(y_test, y_test_predict))\n",
    "\n",
    "print('MSE_svr_klin:', MSE_svr_klin)\n",
    "\n",
    "## SVR Poly\n",
    "\n",
    "from sklearn.svm import SVR\n",
    "from sklearn.metrics import mean_squared_error\n",
    "from sklearn.model_selection import GridSearchCV\n",
    "\n",
    "grid_values = {'C': [0.01, 0.1, 1, 10, 100]}\n",
    "\n",
    "svr_poly = SVR(kernel='poly', gamma='auto', degree=3, epsilon=.1, coef0=1)\n",
    "\n",
    "grid_clf = GridSearchCV(svr_poly, cv = 5, param_grid = grid_values)\n",
    "grid_clf.fit(X_train, y_train)\n",
    "\n",
    "print('Grid best parameter (max. accuracy): ', grid_clf.best_params_)\n",
    "\n",
    "bclf = SVR(kernel='poly', gamma='auto', degree=3, epsilon=.1, coef0=1,**grid_clf.best_params_)\n",
    "bclf.fit(X_test, y_test) \n",
    "y_test_predict = bclf.predict(X_test)\n",
    "\n",
    "MSE_svr_poly = (mean_squared_error(y_test, y_test_predict))\n",
    "\n",
    "print('MSE_svr_poly:', MSE_svr_poly)"
   ]
  },
  {
   "cell_type": "code",
   "execution_count": 44,
   "metadata": {},
   "outputs": [
    {
     "name": "stdout",
     "output_type": "stream",
     "text": [
      "PCA : [0.06941575715891418, 0.06897054642049116, 0.07792009597310275, 0.06897079693322726, 0.142711866805924, 0.07669210284950974, 0.615377813594834, 0.014132621584839687, 0.30305006754697034, 0.4961704952121145]\n"
     ]
    }
   ],
   "source": [
    "PCA_results = [MSE_Lasso, MSE_Ridge, MSE_KNN, MSE_lin, MSE_poly, MSE_sgd, MSE_lnSVR, MSE_rbf, MSE_svr_klin, MSE_svr_poly]\n",
    "print('PCA :',PCA_results)"
   ]
  },
  {
   "cell_type": "code",
   "execution_count": 45,
   "metadata": {},
   "outputs": [
    {
     "name": "stdout",
     "output_type": "stream",
     "text": [
      "ori_results    |names          |PCA_results \n",
      "--------------------------------------------\n",
      "0.08457264245950262   |MSE_Lasso      |0.06941575715891418\n",
      "0.07675642061237507   |MSE_Ridge      |0.06897054642049116\n",
      "0.06641509150901805   |MSE_KNN        |0.07792009597310275\n",
      "0.08814859779051516   |MSE_lin        |0.06897079693322726\n",
      "6.745690914003219e+17   |MSE_poly       |0.142711866805924\n",
      "419475915966.3876   |MSE_sgd        |0.07669210284950974\n",
      "0.04700171203107682   |MSE_lnSVR      |0.615377813594834\n",
      "0.006493656796008494   |MSE_rbf        |0.014132621584839687\n",
      "0.06400080623040187   |MSE_svr_klin   |0.30305006754697034\n",
      "0.022436990864133175   |MSE_svr_poly   |0.4961704952121145\n"
     ]
    }
   ],
   "source": [
    "names = ['MSE_Lasso', 'MSE_Ridge', 'MSE_KNN', 'MSE_lin', 'MSE_poly', 'MSE_sgd', 'MSE_lnSVR', 'MSE_rbf', 'MSE_svr_klin', 'MSE_svr_poly']\n",
    "ori_results = [0.08457264245950262, 0.07675642061237507, 0.06641509150901805, 0.08814859779051516, 6.745690914003219e+17, 419475915966.3876, 0.04700171203107682, 0.006493656796008494, 0.06400080623040187, 0.022436990864133175]\n",
    "PCA_results = [MSE_Lasso, MSE_Ridge, MSE_KNN, MSE_lin, MSE_poly, MSE_sgd, MSE_lnSVR, MSE_rbf, MSE_svr_klin, MSE_svr_poly]\n",
    "\n",
    "titles = ['ori_results','names', 'PCA_results']\n",
    "data = [titles] + list(zip(ori_results, names,  PCA_results))\n",
    "\n",
    "for i, d in enumerate(data):\n",
    "    line = '   |'.join(str(x).ljust(12) for x in d)\n",
    "    print(line)\n",
    "    if i == 0:\n",
    "        print('-' * len(line))\n"
   ]
  },
  {
   "cell_type": "code",
   "execution_count": 49,
   "metadata": {},
   "outputs": [
    {
     "name": "stdout",
     "output_type": "stream",
     "text": [
      "[('MSE_Lasso', 0.17921735516123044), ('MSE_Ridge', 0.10143612911815002), ('MSE_KNN', -0.1732287677797224), ('MSE_lin', 0.21756217725509236), ('MSE_poly', 1.0), ('MSE_sgd', 0.9999999999998171), ('MSE_lnSVR', -12.092668054047808), ('MSE_rbf', -1.1763733484539396), ('MSE_svr_klin', -3.7350976557388194), ('MSE_svr_poly', -21.113950048679282)]\n"
     ]
    }
   ],
   "source": [
    "dif = []\n",
    "ori_results = np.array(ori_results)\n",
    "PCA_results = np.array(PCA_results)\n",
    "dif =(ori_results-PCA_results)/ori_results\n",
    "x = list(zip(names,  dif))\n",
    "print(x)"
   ]
  },
  {
   "cell_type": "markdown",
   "metadata": {},
   "source": [
    "### PCA vs No PCA\n"
   ]
  },
  {
   "cell_type": "markdown",
   "metadata": {},
   "source": [
    "- PCA helped to obtain better results in the  Polynomial regression and SGD models. The MSEs were much larger without PCA   \n",
    "  treatment.\n",
    "- On the other hand, PCA did not help to obtain better result, as MSE were more than 10 times larger after PCA treatment in the \n",
    "  linear SVR, SVR linear (with kernel trick), and SVR polynomial models.\n",
    "- The MSEs were quite similar with or without PCA in the rest of the modes.\n"
   ]
  },
  {
   "cell_type": "code",
   "execution_count": null,
   "metadata": {},
   "outputs": [],
   "source": []
  }
 ],
 "metadata": {
  "kernelspec": {
   "display_name": "Python 3",
   "language": "python",
   "name": "python3"
  },
  "language_info": {
   "codemirror_mode": {
    "name": "ipython",
    "version": 3
   },
   "file_extension": ".py",
   "mimetype": "text/x-python",
   "name": "python",
   "nbconvert_exporter": "python",
   "pygments_lexer": "ipython3",
   "version": "3.6.5"
  }
 },
 "nbformat": 4,
 "nbformat_minor": 2
}
