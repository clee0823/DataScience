{
 "cells": [
  {
   "cell_type": "markdown",
   "metadata": {},
   "source": [
    "### <font color='Green'> Classification Task\n",
    "\n",
    "Approach:\n",
    "- Combined train and test files\n",
    "- Explore data (correlation, distribution)\n",
    "- Determine important features\n",
    "- Model building\n",
    "- Validation with the hold-out set \n",
    "- Select best performed models\n",
    "\n",
    "EDA :\n",
    "- Nearly all the columns contain missing values\n",
    "- The values were normally distributed in all the numerics columns. Filled the missing values with the median in each column.\n",
    "- Mapped x34, x35, x68, x93 and removed the special characters in x41, x45.\n",
    "- Performed t-test on x35 to make sure names like fri and fridays, thu and thruday should not be combined.  \n",
    "- Filled the missing values with the most frequent value in x34, x35, x68, and x93. \n",
    "- Checked the distribution of x41 and x45 before filling NAs with their mean\n",
    "\n"    
   ]
  },
  {
   "cell_type": "code",
   "execution_count": 1,
   "metadata": {},
   "outputs": [],
   "source": [
    "import pandas as pd\n",
    "import numpy as np\n",
    "import matplotlib.pyplot as plt\n",
    "from pandas.plotting import scatter_matrix\n",
    "import seaborn as sns"
   ]
  },
  {
   "cell_type": "code",
   "execution_count": 2,
   "metadata": {},
   "outputs": [
    {
     "name": "stdout",
     "output_type": "stream",
     "text": [
      "(40000, 101)\n",
      "(10000, 100)\n"
     ]
    }
   ],
   "source": [
    "tr = pd.read_csv('../train.csv')\n",
    "te = pd.read_csv('../test.csv')\n",
    "print(tr.shape)\n",
    "print(te.shape)"
   ]
  },
  {
   "cell_type": "code",
   "execution_count": 3,
   "metadata": {},
   "outputs": [],
   "source": [
    "#### Combine test and train to fill NAs"
   ]
  },
  {
   "cell_type": "code",
   "execution_count": 4,
   "metadata": {},
   "outputs": [
    {
     "data": {
      "text/plain": [
       "(50000, 102)"
      ]
     },
     "execution_count": 4,
     "metadata": {},
     "output_type": "execute_result"
    }
   ],
   "source": [
    "# add idx and y to te and concatenate two sets\n",
    "te['y'] = 'NAN'\n",
    "df = pd.concat([tr,te], axis=0)\n",
    "df['idx'] = range(50000)       # index\n",
    "df.shape"
   ]
  },
  {
   "cell_type": "code",
   "execution_count": 5,
   "metadata": {},
   "outputs": [
    {
     "data": {
      "text/plain": [
       "(50000, 102)"
      ]
     },
     "execution_count": 5,
     "metadata": {},
     "output_type": "execute_result"
    }
   ],
   "source": [
    "df.shape # 1000 samples contain NA"
   ]
  },
  {
   "cell_type": "code",
   "execution_count": 6,
   "metadata": {},
   "outputs": [
    {
     "name": "stdout",
     "output_type": "stream",
     "text": [
      "94\n",
      "[]\n",
      "['x34', 'x45', 'x68', 'idx', 'x93', 'y', 'x41', 'x35']\n"
     ]
    }
   ],
   "source": [
    "# Devide column types\n",
    "a = list(df)\n",
    "flo_vars = list(df.select_dtypes(include=[np.float64]))\n",
    "int_vars = list(df.select_dtypes(include=[np.int64]))\n",
    "ch_vars  = list(set(a) - set(flo_vars)-set(int_vars))\n",
    "print(len(flo_vars))\n",
    "print(int_vars)\n",
    "print(ch_vars)"
   ]
  },
  {
   "cell_type": "code",
   "execution_count": 7,
   "metadata": {},
   "outputs": [
    {
     "data": {
      "text/html": [
       "<div>\n",
       "<style scoped>\n",
       "    .dataframe tbody tr th:only-of-type {\n",
       "        vertical-align: middle;\n",
       "    }\n",
       "\n",
       "    .dataframe tbody tr th {\n",
       "        vertical-align: top;\n",
       "    }\n",
       "\n",
       "    .dataframe thead th {\n",
       "        text-align: right;\n",
       "    }\n",
       "</style>\n",
       "<table border=\"1\" class=\"dataframe\">\n",
       "  <thead>\n",
       "    <tr style=\"text-align: right;\">\n",
       "      <th></th>\n",
       "      <th>x0</th>\n",
       "      <th>x1</th>\n",
       "      <th>x2</th>\n",
       "      <th>x3</th>\n",
       "      <th>x4</th>\n",
       "      <th>x5</th>\n",
       "      <th>x6</th>\n",
       "      <th>x7</th>\n",
       "      <th>x8</th>\n",
       "      <th>x9</th>\n",
       "      <th>...</th>\n",
       "      <th>x90</th>\n",
       "      <th>x91</th>\n",
       "      <th>x92</th>\n",
       "      <th>x94</th>\n",
       "      <th>x95</th>\n",
       "      <th>x96</th>\n",
       "      <th>x97</th>\n",
       "      <th>x98</th>\n",
       "      <th>x99</th>\n",
       "      <th>idx</th>\n",
       "    </tr>\n",
       "  </thead>\n",
       "  <tbody>\n",
       "    <tr>\n",
       "      <th>count</th>\n",
       "      <td>49986.000000</td>\n",
       "      <td>49988.000000</td>\n",
       "      <td>49991.000000</td>\n",
       "      <td>49987.000000</td>\n",
       "      <td>49992.000000</td>\n",
       "      <td>49989.000000</td>\n",
       "      <td>49989.000000</td>\n",
       "      <td>49987.000000</td>\n",
       "      <td>49993.000000</td>\n",
       "      <td>49991.000000</td>\n",
       "      <td>...</td>\n",
       "      <td>49992.000000</td>\n",
       "      <td>49995.000000</td>\n",
       "      <td>49992.000000</td>\n",
       "      <td>49988.000000</td>\n",
       "      <td>49991.000000</td>\n",
       "      <td>49983.000000</td>\n",
       "      <td>49987.000000</td>\n",
       "      <td>49993.000000</td>\n",
       "      <td>49985.000000</td>\n",
       "      <td>50000.000000</td>\n",
       "    </tr>\n",
       "    <tr>\n",
       "      <th>mean</th>\n",
       "      <td>22.927160</td>\n",
       "      <td>-0.058769</td>\n",
       "      <td>1.544536</td>\n",
       "      <td>-0.818440</td>\n",
       "      <td>0.313804</td>\n",
       "      <td>-0.863370</td>\n",
       "      <td>0.000880</td>\n",
       "      <td>-0.028259</td>\n",
       "      <td>-7.872697</td>\n",
       "      <td>-0.058154</td>\n",
       "      <td>...</td>\n",
       "      <td>-13.823563</td>\n",
       "      <td>0.004953</td>\n",
       "      <td>0.018006</td>\n",
       "      <td>-0.036068</td>\n",
       "      <td>-0.027905</td>\n",
       "      <td>-0.475170</td>\n",
       "      <td>-1.058265</td>\n",
       "      <td>0.005524</td>\n",
       "      <td>0.339263</td>\n",
       "      <td>24999.500000</td>\n",
       "    </tr>\n",
       "    <tr>\n",
       "      <th>std</th>\n",
       "      <td>107.964201</td>\n",
       "      <td>0.277365</td>\n",
       "      <td>36.494334</td>\n",
       "      <td>16.739482</td>\n",
       "      <td>40.990525</td>\n",
       "      <td>21.215947</td>\n",
       "      <td>0.742564</td>\n",
       "      <td>6.636588</td>\n",
       "      <td>35.449144</td>\n",
       "      <td>6.264077</td>\n",
       "      <td>...</td>\n",
       "      <td>152.802095</td>\n",
       "      <td>5.002489</td>\n",
       "      <td>6.467357</td>\n",
       "      <td>5.641379</td>\n",
       "      <td>32.334714</td>\n",
       "      <td>13.253572</td>\n",
       "      <td>7.663491</td>\n",
       "      <td>1.018896</td>\n",
       "      <td>8.560024</td>\n",
       "      <td>14433.901067</td>\n",
       "    </tr>\n",
       "    <tr>\n",
       "      <th>min</th>\n",
       "      <td>-413.886484</td>\n",
       "      <td>-1.177868</td>\n",
       "      <td>-155.506382</td>\n",
       "      <td>-72.148195</td>\n",
       "      <td>-154.979397</td>\n",
       "      <td>-85.536249</td>\n",
       "      <td>-2.882761</td>\n",
       "      <td>-25.483865</td>\n",
       "      <td>-145.002565</td>\n",
       "      <td>-24.544850</td>\n",
       "      <td>...</td>\n",
       "      <td>-668.827480</td>\n",
       "      <td>-19.361109</td>\n",
       "      <td>-28.136665</td>\n",
       "      <td>-24.462180</td>\n",
       "      <td>-147.149165</td>\n",
       "      <td>-60.310880</td>\n",
       "      <td>-30.759058</td>\n",
       "      <td>-4.264671</td>\n",
       "      <td>-35.844332</td>\n",
       "      <td>0.000000</td>\n",
       "    </tr>\n",
       "    <tr>\n",
       "      <th>25%</th>\n",
       "      <td>-50.389741</td>\n",
       "      <td>-0.245268</td>\n",
       "      <td>-22.986384</td>\n",
       "      <td>-12.152856</td>\n",
       "      <td>-27.373758</td>\n",
       "      <td>-15.247394</td>\n",
       "      <td>-0.502224</td>\n",
       "      <td>-4.502088</td>\n",
       "      <td>-31.598887</td>\n",
       "      <td>-4.275431</td>\n",
       "      <td>...</td>\n",
       "      <td>-115.232339</td>\n",
       "      <td>-3.371696</td>\n",
       "      <td>-4.353463</td>\n",
       "      <td>-3.872615</td>\n",
       "      <td>-21.705466</td>\n",
       "      <td>-9.353427</td>\n",
       "      <td>-6.222115</td>\n",
       "      <td>-0.681082</td>\n",
       "      <td>-5.467210</td>\n",
       "      <td>12499.750000</td>\n",
       "    </tr>\n",
       "    <tr>\n",
       "      <th>50%</th>\n",
       "      <td>23.112587</td>\n",
       "      <td>-0.060838</td>\n",
       "      <td>1.854966</td>\n",
       "      <td>-0.765840</td>\n",
       "      <td>0.357183</td>\n",
       "      <td>-0.834150</td>\n",
       "      <td>0.001813</td>\n",
       "      <td>-0.001634</td>\n",
       "      <td>-7.943740</td>\n",
       "      <td>-0.102832</td>\n",
       "      <td>...</td>\n",
       "      <td>-10.869701</td>\n",
       "      <td>-0.027675</td>\n",
       "      <td>0.019322</td>\n",
       "      <td>-0.014270</td>\n",
       "      <td>0.171275</td>\n",
       "      <td>-0.370608</td>\n",
       "      <td>-1.059015</td>\n",
       "      <td>0.005305</td>\n",
       "      <td>0.326318</td>\n",
       "      <td>24999.500000</td>\n",
       "    </tr>\n",
       "    <tr>\n",
       "      <th>75%</th>\n",
       "      <td>94.816592</td>\n",
       "      <td>0.125545</td>\n",
       "      <td>26.178933</td>\n",
       "      <td>10.523932</td>\n",
       "      <td>27.929486</td>\n",
       "      <td>13.505281</td>\n",
       "      <td>0.497452</td>\n",
       "      <td>4.437034</td>\n",
       "      <td>15.799707</td>\n",
       "      <td>4.147878</td>\n",
       "      <td>...</td>\n",
       "      <td>89.794252</td>\n",
       "      <td>3.379045</td>\n",
       "      <td>4.373027</td>\n",
       "      <td>3.769867</td>\n",
       "      <td>21.908402</td>\n",
       "      <td>8.471867</td>\n",
       "      <td>4.070072</td>\n",
       "      <td>0.692332</td>\n",
       "      <td>6.139033</td>\n",
       "      <td>37499.250000</td>\n",
       "    </tr>\n",
       "    <tr>\n",
       "      <th>max</th>\n",
       "      <td>499.670953</td>\n",
       "      <td>1.148882</td>\n",
       "      <td>146.662970</td>\n",
       "      <td>66.652223</td>\n",
       "      <td>174.290057</td>\n",
       "      <td>86.373854</td>\n",
       "      <td>3.704431</td>\n",
       "      <td>32.662041</td>\n",
       "      <td>180.625693</td>\n",
       "      <td>24.063544</td>\n",
       "      <td>...</td>\n",
       "      <td>599.273329</td>\n",
       "      <td>22.648086</td>\n",
       "      <td>27.252550</td>\n",
       "      <td>23.787097</td>\n",
       "      <td>134.227175</td>\n",
       "      <td>54.964038</td>\n",
       "      <td>32.236033</td>\n",
       "      <td>4.114639</td>\n",
       "      <td>36.351247</td>\n",
       "      <td>49999.000000</td>\n",
       "    </tr>\n",
       "  </tbody>\n",
       "</table>\n",
       "<p>8 rows × 95 columns</p>\n",
       "</div>"
      ],
      "text/plain": [
       "                 x0            x1            x2            x3            x4  \\\n",
       "count  49986.000000  49988.000000  49991.000000  49987.000000  49992.000000   \n",
       "mean      22.927160     -0.058769      1.544536     -0.818440      0.313804   \n",
       "std      107.964201      0.277365     36.494334     16.739482     40.990525   \n",
       "min     -413.886484     -1.177868   -155.506382    -72.148195   -154.979397   \n",
       "25%      -50.389741     -0.245268    -22.986384    -12.152856    -27.373758   \n",
       "50%       23.112587     -0.060838      1.854966     -0.765840      0.357183   \n",
       "75%       94.816592      0.125545     26.178933     10.523932     27.929486   \n",
       "max      499.670953      1.148882    146.662970     66.652223    174.290057   \n",
       "\n",
       "                 x5            x6            x7            x8            x9  \\\n",
       "count  49989.000000  49989.000000  49987.000000  49993.000000  49991.000000   \n",
       "mean      -0.863370      0.000880     -0.028259     -7.872697     -0.058154   \n",
       "std       21.215947      0.742564      6.636588     35.449144      6.264077   \n",
       "min      -85.536249     -2.882761    -25.483865   -145.002565    -24.544850   \n",
       "25%      -15.247394     -0.502224     -4.502088    -31.598887     -4.275431   \n",
       "50%       -0.834150      0.001813     -0.001634     -7.943740     -0.102832   \n",
       "75%       13.505281      0.497452      4.437034     15.799707      4.147878   \n",
       "max       86.373854      3.704431     32.662041    180.625693     24.063544   \n",
       "\n",
       "           ...                x90           x91           x92           x94  \\\n",
       "count      ...       49992.000000  49995.000000  49992.000000  49988.000000   \n",
       "mean       ...         -13.823563      0.004953      0.018006     -0.036068   \n",
       "std        ...         152.802095      5.002489      6.467357      5.641379   \n",
       "min        ...        -668.827480    -19.361109    -28.136665    -24.462180   \n",
       "25%        ...        -115.232339     -3.371696     -4.353463     -3.872615   \n",
       "50%        ...         -10.869701     -0.027675      0.019322     -0.014270   \n",
       "75%        ...          89.794252      3.379045      4.373027      3.769867   \n",
       "max        ...         599.273329     22.648086     27.252550     23.787097   \n",
       "\n",
       "                x95           x96           x97           x98           x99  \\\n",
       "count  49991.000000  49983.000000  49987.000000  49993.000000  49985.000000   \n",
       "mean      -0.027905     -0.475170     -1.058265      0.005524      0.339263   \n",
       "std       32.334714     13.253572      7.663491      1.018896      8.560024   \n",
       "min     -147.149165    -60.310880    -30.759058     -4.264671    -35.844332   \n",
       "25%      -21.705466     -9.353427     -6.222115     -0.681082     -5.467210   \n",
       "50%        0.171275     -0.370608     -1.059015      0.005305      0.326318   \n",
       "75%       21.908402      8.471867      4.070072      0.692332      6.139033   \n",
       "max      134.227175     54.964038     32.236033      4.114639     36.351247   \n",
       "\n",
       "                idx  \n",
       "count  50000.000000  \n",
       "mean   24999.500000  \n",
       "std    14433.901067  \n",
       "min        0.000000  \n",
       "25%    12499.750000  \n",
       "50%    24999.500000  \n",
       "75%    37499.250000  \n",
       "max    49999.000000  \n",
       "\n",
       "[8 rows x 95 columns]"
      ]
     },
     "execution_count": 7,
     "metadata": {},
     "output_type": "execute_result"
    }
   ],
   "source": [
    "df.describe()"
   ]
  },
  {
   "cell_type": "code",
   "execution_count": 8,
   "metadata": {},
   "outputs": [
    {
     "data": {
      "image/png": "[encoded data removed]",
      "text/plain": [
       "<Figure size 360x360 with 30 Axes>"
      ]
     },
     "metadata": {},
     "output_type": "display_data"
    }
   ],
   "source": [
    "# Visualize of some numeric variables\n",
    "sns.set()\n",
    "sns.pairplot(df[['x11', 'x12', 'x13', 'x14', 'x15']].dropna(),height = 1 ,kind ='scatter')\n",
    "plt.show()"
   ]
  },
  {
   "cell_type": "code",
   "execution_count": 9,
   "metadata": {},
   "outputs": [],
   "source": [
    "# fill NA with median (float vars)\n",
    "for i in flo_vars:\n",
    "    df[flo_vars] = df[flo_vars].fillna(df[flo_vars].median(), inplace = False)    "
   ]
  },
  {
   "cell_type": "code",
   "execution_count": 10,
   "metadata": {},
   "outputs": [],
   "source": [
    "# Map character \n",
    "df['x93'] = df['x93'].map({'america':0, 'asia':1, 'euorpe':2})\n",
    "df['x68'] = df['x68'].map({'January':1, 'Feb': 2, 'Mar':3 ,'Apr':4, 'May': 5, 'Jun':6, 'July':7, 'Aug': 8, 'sept.':9,\n",
    "                              'Oct':10, 'Nov': 11, 'Dev':12})\n",
    "df['x35'] = df['x35'].map({'monday':1, 'tuesday': 2, 'wed':3 ,'wednesday':31, 'thur':4, 'thurday': 41, 'friday':51, 'fri':5})\n",
    "df['x34'] = df['x34'].map({'Honda':1, 'Toyota': 2, 'bmw':3 ,'chevrolet':4, 'chrystler': 5, 'ford':6, 'mercades':7, 'nissan': 8,\n",
    "                             'tesla':9,'volkswagon':10})"
   ]
  },
  {
   "cell_type": "code",
   "execution_count": 11,
   "metadata": {},
   "outputs": [
    {
     "data": {
      "text/plain": [
       "<matplotlib.axes._subplots.AxesSubplot at 0x1a741c2c5c0>"
      ]
     },
     "execution_count": 11,
     "metadata": {},
     "output_type": "execute_result"
    },
    {
     "data": {
      "image/png": "[encoded data removed]",
      "text/plain": [
       "<Figure size 504x216 with 1 Axes>"
      ]
     },
     "metadata": {},
     "output_type": "display_data"
    }
   ],
   "source": [
    "# Car type \n",
    "f, ax = plt.subplots(figsize=(7, 3))\n",
    "sns.countplot(y=\"x34\", data=df, color=\"c\")"
   ]
  },
  {
   "cell_type": "code",
   "execution_count": 12,
   "metadata": {},
   "outputs": [
    {
     "data": {
      "text/plain": [
       "<matplotlib.axes._subplots.AxesSubplot at 0x1a741c62320>"
      ]
     },
     "execution_count": 12,
     "metadata": {},
     "output_type": "execute_result"
    },
    {
     "data": {
      "image/png": "[encoded data removed]",
      "text/plain": [
       "<Figure size 504x216 with 1 Axes>"
      ]
     },
     "metadata": {},
     "output_type": "display_data"
    }
   ],
   "source": [
    "# Continent \n",
    "f, ax = plt.subplots(figsize=(7, 3))\n",
    "sns.countplot(y=\"x93\", data=df, color=\"c\")"
   ]
  },
  {
   "cell_type": "code",
   "execution_count": 13,
   "metadata": {},
   "outputs": [
    {
     "data": {
      "text/plain": [
       "<matplotlib.axes._subplots.AxesSubplot at 0x1a741fd2898>"
      ]
     },
     "execution_count": 13,
     "metadata": {},
     "output_type": "execute_result"
    },
    {
     "data": {
      "image/png": "[encoded data removed]",
      "text/plain": [
       "<Figure size 504x216 with 1 Axes>"
      ]
     },
     "metadata": {},
     "output_type": "display_data"
    }
   ],
   "source": [
    "# weekday \n",
    "f, ax = plt.subplots(figsize=(7, 3))\n",
    "sns.countplot(y=\"x35\", data=df, color=\"c\")"
   ]
  },
  {
   "cell_type": "code",
   "execution_count": 14,
   "metadata": {},
   "outputs": [
    {
     "data": {
      "text/plain": [
       "<matplotlib.axes._subplots.AxesSubplot at 0x1a743dcffd0>"
      ]
     },
     "execution_count": 14,
     "metadata": {},
     "output_type": "execute_result"
    },
    {
     "data": {
      "image/png": "[encoded data removed]",
      "text/plain": [
       "<Figure size 504x216 with 1 Axes>"
      ]
     },
     "metadata": {},
     "output_type": "display_data"
    }
   ],
   "source": [
    "# Month \n",
    "f, ax = plt.subplots(figsize=(7, 3))\n",
    "sns.countplot(y=\"x68\", data=df, color=\"c\")"
   ]
  },
  {
   "cell_type": "code",
   "execution_count": 15,
   "metadata": {},
   "outputs": [],
   "source": [
    "# Fill NA with the most frequent value ('mean' based on the distribution) \n",
    "df['x34'] = df['x34'].fillna(df['x34'].mean(), inplace = False)\n",
    "df['x35'] = df['x35'].fillna(df['x35'].mean(), inplace = False)\n",
    "df['x68'] = df['x68'].fillna(df['x68'].mean(), inplace = False)\n",
    "df['x93'] = df['x93'].fillna(df['x93'].mean(), inplace = False)"
   ]
  },
  {
   "cell_type": "markdown",
   "metadata": {},
   "source": [
    "##### Need to make sure 3,31 5, 51, and 4, 41 are not the same !"
   ]
  },
  {
   "cell_type": "code",
   "execution_count": 16,
   "metadata": {},
   "outputs": [
    {
     "name": "stdout",
     "output_type": "stream",
     "text": [
      "Differences in 3 vs 31 : 38\n",
      "Differences in 4 vs 41 : 34\n",
      "Differences in 5 vs 51 : 28\n"
     ]
    }
   ],
   "source": [
    "import numpy as np\n",
    "from scipy.stats import ttest_ind, ttest_ind_from_stats\n",
    "from scipy.special import stdtr\n",
    "\n",
    "# Create sample data.\n",
    "a = df[flo_vars][df['x35'] == 3] \n",
    "b = df[flo_vars][df['x35'] == 31] \n",
    "c = df[flo_vars][df['x35'] == 4] \n",
    "d = df[flo_vars][df['x35'] == 41] \n",
    "e = df[flo_vars][df['x35'] == 5] \n",
    "f = df[flo_vars][df['x35'] == 51]\n",
    "\n",
    "# Use scipy.stats.ttest_ind.\n",
    "p1 = ttest_ind(a, b, equal_var=False)\n",
    "p2 = ttest_ind(c, d, equal_var=False)\n",
    "p3 = ttest_ind(e, f, equal_var=False)\n",
    "#print(\"ttest_ind: t = %g  p = %g\" % (t, p))\n",
    "\n",
    "print('Differences in 3 vs 31 :',np.bincount(sum(p1) >0.05)[0]) # (False, True)\n",
    "print('Differences in 4 vs 41 :',np.bincount(sum(p2) >0.05)[0])\n",
    "print('Differences in 5 vs 51 :',np.bincount(sum(p3) >0.05)[0])"
   ]
  },
  {
   "cell_type": "markdown",
   "metadata": {},
   "source": [
    "Around 35% of columns show a significant differece between 'wed' &'wednesday', 'thur' &'thurday','friday'&'fri'\n",
    "Therefore, decide not to merge them"
   ]
  },
  {
   "cell_type": "code",
   "execution_count": 17,
   "metadata": {},
   "outputs": [
    {
     "data": {
      "text/html": [
       "<div>\n",
       "<style scoped>\n",
       "    .dataframe tbody tr th:only-of-type {\n",
       "        vertical-align: middle;\n",
       "    }\n",
       "\n",
       "    .dataframe tbody tr th {\n",
       "        vertical-align: top;\n",
       "    }\n",
       "\n",
       "    .dataframe thead th {\n",
       "        text-align: right;\n",
       "    }\n",
       "</style>\n",
       "<table border=\"1\" class=\"dataframe\">\n",
       "  <thead>\n",
       "    <tr style=\"text-align: right;\">\n",
       "      <th></th>\n",
       "      <th>x34</th>\n",
       "      <th>x45</th>\n",
       "      <th>x68</th>\n",
       "      <th>idx</th>\n",
       "      <th>x93</th>\n",
       "      <th>y</th>\n",
       "      <th>x41</th>\n",
       "      <th>x35</th>\n",
       "    </tr>\n",
       "  </thead>\n",
       "  <tbody>\n",
       "    <tr>\n",
       "      <th>3272</th>\n",
       "      <td>2.0</td>\n",
       "      <td>NaN</td>\n",
       "      <td>5.0</td>\n",
       "      <td>3272</td>\n",
       "      <td>1.0</td>\n",
       "      <td>0</td>\n",
       "      <td>$364.18</td>\n",
       "      <td>4.0</td>\n",
       "    </tr>\n",
       "    <tr>\n",
       "      <th>7268</th>\n",
       "      <td>10.0</td>\n",
       "      <td>NaN</td>\n",
       "      <td>5.0</td>\n",
       "      <td>7268</td>\n",
       "      <td>1.0</td>\n",
       "      <td>0</td>\n",
       "      <td>$1085.49</td>\n",
       "      <td>3.0</td>\n",
       "    </tr>\n",
       "    <tr>\n",
       "      <th>10886</th>\n",
       "      <td>10.0</td>\n",
       "      <td>NaN</td>\n",
       "      <td>6.0</td>\n",
       "      <td>10886</td>\n",
       "      <td>1.0</td>\n",
       "      <td>1</td>\n",
       "      <td>$-660.57</td>\n",
       "      <td>3.0</td>\n",
       "    </tr>\n",
       "    <tr>\n",
       "      <th>13811</th>\n",
       "      <td>2.0</td>\n",
       "      <td>NaN</td>\n",
       "      <td>6.0</td>\n",
       "      <td>13811</td>\n",
       "      <td>1.0</td>\n",
       "      <td>0</td>\n",
       "      <td>$-849.58</td>\n",
       "      <td>41.0</td>\n",
       "    </tr>\n",
       "    <tr>\n",
       "      <th>22440</th>\n",
       "      <td>10.0</td>\n",
       "      <td>-0.01%</td>\n",
       "      <td>6.0</td>\n",
       "      <td>22440</td>\n",
       "      <td>1.0</td>\n",
       "      <td>0</td>\n",
       "      <td>NaN</td>\n",
       "      <td>41.0</td>\n",
       "    </tr>\n",
       "    <tr>\n",
       "      <th>24478</th>\n",
       "      <td>1.0</td>\n",
       "      <td>-0.02%</td>\n",
       "      <td>7.0</td>\n",
       "      <td>24478</td>\n",
       "      <td>1.0</td>\n",
       "      <td>0</td>\n",
       "      <td>NaN</td>\n",
       "      <td>41.0</td>\n",
       "    </tr>\n",
       "    <tr>\n",
       "      <th>25032</th>\n",
       "      <td>2.0</td>\n",
       "      <td>-0.01%</td>\n",
       "      <td>7.0</td>\n",
       "      <td>25032</td>\n",
       "      <td>1.0</td>\n",
       "      <td>0</td>\n",
       "      <td>NaN</td>\n",
       "      <td>3.0</td>\n",
       "    </tr>\n",
       "    <tr>\n",
       "      <th>26557</th>\n",
       "      <td>10.0</td>\n",
       "      <td>0.02%</td>\n",
       "      <td>4.0</td>\n",
       "      <td>26557</td>\n",
       "      <td>1.0</td>\n",
       "      <td>1</td>\n",
       "      <td>NaN</td>\n",
       "      <td>4.0</td>\n",
       "    </tr>\n",
       "    <tr>\n",
       "      <th>26630</th>\n",
       "      <td>3.0</td>\n",
       "      <td>-0.01%</td>\n",
       "      <td>9.0</td>\n",
       "      <td>26630</td>\n",
       "      <td>1.0</td>\n",
       "      <td>0</td>\n",
       "      <td>NaN</td>\n",
       "      <td>41.0</td>\n",
       "    </tr>\n",
       "    <tr>\n",
       "      <th>29896</th>\n",
       "      <td>10.0</td>\n",
       "      <td>-0.0%</td>\n",
       "      <td>8.0</td>\n",
       "      <td>29896</td>\n",
       "      <td>1.0</td>\n",
       "      <td>0</td>\n",
       "      <td>NaN</td>\n",
       "      <td>3.0</td>\n",
       "    </tr>\n",
       "    <tr>\n",
       "      <th>38008</th>\n",
       "      <td>10.0</td>\n",
       "      <td>NaN</td>\n",
       "      <td>8.0</td>\n",
       "      <td>38008</td>\n",
       "      <td>1.0</td>\n",
       "      <td>0</td>\n",
       "      <td>$-701.12</td>\n",
       "      <td>41.0</td>\n",
       "    </tr>\n",
       "    <tr>\n",
       "      <th>2579</th>\n",
       "      <td>1.0</td>\n",
       "      <td>NaN</td>\n",
       "      <td>8.0</td>\n",
       "      <td>42579</td>\n",
       "      <td>1.0</td>\n",
       "      <td>NAN</td>\n",
       "      <td>$-163.55</td>\n",
       "      <td>41.0</td>\n",
       "    </tr>\n",
       "    <tr>\n",
       "      <th>9049</th>\n",
       "      <td>3.0</td>\n",
       "      <td>NaN</td>\n",
       "      <td>8.0</td>\n",
       "      <td>49049</td>\n",
       "      <td>0.0</td>\n",
       "      <td>NAN</td>\n",
       "      <td>$-539.3</td>\n",
       "      <td>3.0</td>\n",
       "    </tr>\n",
       "  </tbody>\n",
       "</table>\n",
       "</div>"
      ],
      "text/plain": [
       "        x34     x45  x68    idx  x93    y       x41   x35\n",
       "3272    2.0     NaN  5.0   3272  1.0    0   $364.18   4.0\n",
       "7268   10.0     NaN  5.0   7268  1.0    0  $1085.49   3.0\n",
       "10886  10.0     NaN  6.0  10886  1.0    1  $-660.57   3.0\n",
       "13811   2.0     NaN  6.0  13811  1.0    0  $-849.58  41.0\n",
       "22440  10.0  -0.01%  6.0  22440  1.0    0       NaN  41.0\n",
       "24478   1.0  -0.02%  7.0  24478  1.0    0       NaN  41.0\n",
       "25032   2.0  -0.01%  7.0  25032  1.0    0       NaN   3.0\n",
       "26557  10.0   0.02%  4.0  26557  1.0    1       NaN   4.0\n",
       "26630   3.0  -0.01%  9.0  26630  1.0    0       NaN  41.0\n",
       "29896  10.0   -0.0%  8.0  29896  1.0    0       NaN   3.0\n",
       "38008  10.0     NaN  8.0  38008  1.0    0  $-701.12  41.0\n",
       "2579    1.0     NaN  8.0  42579  1.0  NAN  $-163.55  41.0\n",
       "9049    3.0     NaN  8.0  49049  0.0  NAN   $-539.3   3.0"
      ]
     },
     "execution_count": 17,
     "metadata": {},
     "output_type": "execute_result"
    }
   ],
   "source": [
    "# check NAs\n",
    "df[ch_vars][df[ch_vars].isnull().any(1)]"
   ]
  },
  {
   "cell_type": "code",
   "execution_count": 18,
   "metadata": {},
   "outputs": [],
   "source": [
    "# remove special char\n",
    "df['x41'] = df['x41'].map(lambda x: str(x)[1:])\n",
    "df['x45'] = df['x45'].map(lambda x: str(x)[:-1])"
   ]
  },
  {
   "cell_type": "code",
   "execution_count": 19,
   "metadata": {},
   "outputs": [
    {
     "data": {
      "text/plain": [
       "22440    -0.01\n",
       "24478    -0.02\n",
       "25032    -0.01\n",
       "26557     0.02\n",
       "26630    -0.01\n",
       "29896     -0.0\n",
       "Name: x45, dtype: object"
      ]
     },
     "execution_count": 19,
     "metadata": {},
     "output_type": "execute_result"
    }
   ],
   "source": [
    "# make sure ther is no char in x41 and x45\n",
    "\n",
    "a = pd.to_numeric(df.x41, errors='coerce')\n",
    "iddx = a.isna()\n",
    "df[iddx].x45"
   ]
  },
  {
   "cell_type": "code",
   "execution_count": 20,
   "metadata": {},
   "outputs": [],
   "source": [
    "df['x41'] = df['x41'].replace('an', np.NaN, inplace = False)\n",
    "df['x45'] = df['x45'].replace('na', np.NaN, inplace = False)"
   ]
  },
  {
   "cell_type": "code",
   "execution_count": 21,
   "metadata": {},
   "outputs": [
    {
     "data": {
      "text/plain": [
       "4327.53"
      ]
     },
     "execution_count": 21,
     "metadata": {},
     "output_type": "execute_result"
    }
   ],
   "source": [
    "df['x41'] = df['x41'].astype(np.float64)\n",
    "df['x45'] = df['x45'].astype(np.float64)\n",
    "df['x41'].max()"
   ]
  },
  {
   "cell_type": "code",
   "execution_count": 22,
   "metadata": {},
   "outputs": [
    {
     "data": {
      "text/plain": [
       "<matplotlib.axes._subplots.AxesSubplot at 0x1a741aa92b0>"
      ]
     },
     "execution_count": 22,
     "metadata": {},
     "output_type": "execute_result"
    },
    {
     "data": {
      "image/png": "[encoded data removed]",
      "text/plain": [
       "<Figure size 504x216 with 1 Axes>"
      ]
     },
     "metadata": {},
     "output_type": "display_data"
    }
   ],
   "source": [
    "# x45 summary  \n",
    "f, ax = plt.subplots(figsize=(7, 3))\n",
    "x = df['x45'][~np.isnan(df['x45'])]\n",
    "sns.countplot(y= x, data=df, color=\"c\")"
   ]
  },
  {
   "cell_type": "code",
   "execution_count": 23,
   "metadata": {},
   "outputs": [
    {
     "name": "stderr",
     "output_type": "stream",
     "text": [
      "C:\\Users\\clfee\\Anaconda3\\lib\\site-packages\\ipykernel_launcher.py:18: MatplotlibDeprecationWarning: scipy.stats.norm.pdf\n"
     ]
    },
    {
     "data": {
      "image/png": "[encoded data removed]",
      "text/plain": [
       "<Figure size 432x288 with 1 Axes>"
      ]
     },
     "metadata": {},
     "output_type": "display_data"
    }
   ],
   "source": [
    "# Normal distribution of x41\n",
    "\n",
    "import numpy as np\n",
    "import matplotlib.mlab as mlab\n",
    "import matplotlib.pyplot as plt\n",
    "\n",
    "# example data\n",
    "mu = df['x41'].mean() # mean of distribution\n",
    "sigma = df['x41'].std() # standard deviation of distribution\n",
    "x = df['x41'][~np.isnan(df['x41'])]\n",
    "\n",
    "\n",
    "num_bins = 200\n",
    "# the histogram of the data\n",
    "n, bins, patches = plt.hist(x, num_bins, density=1, facecolor='blue', alpha=0.5)\n",
    "\n",
    "# add a 'best fit' line\n",
    "y = mlab.normpdf(bins, mu, sigma)\n",
    "plt.plot(bins, y, 'r--')\n",
    "plt.xlabel('X41')\n",
    "plt.ylabel('Frequency')\n",
    "plt.title(r'Histogram of x41')\n",
    "\n",
    "# Tweak spacing to prevent clipping of ylabel\n",
    "plt.subplots_adjust(left=0.15)\n",
    "plt.show()"
   ]
  },
  {
   "cell_type": "code",
   "execution_count": 24,
   "metadata": {},
   "outputs": [
    {
     "data": {
      "text/html": [
       "<div>\n",
       "<style scoped>\n",
       "    .dataframe tbody tr th:only-of-type {\n",
       "        vertical-align: middle;\n",
       "    }\n",
       "\n",
       "    .dataframe tbody tr th {\n",
       "        vertical-align: top;\n",
       "    }\n",
       "\n",
       "    .dataframe thead th {\n",
       "        text-align: right;\n",
       "    }\n",
       "</style>\n",
       "<table border=\"1\" class=\"dataframe\">\n",
       "  <thead>\n",
       "    <tr style=\"text-align: right;\">\n",
       "      <th></th>\n",
       "      <th>x34</th>\n",
       "      <th>x45</th>\n",
       "      <th>x68</th>\n",
       "      <th>idx</th>\n",
       "      <th>x93</th>\n",
       "      <th>y</th>\n",
       "      <th>x41</th>\n",
       "      <th>x35</th>\n",
       "    </tr>\n",
       "  </thead>\n",
       "  <tbody>\n",
       "    <tr>\n",
       "      <th>0</th>\n",
       "      <td>1.0</td>\n",
       "      <td>0.00</td>\n",
       "      <td>7.0</td>\n",
       "      <td>0</td>\n",
       "      <td>1.0</td>\n",
       "      <td>0</td>\n",
       "      <td>229.47</td>\n",
       "      <td>3.0</td>\n",
       "    </tr>\n",
       "    <tr>\n",
       "      <th>1</th>\n",
       "      <td>1.0</td>\n",
       "      <td>-0.00</td>\n",
       "      <td>6.0</td>\n",
       "      <td>1</td>\n",
       "      <td>1.0</td>\n",
       "      <td>0</td>\n",
       "      <td>213.90</td>\n",
       "      <td>31.0</td>\n",
       "    </tr>\n",
       "    <tr>\n",
       "      <th>2</th>\n",
       "      <td>10.0</td>\n",
       "      <td>-0.02</td>\n",
       "      <td>8.0</td>\n",
       "      <td>2</td>\n",
       "      <td>1.0</td>\n",
       "      <td>0</td>\n",
       "      <td>2207.13</td>\n",
       "      <td>41.0</td>\n",
       "    </tr>\n",
       "    <tr>\n",
       "      <th>3</th>\n",
       "      <td>10.0</td>\n",
       "      <td>-0.00</td>\n",
       "      <td>7.0</td>\n",
       "      <td>3</td>\n",
       "      <td>1.0</td>\n",
       "      <td>0</td>\n",
       "      <td>82.09</td>\n",
       "      <td>41.0</td>\n",
       "    </tr>\n",
       "    <tr>\n",
       "      <th>4</th>\n",
       "      <td>6.0</td>\n",
       "      <td>0.01</td>\n",
       "      <td>7.0</td>\n",
       "      <td>4</td>\n",
       "      <td>1.0</td>\n",
       "      <td>0</td>\n",
       "      <td>273.61</td>\n",
       "      <td>41.0</td>\n",
       "    </tr>\n",
       "  </tbody>\n",
       "</table>\n",
       "</div>"
      ],
      "text/plain": [
       "    x34   x45  x68  idx  x93  y      x41   x35\n",
       "0   1.0  0.00  7.0    0  1.0  0   229.47   3.0\n",
       "1   1.0 -0.00  6.0    1  1.0  0   213.90  31.0\n",
       "2  10.0 -0.02  8.0    2  1.0  0  2207.13  41.0\n",
       "3  10.0 -0.00  7.0    3  1.0  0    82.09  41.0\n",
       "4   6.0  0.01  7.0    4  1.0  0   273.61  41.0"
      ]
     },
     "execution_count": 24,
     "metadata": {},
     "output_type": "execute_result"
    }
   ],
   "source": [
    "df['x45']=  df['x45'].fillna(df['x45'].mean(), inplace = False)\n",
    "df['x41'] = df['x41'].fillna(df['x41'].mean(), inplace = False)\n",
    "\n",
    "df[ch_vars].head(5)"
   ]
  },
  {
   "cell_type": "markdown",
   "metadata": {},
   "source": [
    "#### Data Checkpoint"
   ]
  },
  {
   "cell_type": "code",
   "execution_count": 25,
   "metadata": {},
   "outputs": [
    {
     "data": {
      "text/html": [
       "<div>\n",
       "<style scoped>\n",
       "    .dataframe tbody tr th:only-of-type {\n",
       "        vertical-align: middle;\n",
       "    }\n",
       "\n",
       "    .dataframe tbody tr th {\n",
       "        vertical-align: top;\n",
       "    }\n",
       "\n",
       "    .dataframe thead th {\n",
       "        text-align: right;\n",
       "    }\n",
       "</style>\n",
       "<table border=\"1\" class=\"dataframe\">\n",
       "  <thead>\n",
       "    <tr style=\"text-align: right;\">\n",
       "      <th></th>\n",
       "      <th>x0</th>\n",
       "      <th>x1</th>\n",
       "      <th>x2</th>\n",
       "      <th>x3</th>\n",
       "      <th>x4</th>\n",
       "      <th>x5</th>\n",
       "      <th>x6</th>\n",
       "      <th>x7</th>\n",
       "      <th>x8</th>\n",
       "      <th>x9</th>\n",
       "      <th>...</th>\n",
       "      <th>x92</th>\n",
       "      <th>x93</th>\n",
       "      <th>x94</th>\n",
       "      <th>x95</th>\n",
       "      <th>x96</th>\n",
       "      <th>x97</th>\n",
       "      <th>x98</th>\n",
       "      <th>x99</th>\n",
       "      <th>y</th>\n",
       "      <th>idx</th>\n",
       "    </tr>\n",
       "  </thead>\n",
       "  <tbody>\n",
       "  </tbody>\n",
       "</table>\n",
       "<p>0 rows × 102 columns</p>\n",
       "</div>"
      ],
      "text/plain": [
       "Empty DataFrame\n",
       "Columns: [x0, x1, x2, x3, x4, x5, x6, x7, x8, x9, x10, x11, x12, x13, x14, x15, x16, x17, x18, x19, x20, x21, x22, x23, x24, x25, x26, x27, x28, x29, x30, x31, x32, x33, x34, x35, x36, x37, x38, x39, x40, x41, x42, x43, x44, x45, x46, x47, x48, x49, x50, x51, x52, x53, x54, x55, x56, x57, x58, x59, x60, x61, x62, x63, x64, x65, x66, x67, x68, x69, x70, x71, x72, x73, x74, x75, x76, x77, x78, x79, x80, x81, x82, x83, x84, x85, x86, x87, x88, x89, x90, x91, x92, x93, x94, x95, x96, x97, x98, x99, ...]\n",
       "Index: []\n",
       "\n",
       "[0 rows x 102 columns]"
      ]
     },
     "execution_count": 25,
     "metadata": {},
     "output_type": "execute_result"
    }
   ],
   "source": [
    "# check NAs\n",
    "df[df.isnull().any(1)]"
   ]
  },
  {
   "cell_type": "code",
   "execution_count": 26,
   "metadata": {},
   "outputs": [
    {
     "name": "stdout",
     "output_type": "stream",
     "text": [
      "<class 'pandas.core.frame.DataFrame'>\n",
      "Int64Index: 50000 entries, 0 to 9999\n",
      "Columns: 102 entries, x0 to idx\n",
      "dtypes: float64(100), int32(1), object(1)\n",
      "memory usage: 40.4+ MB\n",
      "['y']\n"
     ]
    }
   ],
   "source": [
    "# make sure data type is OK\n",
    "# df contained 6 objects\n",
    "df.info()\n",
    "print(list(df.select_dtypes(include=[np.object])))"
   ]
  },
  {
   "cell_type": "markdown",
   "metadata": {},
   "source": [
    "## Determine important features "
   ]
  },
  {
   "cell_type": "code",
   "execution_count": 34,
   "metadata": {},
   "outputs": [],
   "source": [
    "# split hold-out \n",
    "from sklearn.preprocessing import MinMaxScaler\n",
    "from sklearn.model_selection import train_test_split\n",
    "\n",
    "seed = 15678\n",
    "\n",
    "X = df.iloc[0:40000,].drop(['y','idx'], axis=1)\n",
    "y = df.iloc[0:40000,].y.astype(np.int64)\n",
    "\n",
    "X_t_org, X_hold_org, y_t, val_y = train_test_split(X, y, stratify = y, random_state = seed , test_size = 0.1)"
   ]
  },
  {
   "cell_type": "markdown",
   "metadata": {},
   "source": [
    "#### After running Random Forest and eli5, several important features were determined. \n",
    "Feature engineering :                                                                                \n",
    "-    new varaibales were created by adding top features.                                                                       \n",
    "\n",
    "Significant score improving  :\n",
    "-    The scores were improved with the new variables comparing runs using all the variables."
   ]
  },
  {
   "cell_type": "code",
   "execution_count": 35,
   "metadata": {},
   "outputs": [],
   "source": [
    "# Run only after permutation importance and feature importance are determined\n",
    "# split validation , train and test after determing important features \n",
    "\n",
    "seed = 15678\n",
    "\n",
    "df['new'] = (df.x75 + df.x37)\n",
    "df['new2'] = (df.x58 + df.x97)\n",
    "\n",
    "X = df.iloc[0:40000,].drop(['y','idx'], axis=1)\n",
    "y = df.iloc[0:40000,].y.astype(np.int64)\n",
    "\n",
    "\n",
    "\n",
    "a =['x75', 'x37', 'x58', 'x97', 'x41', 'x99', 'x56', 'x66','x63','x53', 'x1', 'x3','x70','x83','x21','x22','x51','x5','x12','x10',\n",
    "    'x44','x78','x72', 'x73', 'x43','x96','new','new2','x50', 'x33','x2','x0','x77', 'x69','x57','x19']\n",
    "\n",
    "X = X[a]\n",
    "\n",
    "X_t_org, X_hold_org, y_t, val_y = train_test_split(X, y, stratify = y, random_state = seed , test_size = 0.1)"
   ]
  },
  {
   "cell_type": "code",
   "execution_count": 36,
   "metadata": {},
   "outputs": [],
   "source": [
    "# Split train, test\n",
    "\n",
    "scaler = MinMaxScaler()\n",
    "X_train_org, X_test_org, y_trainS, y_testS = train_test_split(X_t_org, y_t, random_state = seed , test_size = 0.2)\n",
    "\n",
    "X_trainS = scaler.fit_transform(X_train_org)\n",
    "X_testS  = scaler.transform(X_test_org)"
   ]
  },
  {
   "cell_type": "code",
   "execution_count": 37,
   "metadata": {},
   "outputs": [],
   "source": [
    "# Examine Models with the validation set\n",
    "X_tr_org, X_te_org, y_train, y_test = train_test_split(X_t_org, y_t, random_state = seed , test_size = 0.2)\n",
    "\n",
    "X_train = scaler.fit_transform(X_tr_org)\n",
    "X_test = scaler.fit_transform(X_te_org)\n",
    "val_X   = scaler.transform(X_hold_org)"
   ]
  },
  {
   "cell_type": "code",
   "execution_count": 38,
   "metadata": {},
   "outputs": [
    {
     "data": {
      "text/plain": [
       "(28800,)"
      ]
     },
     "execution_count": 38,
     "metadata": {},
     "output_type": "execute_result"
    }
   ],
   "source": [
    "y_train.shape"
   ]
  },
  {
   "cell_type": "code",
   "execution_count": 39,
   "metadata": {},
   "outputs": [
    {
     "data": {
      "text/plain": [
       "(28800, 36)"
      ]
     },
     "execution_count": 39,
     "metadata": {},
     "output_type": "execute_result"
    }
   ],
   "source": [
    "X_train.shape"
   ]
  },
  {
   "cell_type": "code",
   "execution_count": 41,
   "metadata": {},
   "outputs": [
    {
     "name": "stdout",
     "output_type": "stream",
     "text": [
      "Grid best parameter Random Forest (max. accuracy):  {'max_depth': 20, 'n_estimators': 190}\n",
      "Grid best score Random Forest (accuracy):  0.8998958333333333\n"
     ]
    }
   ],
   "source": [
    "from sklearn.ensemble import RandomForestClassifier\n",
    "from sklearn.model_selection import GridSearchCV\n",
    "\n",
    "grid_values =  {'max_depth'  : [15,20],\n",
    "              'n_estimators': [190,200] }\n",
    "\n",
    "rnd_clf = RandomForestClassifier(random_state = seed)\n",
    "grid_rnd = GridSearchCV(rnd_clf, cv = 3, param_grid = grid_values)\n",
    "grid_rnd.fit(X_trainS, y_trainS)\n",
    "\n",
    "print('Grid best parameter Random Forest (max. accuracy): ', grid_rnd.best_params_)\n",
    "print('Grid best score Random Forest (accuracy): ', grid_rnd.best_score_)"
   ]
  },
  {
   "cell_type": "code",
   "execution_count": 42,
   "metadata": {},
   "outputs": [
    {
     "name": "stdout",
     "output_type": "stream",
     "text": [
      "Unique predicted labels: [0]\n",
      "Dummy Test score: 0.79\n",
      "             precision    recall  f1-score   support\n",
      "\n",
      "          0       0.79      1.00      0.88      5713\n",
      "          1       0.00      0.00      0.00      1487\n",
      "\n",
      "avg / total       0.63      0.79      0.70      7200\n",
      "\n",
      "Random Forest:              precision    recall  f1-score   support\n",
      "\n",
      "          0       0.90      1.00      0.94      5713\n",
      "          1       0.97      0.57      0.71      1487\n",
      "\n",
      "avg / total       0.91      0.91      0.90      7200\n",
      "\n"
     ]
    },
    {
     "name": "stderr",
     "output_type": "stream",
     "text": [
      "C:\\Users\\clfee\\Anaconda3\\lib\\site-packages\\sklearn\\metrics\\classification.py:1135: UndefinedMetricWarning: Precision and F-score are ill-defined and being set to 0.0 in labels with no predicted samples.\n",
      "  'precision', 'predicted', average, warn_for)\n"
     ]
    }
   ],
   "source": [
    "from sklearn.dummy import DummyClassifier\n",
    "\n",
    "dummy_majority = DummyClassifier(strategy='most_frequent')\n",
    "dummy_majority.fit(X_trainS, y_trainS)\n",
    "\n",
    "pred_most_frequent = dummy_majority.predict(X_testS)\n",
    "\n",
    "# Apply best parameters\n",
    "\n",
    "grnd = RandomForestClassifier(**grid_rnd.best_params_, random_state=42)\n",
    "grnd.fit(X_trainS, y_trainS)\n",
    "y_pred = grnd.predict(X_testS)\n",
    "\n",
    "# Apply to val \n",
    "val_y_pred = grnd.predict(val_X)\n",
    "   \n",
    "\n",
    "print(\"Unique predicted labels: {}\".format(np.unique(pred_most_frequent)))\n",
    "print(\"Dummy Test score: {:.2f}\".format(dummy_majority.score(X_testS, y_testS)))\n",
    "\n",
    "from sklearn.metrics import classification_report\n",
    "\n",
    "print(classification_report(y_testS, pred_most_frequent, target_names=[\"0\", \"1\"]))\n",
    "print('Random Forest:',classification_report(y_testS, y_pred, target_names=[\"0\", \"1\"]))\n",
    "\n",
    "# full: 0.89\n",
    "# 0.89 with new and new2"
   ]
  },
  {
   "cell_type": "code",
   "execution_count": 43,
   "metadata": {},
   "outputs": [
    {
     "name": "stdout",
     "output_type": "stream",
     "text": [
      "0.7805961368207645\n"
     ]
    }
   ],
   "source": [
    "# AUC\n",
    "from sklearn.metrics import roc_auc_score\n",
    "\n",
    "auc = roc_auc_score(y_testS,y_pred)\n",
    "\n",
    "print(auc)"
   ]
  },
  {
   "cell_type": "code",
   "execution_count": 44,
   "metadata": {},
   "outputs": [
    {
     "data": {
      "text/plain": [
       "<matplotlib.axes._subplots.AxesSubplot at 0x1a74d8fb978>"
      ]
     },
     "execution_count": 44,
     "metadata": {},
     "output_type": "execute_result"
    },
    {
     "data": {
      "image/png": "[encoded data removed]",
      "text/plain": [
       "<Figure size 432x288 with 1 Axes>"
      ]
     },
     "metadata": {},
     "output_type": "display_data"
    }
   ],
   "source": [
    "# Plotting feature importance\n",
    "%matplotlib inline\n",
    "feat_importances = pd.Series(grnd.feature_importances_, index=list(X))\n",
    "feat_importances.nlargest(10).plot(kind='barh')"
   ]
  },
  {
   "cell_type": "code",
   "execution_count": 45,
   "metadata": {},
   "outputs": [
    {
     "data": {
      "text/html": [
       "\n",
       "    <style>\n",
       "    table.eli5-weights tr:hover {\n",
       "        filter: brightness(85%);\n",
       "    }\n",
       "</style>\n",
       "\n",
       "\n",
       "\n",
       "    \n",
       "\n",
       "    \n",
       "\n",
       "    \n",
       "\n",
       "    \n",
       "\n",
       "    \n",
       "\n",
       "    \n",
       "\n",
       "\n",
       "    \n",
       "\n",
       "    \n",
       "\n",
       "    \n",
       "\n",
       "    \n",
       "\n",
       "    \n",
       "\n",
       "    \n",
       "\n",
       "\n",
       "    \n",
       "\n",
       "    \n",
       "\n",
       "    \n",
       "\n",
       "    \n",
       "\n",
       "    \n",
       "        <table class=\"eli5-weights eli5-feature-importances\" style=\"border-collapse: collapse; border: none; margin-top: 0em; table-layout: auto;\">\n",
       "    <thead>\n",
       "    <tr style=\"border: none;\">\n",
       "        <th style=\"padding: 0 1em 0 0.5em; text-align: right; border: none;\">Weight</th>\n",
       "        <th style=\"padding: 0 0.5em 0 0.5em; text-align: left; border: none;\">Feature</th>\n",
       "    </tr>\n",
       "    </thead>\n",
       "    <tbody>\n",
       "    \n",
       "        <tr style=\"background-color: hsl(120, 100.00%, 80.00%); border: none;\">\n",
       "            <td style=\"padding: 0 1em 0 0.5em; text-align: right; border: none;\">\n",
       "                0.0289\n",
       "                \n",
       "                    &plusmn; 0.0029\n",
       "                \n",
       "            </td>\n",
       "            <td style=\"padding: 0 0.5em 0 0.5em; text-align: left; border: none;\">\n",
       "                new\n",
       "            </td>\n",
       "        </tr>\n",
       "    \n",
       "        <tr style=\"background-color: hsl(120, 100.00%, 83.96%); border: none;\">\n",
       "            <td style=\"padding: 0 1em 0 0.5em; text-align: right; border: none;\">\n",
       "                0.0211\n",
       "                \n",
       "                    &plusmn; 0.0021\n",
       "                \n",
       "            </td>\n",
       "            <td style=\"padding: 0 0.5em 0 0.5em; text-align: left; border: none;\">\n",
       "                new2\n",
       "            </td>\n",
       "        </tr>\n",
       "    \n",
       "        <tr style=\"background-color: hsl(120, 100.00%, 88.15%); border: none;\">\n",
       "            <td style=\"padding: 0 1em 0 0.5em; text-align: right; border: none;\">\n",
       "                0.0137\n",
       "                \n",
       "                    &plusmn; 0.0023\n",
       "                \n",
       "            </td>\n",
       "            <td style=\"padding: 0 0.5em 0 0.5em; text-align: left; border: none;\">\n",
       "                x99\n",
       "            </td>\n",
       "        </tr>\n",
       "    \n",
       "        <tr style=\"background-color: hsl(120, 100.00%, 88.68%); border: none;\">\n",
       "            <td style=\"padding: 0 1em 0 0.5em; text-align: right; border: none;\">\n",
       "                0.0128\n",
       "                \n",
       "                    &plusmn; 0.0013\n",
       "                \n",
       "            </td>\n",
       "            <td style=\"padding: 0 0.5em 0 0.5em; text-align: left; border: none;\">\n",
       "                x75\n",
       "            </td>\n",
       "        </tr>\n",
       "    \n",
       "        <tr style=\"background-color: hsl(120, 100.00%, 90.55%); border: none;\">\n",
       "            <td style=\"padding: 0 1em 0 0.5em; text-align: right; border: none;\">\n",
       "                0.0099\n",
       "                \n",
       "                    &plusmn; 0.0029\n",
       "                \n",
       "            </td>\n",
       "            <td style=\"padding: 0 0.5em 0 0.5em; text-align: left; border: none;\">\n",
       "                x53\n",
       "            </td>\n",
       "        </tr>\n",
       "    \n",
       "        <tr style=\"background-color: hsl(120, 100.00%, 90.74%); border: none;\">\n",
       "            <td style=\"padding: 0 1em 0 0.5em; text-align: right; border: none;\">\n",
       "                0.0096\n",
       "                \n",
       "                    &plusmn; 0.0011\n",
       "                \n",
       "            </td>\n",
       "            <td style=\"padding: 0 0.5em 0 0.5em; text-align: left; border: none;\">\n",
       "                x58\n",
       "            </td>\n",
       "        </tr>\n",
       "    \n",
       "        <tr style=\"background-color: hsl(120, 100.00%, 90.83%); border: none;\">\n",
       "            <td style=\"padding: 0 1em 0 0.5em; text-align: right; border: none;\">\n",
       "                0.0095\n",
       "                \n",
       "                    &plusmn; 0.0015\n",
       "                \n",
       "            </td>\n",
       "            <td style=\"padding: 0 0.5em 0 0.5em; text-align: left; border: none;\">\n",
       "                x37\n",
       "            </td>\n",
       "        </tr>\n",
       "    \n",
       "        <tr style=\"background-color: hsl(120, 100.00%, 91.17%); border: none;\">\n",
       "            <td style=\"padding: 0 1em 0 0.5em; text-align: right; border: none;\">\n",
       "                0.0090\n",
       "                \n",
       "                    &plusmn; 0.0021\n",
       "                \n",
       "            </td>\n",
       "            <td style=\"padding: 0 0.5em 0 0.5em; text-align: left; border: none;\">\n",
       "                x41\n",
       "            </td>\n",
       "        </tr>\n",
       "    \n",
       "        <tr style=\"background-color: hsl(120, 100.00%, 91.62%); border: none;\">\n",
       "            <td style=\"padding: 0 1em 0 0.5em; text-align: right; border: none;\">\n",
       "                0.0083\n",
       "                \n",
       "                    &plusmn; 0.0010\n",
       "                \n",
       "            </td>\n",
       "            <td style=\"padding: 0 0.5em 0 0.5em; text-align: left; border: none;\">\n",
       "                x51\n",
       "            </td>\n",
       "        </tr>\n",
       "    \n",
       "        <tr style=\"background-color: hsl(120, 100.00%, 91.79%); border: none;\">\n",
       "            <td style=\"padding: 0 1em 0 0.5em; text-align: right; border: none;\">\n",
       "                0.0081\n",
       "                \n",
       "                    &plusmn; 0.0025\n",
       "                \n",
       "            </td>\n",
       "            <td style=\"padding: 0 0.5em 0 0.5em; text-align: left; border: none;\">\n",
       "                x1\n",
       "            </td>\n",
       "        </tr>\n",
       "    \n",
       "        <tr style=\"background-color: hsl(120, 100.00%, 92.27%); border: none;\">\n",
       "            <td style=\"padding: 0 1em 0 0.5em; text-align: right; border: none;\">\n",
       "                0.0074\n",
       "                \n",
       "                    &plusmn; 0.0011\n",
       "                \n",
       "            </td>\n",
       "            <td style=\"padding: 0 0.5em 0 0.5em; text-align: left; border: none;\">\n",
       "                x44\n",
       "            </td>\n",
       "        </tr>\n",
       "    \n",
       "        <tr style=\"background-color: hsl(120, 100.00%, 92.42%); border: none;\">\n",
       "            <td style=\"padding: 0 1em 0 0.5em; text-align: right; border: none;\">\n",
       "                0.0072\n",
       "                \n",
       "                    &plusmn; 0.0017\n",
       "                \n",
       "            </td>\n",
       "            <td style=\"padding: 0 0.5em 0 0.5em; text-align: left; border: none;\">\n",
       "                x66\n",
       "            </td>\n",
       "        </tr>\n",
       "    \n",
       "        <tr style=\"background-color: hsl(120, 100.00%, 92.75%); border: none;\">\n",
       "            <td style=\"padding: 0 1em 0 0.5em; text-align: right; border: none;\">\n",
       "                0.0068\n",
       "                \n",
       "                    &plusmn; 0.0016\n",
       "                \n",
       "            </td>\n",
       "            <td style=\"padding: 0 0.5em 0 0.5em; text-align: left; border: none;\">\n",
       "                x50\n",
       "            </td>\n",
       "        </tr>\n",
       "    \n",
       "        <tr style=\"background-color: hsl(120, 100.00%, 93.15%); border: none;\">\n",
       "            <td style=\"padding: 0 1em 0 0.5em; text-align: right; border: none;\">\n",
       "                0.0062\n",
       "                \n",
       "                    &plusmn; 0.0021\n",
       "                \n",
       "            </td>\n",
       "            <td style=\"padding: 0 0.5em 0 0.5em; text-align: left; border: none;\">\n",
       "                x21\n",
       "            </td>\n",
       "        </tr>\n",
       "    \n",
       "        <tr style=\"background-color: hsl(120, 100.00%, 93.40%); border: none;\">\n",
       "            <td style=\"padding: 0 1em 0 0.5em; text-align: right; border: none;\">\n",
       "                0.0059\n",
       "                \n",
       "                    &plusmn; 0.0016\n",
       "                \n",
       "            </td>\n",
       "            <td style=\"padding: 0 0.5em 0 0.5em; text-align: left; border: none;\">\n",
       "                x97\n",
       "            </td>\n",
       "        </tr>\n",
       "    \n",
       "        <tr style=\"background-color: hsl(120, 100.00%, 93.43%); border: none;\">\n",
       "            <td style=\"padding: 0 1em 0 0.5em; text-align: right; border: none;\">\n",
       "                0.0059\n",
       "                \n",
       "                    &plusmn; 0.0015\n",
       "                \n",
       "            </td>\n",
       "            <td style=\"padding: 0 0.5em 0 0.5em; text-align: left; border: none;\">\n",
       "                x63\n",
       "            </td>\n",
       "        </tr>\n",
       "    \n",
       "        <tr style=\"background-color: hsl(120, 100.00%, 93.58%); border: none;\">\n",
       "            <td style=\"padding: 0 1em 0 0.5em; text-align: right; border: none;\">\n",
       "                0.0057\n",
       "                \n",
       "                    &plusmn; 0.0009\n",
       "                \n",
       "            </td>\n",
       "            <td style=\"padding: 0 0.5em 0 0.5em; text-align: left; border: none;\">\n",
       "                x72\n",
       "            </td>\n",
       "        </tr>\n",
       "    \n",
       "        <tr style=\"background-color: hsl(120, 100.00%, 93.80%); border: none;\">\n",
       "            <td style=\"padding: 0 1em 0 0.5em; text-align: right; border: none;\">\n",
       "                0.0054\n",
       "                \n",
       "                    &plusmn; 0.0016\n",
       "                \n",
       "            </td>\n",
       "            <td style=\"padding: 0 0.5em 0 0.5em; text-align: left; border: none;\">\n",
       "                x96\n",
       "            </td>\n",
       "        </tr>\n",
       "    \n",
       "        <tr style=\"background-color: hsl(120, 100.00%, 94.09%); border: none;\">\n",
       "            <td style=\"padding: 0 1em 0 0.5em; text-align: right; border: none;\">\n",
       "                0.0051\n",
       "                \n",
       "                    &plusmn; 0.0013\n",
       "                \n",
       "            </td>\n",
       "            <td style=\"padding: 0 0.5em 0 0.5em; text-align: left; border: none;\">\n",
       "                x10\n",
       "            </td>\n",
       "        </tr>\n",
       "    \n",
       "        <tr style=\"background-color: hsl(120, 100.00%, 94.11%); border: none;\">\n",
       "            <td style=\"padding: 0 1em 0 0.5em; text-align: right; border: none;\">\n",
       "                0.0050\n",
       "                \n",
       "                    &plusmn; 0.0015\n",
       "                \n",
       "            </td>\n",
       "            <td style=\"padding: 0 0.5em 0 0.5em; text-align: left; border: none;\">\n",
       "                x56\n",
       "            </td>\n",
       "        </tr>\n",
       "    \n",
       "    \n",
       "        \n",
       "            <tr style=\"background-color: hsl(120, 100.00%, 94.11%); border: none;\">\n",
       "                <td colspan=\"2\" style=\"padding: 0 0.5em 0 0.5em; text-align: center; border: none; white-space: nowrap;\">\n",
       "                    <i>&hellip; 16 more &hellip;</i>\n",
       "                </td>\n",
       "            </tr>\n",
       "        \n",
       "    \n",
       "    </tbody>\n",
       "</table>\n",
       "    \n",
       "\n",
       "    \n",
       "\n",
       "\n",
       "    \n",
       "\n",
       "    \n",
       "\n",
       "    \n",
       "\n",
       "    \n",
       "\n",
       "    \n",
       "\n",
       "    \n",
       "\n",
       "\n",
       "\n"
      ],
      "text/plain": [
       "<IPython.core.display.HTML object>"
      ]
     },
     "execution_count": 45,
     "metadata": {},
     "output_type": "execute_result"
    }
   ],
   "source": [
    "# Using permutation importance to determine wich features are important, and see if we can lower the MSE\n",
    "\n",
    "import eli5\n",
    "from eli5.sklearn import PermutationImportance\n",
    "\n",
    "var = a\n",
    "\n",
    "perm = PermutationImportance(grnd, random_state=seed).fit(X_testS, y_testS)\n",
    "eli5.show_weights(perm, feature_names = var)\n"
   ]
  },
  {
   "cell_type": "markdown",
   "metadata": {},
   "source": [
    "## Model Building ##"
   ]
  },
  {
   "cell_type": "markdown",
   "metadata": {},
   "source": [
    "#### Soft Voting"
   ]
  },
  {
   "cell_type": "code",
   "execution_count": 55,
   "metadata": {
    "scrolled": true
   },
   "outputs": [
    {
     "name": "stdout",
     "output_type": "stream",
     "text": [
      "Grid best parameter KNN (max. accuracy):  {'n_neighbors': 7}\n",
      "Grid best score KNN (accuracy):  0.9562847222222223\n",
      "Grid best parameter Random Forest (max. accuracy):  {'max_depth': 20, 'n_estimators': 190}\n",
      "Grid best score Random Forest (accuracy):  0.8998958333333333\n",
      "Grid best parameter SVM (max. accuracy):  {'C': 3, 'gamma': 2}\n",
      "Grid best score SVM (accuracy):  0.9799305555555555\n"
     ]
    }
   ],
   "source": [
    "from sklearn.ensemble import RandomForestClassifier\n",
    "from sklearn.neighbors import KNeighborsClassifier\n",
    "from sklearn.model_selection import GridSearchCV\n",
    "from sklearn.svm import SVC\n",
    "\n",
    "# Decision Tree parameters are adapted from previou result  \n",
    "\n",
    "grid_no = {'n_neighbors'  : [6, 7, 8]}\n",
    "grid_values = {'max_depth'  : [ 10, 20, 30],\n",
    "              'n_estimators': [ 180, 190, 200]}\n",
    "grid_para = {'C'  : [ 1, 3, 5 ],\n",
    "             'gamma'  : [ 1, 2]}\n",
    "\n",
    "knn_clf = KNeighborsClassifier()\n",
    "grid_knn = GridSearchCV(knn_clf, cv = 3, param_grid = grid_no)\n",
    "\n",
    "rnd_clf = RandomForestClassifier(random_state = seed)\n",
    "grid_rnd = GridSearchCV(rnd_clf, cv = 3, param_grid = grid_values)\n",
    "\n",
    "#svm_clf = SVC(probability = True)\n",
    "svm_clf = SVC(kernel = 'rbf', probability = True)\n",
    "grid_svm = GridSearchCV(svm_clf, cv = 3, param_grid = grid_para)\n",
    "\n",
    "grid_knn.fit(X_train, y_train)\n",
    "grid_rnd.fit(X_train, y_train)\n",
    "grid_svm.fit(X_train, y_train)\n",
    "\n",
    "print('Grid best parameter KNN (max. accuracy): ', grid_knn.best_params_)\n",
    "print('Grid best score KNN (accuracy): ', grid_knn.best_score_)\n",
    "\n",
    "print('Grid best parameter Random Forest (max. accuracy): ', grid_rnd.best_params_)\n",
    "print('Grid best score Random Forest (accuracy): ', grid_rnd.best_score_)\n",
    "\n",
    "print('Grid best parameter SVM (max. accuracy): ', grid_svm.best_params_)\n",
    "print('Grid best score SVM (accuracy): ', grid_svm.best_score_)"
   ]
  },
  {
   "cell_type": "code",
   "execution_count": 58,
   "metadata": {},
   "outputs": [
    {
     "name": "stdout",
     "output_type": "stream",
     "text": [
      "KNeighborsClassifier 0.9458333333333333\n",
      "SVC 0.9791666666666666\n",
      "RandomForestClassifier 0.8784722222222222\n"
     ]
    },
    {
     "name": "stderr",
     "output_type": "stream",
     "text": [
      "C:\\Users\\clfee\\Anaconda3\\lib\\site-packages\\sklearn\\preprocessing\\label.py:151: DeprecationWarning: The truth value of an empty array is ambiguous. Returning False, but in future this will result in an error. Use `array.size > 0` to check that an array is not empty.\n",
      "  if diff:\n"
     ]
    },
    {
     "name": "stdout",
     "output_type": "stream",
     "text": [
      "VotingClassifier 0.9622222222222222\n",
      "Unique predicted labels: [0]\n",
      "Dummy Test score: 0.79\n",
      "             precision    recall  f1-score   support\n",
      "\n",
      "          0       0.79      1.00      0.88      5713\n",
      "          1       0.00      0.00      0.00      1487\n",
      "\n",
      "avg / total       0.63      0.79      0.70      7200\n",
      "\n",
      "Soft Voting:              precision    recall  f1-score   support\n",
      "\n",
      "          0       0.96      1.00      0.98      5713\n",
      "          1       0.99      0.83      0.90      1487\n",
      "\n",
      "avg / total       0.96      0.96      0.96      7200\n",
      "\n"
     ]
    },
    {
     "name": "stderr",
     "output_type": "stream",
     "text": [
      "C:\\Users\\clfee\\Anaconda3\\lib\\site-packages\\sklearn\\preprocessing\\label.py:151: DeprecationWarning: The truth value of an empty array is ambiguous. Returning False, but in future this will result in an error. Use `array.size > 0` to check that an array is not empty.\n",
      "  if diff:\n",
      "C:\\Users\\clfee\\Anaconda3\\lib\\site-packages\\sklearn\\metrics\\classification.py:1135: UndefinedMetricWarning: Precision and F-score are ill-defined and being set to 0.0 in labels with no predicted samples.\n",
      "  'precision', 'predicted', average, warn_for)\n"
     ]
    }
   ],
   "source": [
    "from sklearn.ensemble import VotingClassifier\n",
    "\n",
    "# Apply best parameters\n",
    "\n",
    "gknn = KNeighborsClassifier(**grid_knn.best_params_)\n",
    "gknn.fit(X_train, y_train)\n",
    "grnd = RandomForestClassifier(**grid_rnd.best_params_, random_state=42)\n",
    "grnd.fit(X_train, y_train)\n",
    "gsvc = SVC(**grid_svm.best_params_, random_state=42, probability = True)\n",
    "gsvc.fit(X_train, y_train)\n",
    "\n",
    "voting_clf = VotingClassifier(estimators=[('rnd', grnd), ('svc', gsvc),('knn', gknn)], voting='soft')\n",
    "voting_clf.fit(X_train, y_train)\n",
    "\n",
    "from sklearn.metrics import accuracy_score\n",
    "for clf in (gknn,gsvc, grnd, voting_clf):\n",
    "    clf.fit(X_train, y_train)\n",
    "    sy_pred = clf.predict(X_test)\n",
    "    val_y_pred = clf.predict(val_X)\n",
    "    print(clf.__class__.__name__, accuracy_score(y_test, sy_pred))\n",
    "\n",
    "print(\"Unique predicted labels: {}\".format(np.unique(pred_most_frequent)))\n",
    "print(\"Dummy Test score: {:.2f}\".format(dummy_majority.score(X_test, y_test)))\n",
    "\n",
    "from sklearn.metrics import classification_report\n",
    "\n",
    "print(classification_report(y_test, pred_most_frequent, target_names=[\"0\", \"1\"]))\n",
    "print('Soft Voting:',classification_report(y_test, sy_pred, target_names=[\"0\", \"1\"]))"
   ]
  },
  {
   "cell_type": "code",
   "execution_count": 59,
   "metadata": {},
   "outputs": [
    {
     "name": "stdout",
     "output_type": "stream",
     "text": [
      "0.9117741471656273\n"
     ]
    }
   ],
   "source": [
    "from sklearn.metrics import roc_auc_score\n",
    "\n",
    "auc = roc_auc_score(y_test,sy_pred)\n",
    "\n",
    "print(auc)"
   ]
  },
  {
   "cell_type": "code",
   "execution_count": 60,
   "metadata": {},
   "outputs": [
    {
     "name": "stdout",
     "output_type": "stream",
     "text": [
      "0.9143787049407733\n"
     ]
    }
   ],
   "source": [
    "# Validation AUC # \n",
    "\n",
    "from sklearn.metrics import roc_auc_score\n",
    "\n",
    "val_auc = roc_auc_score(val_y,val_y_pred)\n",
    "\n",
    "print(val_auc)"
   ]
  },
  {
   "cell_type": "code",
   "execution_count": 61,
   "metadata": {},
   "outputs": [
    {
     "data": {
      "text/plain": [
       "array([[5700,   13],\n",
       "       [ 259, 1228]], dtype=int64)"
      ]
     },
     "execution_count": 61,
     "metadata": {},
     "output_type": "execute_result"
    }
   ],
   "source": [
    "# Confusion matrix\n",
    "from sklearn.metrics import confusion_matrix\n",
    "confusion_matrix(y_test, sy_pred)"
   ]
  },
  {
   "cell_type": "code",
   "execution_count": 62,
   "metadata": {},
   "outputs": [
    {
     "data": {
      "text/plain": [
       "array([[3181,   10],\n",
       "       [ 136,  673]], dtype=int64)"
      ]
     },
     "execution_count": 62,
     "metadata": {},
     "output_type": "execute_result"
    }
   ],
   "source": [
    "# Confusion matrix\n",
    "from sklearn.metrics import confusion_matrix\n",
    "confusion_matrix(val_y,val_y_pred)"
   ]
  },
  {
   "cell_type": "markdown",
   "metadata": {},
   "source": [
    "#### Neural Network  "
   ]
  },
  {
   "cell_type": "code",
   "execution_count": 63,
   "metadata": {},
   "outputs": [],
   "source": [
    "import numpy as np\n",
    "from sklearn.model_selection import GridSearchCV\n",
    "from keras.models import Sequential\n",
    "from keras.layers import Dense, Dropout, Activation\n",
    "from keras import optimizers\n",
    "from keras.callbacks import EarlyStopping, ModelCheckpoint, CSVLogger\n",
    "from keras.wrappers.scikit_learn import KerasClassifier"
   ]
  },
  {
   "cell_type": "code",
   "execution_count": 64,
   "metadata": {},
   "outputs": [
    {
     "name": "stdout",
     "output_type": "stream",
     "text": [
      "Train on 25920 samples, validate on 2880 samples\n",
      "Epoch 1/100\n",
      "25920/25920 [==============================] - 3s 125us/step - loss: 0.6998 - acc: 0.6335 - val_loss: 0.6691 - val_acc: 0.8062\n",
      "Epoch 2/100\n",
      "25920/25920 [==============================] - 1s 51us/step - loss: 0.6417 - acc: 0.7616 - val_loss: 0.5909 - val_acc: 0.8062\n",
      "Epoch 3/100\n",
      "25920/25920 [==============================] - 1s 51us/step - loss: 0.5940 - acc: 0.7835 - val_loss: 0.5566 - val_acc: 0.8062\n",
      "Epoch 4/100\n",
      "25920/25920 [==============================] - 1s 53us/step - loss: 0.5555 - acc: 0.7962 - val_loss: 0.5009 - val_acc: 0.8062\n",
      "Epoch 5/100\n",
      "25920/25920 [==============================] - 1s 54us/step - loss: 0.5041 - acc: 0.7975 - val_loss: 0.4259 - val_acc: 0.8062\n",
      "Epoch 6/100\n",
      "25920/25920 [==============================] - 1s 51us/step - loss: 0.4599 - acc: 0.7974 - val_loss: 0.3873 - val_acc: 0.8062\n",
      "Epoch 7/100\n",
      "25920/25920 [==============================] - 1s 52us/step - loss: 0.4402 - acc: 0.7976 - val_loss: 0.3909 - val_acc: 0.8062\n",
      "Epoch 8/100\n",
      "25920/25920 [==============================] - 1s 51us/step - loss: 0.4235 - acc: 0.7980 - val_loss: 0.3557 - val_acc: 0.8062\n",
      "Epoch 9/100\n",
      "25920/25920 [==============================] - 1s 54us/step - loss: 0.4058 - acc: 0.7980 - val_loss: 0.3447 - val_acc: 0.8062\n",
      "Epoch 10/100\n",
      "25920/25920 [==============================] - 1s 56us/step - loss: 0.3996 - acc: 0.7981 - val_loss: 0.3373 - val_acc: 0.8062\n",
      "Epoch 11/100\n",
      "25920/25920 [==============================] - 1s 57us/step - loss: 0.3864 - acc: 0.7984 - val_loss: 0.3265 - val_acc: 0.8062\n",
      "Epoch 12/100\n",
      "25920/25920 [==============================] - 1s 54us/step - loss: 0.3769 - acc: 0.8003 - val_loss: 0.3468 - val_acc: 0.8062\n",
      "Epoch 13/100\n",
      "25920/25920 [==============================] - 1s 55us/step - loss: 0.3702 - acc: 0.8018 - val_loss: 0.3083 - val_acc: 0.8062\n",
      "Epoch 14/100\n",
      "25920/25920 [==============================] - 1s 57us/step - loss: 0.3549 - acc: 0.8036 - val_loss: 0.2978 - val_acc: 0.8062\n",
      "Epoch 15/100\n",
      "25920/25920 [==============================] - 1s 56us/step - loss: 0.3412 - acc: 0.8057 - val_loss: 0.2906 - val_acc: 0.8062\n",
      "Epoch 16/100\n",
      "25920/25920 [==============================] - 1s 57us/step - loss: 0.3416 - acc: 0.8059 - val_loss: 0.2866 - val_acc: 0.8062\n",
      "Epoch 17/100\n",
      "25920/25920 [==============================] - 1s 57us/step - loss: 0.3282 - acc: 0.8078 - val_loss: 0.2718 - val_acc: 0.8062\n",
      "Epoch 18/100\n",
      "25920/25920 [==============================] - 2s 59us/step - loss: 0.3144 - acc: 0.8080 - val_loss: 0.2648 - val_acc: 0.8066\n",
      "Epoch 19/100\n",
      "25920/25920 [==============================] - 1s 52us/step - loss: 0.3087 - acc: 0.8088 - val_loss: 0.2520 - val_acc: 0.8083\n",
      "Epoch 20/100\n",
      "25920/25920 [==============================] - 2s 59us/step - loss: 0.3006 - acc: 0.8100 - val_loss: 0.2477 - val_acc: 0.8392\n",
      "Epoch 21/100\n",
      "25920/25920 [==============================] - 1s 57us/step - loss: 0.2923 - acc: 0.8102 - val_loss: 0.2401 - val_acc: 0.8611\n",
      "Epoch 22/100\n",
      "25920/25920 [==============================] - 2s 59us/step - loss: 0.2879 - acc: 0.8133 - val_loss: 0.2355 - val_acc: 0.9156\n",
      "Epoch 23/100\n",
      "25920/25920 [==============================] - 1s 56us/step - loss: 0.2828 - acc: 0.8159 - val_loss: 0.2295 - val_acc: 0.9344\n",
      "Epoch 24/100\n",
      "25920/25920 [==============================] - 1s 53us/step - loss: 0.2785 - acc: 0.8177 - val_loss: 0.2330 - val_acc: 0.9368\n",
      "Epoch 25/100\n",
      "25920/25920 [==============================] - 1s 57us/step - loss: 0.2723 - acc: 0.8733 - val_loss: 0.2168 - val_acc: 0.9497\n",
      "Epoch 26/100\n",
      "25920/25920 [==============================] - 2s 81us/step - loss: 0.2705 - acc: 0.9252 - val_loss: 0.2243 - val_acc: 0.9465\n",
      "Epoch 27/100\n",
      "25920/25920 [==============================] - 2s 71us/step - loss: 0.2798 - acc: 0.9197 - val_loss: 0.2182 - val_acc: 0.9427\n",
      "Epoch 28/100\n",
      "25920/25920 [==============================] - 2s 67us/step - loss: 0.2635 - acc: 0.9280 - val_loss: 0.2155 - val_acc: 0.9389\n",
      "Epoch 29/100\n",
      "25920/25920 [==============================] - 2s 85us/step - loss: 0.2556 - acc: 0.9330 - val_loss: 0.2034 - val_acc: 0.9497\n",
      "Epoch 30/100\n",
      "25920/25920 [==============================] - 2s 67us/step - loss: 0.2580 - acc: 0.9329 - val_loss: 0.1983 - val_acc: 0.9545\n",
      "Epoch 31/100\n",
      "25920/25920 [==============================] - 2s 70us/step - loss: 0.2485 - acc: 0.9352 - val_loss: 0.2031 - val_acc: 0.9451\n",
      "Epoch 32/100\n",
      "25920/25920 [==============================] - 2s 74us/step - loss: 0.2530 - acc: 0.9334 - val_loss: 0.2022 - val_acc: 0.9472A: 0s - loss: 0.2529 - acc: 0.9\n",
      "Epoch 33/100\n",
      "25920/25920 [==============================] - 2s 74us/step - loss: 0.2455 - acc: 0.9377 - val_loss: 0.1886 - val_acc: 0.9587\n",
      "Epoch 34/100\n",
      "25920/25920 [==============================] - 2s 66us/step - loss: 0.2437 - acc: 0.9401 - val_loss: 0.1966 - val_acc: 0.9538\n",
      "Epoch 35/100\n",
      "25920/25920 [==============================] - 2s 74us/step - loss: 0.2354 - acc: 0.9434 - val_loss: 0.1851 - val_acc: 0.9531\n",
      "Epoch 36/100\n",
      "25920/25920 [==============================] - 2s 72us/step - loss: 0.2393 - acc: 0.9419 - val_loss: 0.1875 - val_acc: 0.9514\n",
      "Epoch 37/100\n",
      "25920/25920 [==============================] - 2s 69us/step - loss: 0.2347 - acc: 0.9432 - val_loss: 0.1800 - val_acc: 0.9569\n",
      "Epoch 38/100\n",
      "25920/25920 [==============================] - 2s 80us/step - loss: 0.2383 - acc: 0.9394 - val_loss: 0.1827 - val_acc: 0.9597\n",
      "Epoch 39/100\n",
      "25920/25920 [==============================] - 2s 94us/step - loss: 0.2289 - acc: 0.9443 - val_loss: 0.1907 - val_acc: 0.9566\n",
      "Epoch 40/100\n",
      "25920/25920 [==============================] - 2s 71us/step - loss: 0.2330 - acc: 0.9439 - val_loss: 0.1834 - val_acc: 0.9531\n",
      "Epoch 41/100\n",
      "25920/25920 [==============================] - 2s 65us/step - loss: 0.2260 - acc: 0.9448 - val_loss: 0.1795 - val_acc: 0.9542\n",
      "Epoch 42/100\n",
      "25920/25920 [==============================] - 2s 69us/step - loss: 0.2284 - acc: 0.9458 - val_loss: 0.1719 - val_acc: 0.9604\n",
      "Epoch 43/100\n",
      "25920/25920 [==============================] - 2s 67us/step - loss: 0.2242 - acc: 0.9454 - val_loss: 0.1735 - val_acc: 0.9569\n",
      "Epoch 44/100\n",
      "25920/25920 [==============================] - 2s 68us/step - loss: 0.2221 - acc: 0.9498 - val_loss: 0.1702 - val_acc: 0.9608\n",
      "Epoch 45/100\n",
      "25920/25920 [==============================] - 2s 75us/step - loss: 0.2156 - acc: 0.9481 - val_loss: 0.1827 - val_acc: 0.9580\n",
      "Epoch 46/100\n",
      "25920/25920 [==============================] - 2s 70us/step - loss: 0.2195 - acc: 0.9485 - val_loss: 0.1704 - val_acc: 0.9635\n",
      "Epoch 47/100\n",
      "25920/25920 [==============================] - 2s 66us/step - loss: 0.2185 - acc: 0.9492 - val_loss: 0.1657 - val_acc: 0.9635\n",
      "Epoch 48/100\n",
      "25920/25920 [==============================] - 2s 74us/step - loss: 0.2119 - acc: 0.9510 - val_loss: 0.1661 - val_acc: 0.9635\n",
      "Epoch 49/100\n",
      "25920/25920 [==============================] - 2s 67us/step - loss: 0.2191 - acc: 0.9486 - val_loss: 0.1630 - val_acc: 0.9639\n",
      "Epoch 50/100\n",
      "25920/25920 [==============================] - 2s 65us/step - loss: 0.2139 - acc: 0.9484 - val_loss: 0.1635 - val_acc: 0.9632\n",
      "Epoch 51/100\n",
      "25920/25920 [==============================] - 2s 68us/step - loss: 0.2089 - acc: 0.9502 - val_loss: 0.1615 - val_acc: 0.9615\n",
      "Epoch 52/100\n",
      "25920/25920 [==============================] - 2s 72us/step - loss: 0.2125 - acc: 0.9509 - val_loss: 0.1646 - val_acc: 0.9597\n",
      "Epoch 53/100\n",
      "25920/25920 [==============================] - 2s 65us/step - loss: 0.2077 - acc: 0.9505 - val_loss: 0.1638 - val_acc: 0.9597\n",
      "Epoch 54/100\n",
      "25920/25920 [==============================] - 2s 64us/step - loss: 0.2102 - acc: 0.9501 - val_loss: 0.1612 - val_acc: 0.9653\n",
      "Epoch 55/100\n",
      "25920/25920 [==============================] - 2s 64us/step - loss: 0.2073 - acc: 0.9505 - val_loss: 0.1621 - val_acc: 0.9635\n",
      "Epoch 56/100\n",
      "25920/25920 [==============================] - 2s 67us/step - loss: 0.2026 - acc: 0.9523 - val_loss: 0.1618 - val_acc: 0.9663\n",
      "Epoch 57/100\n",
      "25920/25920 [==============================] - 2s 69us/step - loss: 0.2061 - acc: 0.9517 - val_loss: 0.1559 - val_acc: 0.9642\n",
      "Epoch 58/100\n",
      "25920/25920 [==============================] - 2s 72us/step - loss: 0.2043 - acc: 0.9525 - val_loss: 0.1529 - val_acc: 0.9653\n",
      "Epoch 59/100\n"
     ]
    },
    {
     "name": "stdout",
     "output_type": "stream",
     "text": [
      "25920/25920 [==============================] - 2s 70us/step - loss: 0.1986 - acc: 0.9559 - val_loss: 0.1477 - val_acc: 0.9656\n",
      "Epoch 60/100\n",
      "25920/25920 [==============================] - 2s 63us/step - loss: 0.2043 - acc: 0.9556 - val_loss: 0.1548 - val_acc: 0.9646\n",
      "Epoch 61/100\n",
      "25920/25920 [==============================] - 1s 55us/step - loss: 0.1950 - acc: 0.9534 - val_loss: 0.1479 - val_acc: 0.9674\n",
      "Epoch 62/100\n",
      "25920/25920 [==============================] - 1s 57us/step - loss: 0.1965 - acc: 0.9537 - val_loss: 0.1544 - val_acc: 0.9642\n",
      "Epoch 63/100\n",
      "25920/25920 [==============================] - 1s 58us/step - loss: 0.1933 - acc: 0.9564 - val_loss: 0.1461 - val_acc: 0.9674\n",
      "Epoch 64/100\n",
      "25920/25920 [==============================] - 1s 56us/step - loss: 0.1925 - acc: 0.9557 - val_loss: 0.1449 - val_acc: 0.9601\n",
      "Epoch 65/100\n",
      "25920/25920 [==============================] - 2s 59us/step - loss: 0.1890 - acc: 0.9561 - val_loss: 0.1564 - val_acc: 0.9538\n",
      "Epoch 66/100\n",
      "25920/25920 [==============================] - 1s 54us/step - loss: 0.1918 - acc: 0.9537 - val_loss: 0.1596 - val_acc: 0.9642\n",
      "Epoch 67/100\n",
      "25920/25920 [==============================] - 2s 63us/step - loss: 0.1941 - acc: 0.9526 - val_loss: 0.1561 - val_acc: 0.9642\n",
      "Epoch 68/100\n",
      "25920/25920 [==============================] - 2s 60us/step - loss: 0.1950 - acc: 0.9538 - val_loss: 0.1467 - val_acc: 0.9625\n",
      "Epoch 69/100\n",
      "25920/25920 [==============================] - 1s 57us/step - loss: 0.1834 - acc: 0.9562 - val_loss: 0.1437 - val_acc: 0.9625\n",
      "Epoch 70/100\n",
      "25920/25920 [==============================] - 2s 63us/step - loss: 0.1914 - acc: 0.9563 - val_loss: 0.1645 - val_acc: 0.9465\n",
      "Epoch 71/100\n",
      "25920/25920 [==============================] - 1s 58us/step - loss: 0.1948 - acc: 0.9519 - val_loss: 0.1459 - val_acc: 0.9628\n",
      "Epoch 72/100\n",
      "25920/25920 [==============================] - 2s 59us/step - loss: 0.1858 - acc: 0.9564 - val_loss: 0.1448 - val_acc: 0.9646\n",
      "Epoch 73/100\n",
      "25920/25920 [==============================] - 2s 60us/step - loss: 0.1850 - acc: 0.9542 - val_loss: 0.1451 - val_acc: 0.9646\n",
      "Epoch 74/100\n",
      "25920/25920 [==============================] - 2s 60us/step - loss: 0.1817 - acc: 0.9574 - val_loss: 0.1464 - val_acc: 0.9628\n",
      "Epoch 75/100\n",
      "25920/25920 [==============================] - 2s 60us/step - loss: 0.1780 - acc: 0.9577 - val_loss: 0.1413 - val_acc: 0.9691\n",
      "Epoch 76/100\n",
      "25920/25920 [==============================] - 2s 60us/step - loss: 0.1863 - acc: 0.9564 - val_loss: 0.1428 - val_acc: 0.9653\n",
      "Epoch 77/100\n",
      "25920/25920 [==============================] - 2s 61us/step - loss: 0.1828 - acc: 0.9552 - val_loss: 0.1447 - val_acc: 0.9618\n",
      "Epoch 78/100\n",
      "25920/25920 [==============================] - 2s 60us/step - loss: 0.1855 - acc: 0.9564 - val_loss: 0.1403 - val_acc: 0.9681\n",
      "Epoch 79/100\n",
      "25920/25920 [==============================] - 2s 63us/step - loss: 0.1798 - acc: 0.9590 - val_loss: 0.1379 - val_acc: 0.9677\n",
      "Epoch 80/100\n",
      "25920/25920 [==============================] - 2s 59us/step - loss: 0.1686 - acc: 0.9615 - val_loss: 0.1416 - val_acc: 0.9580\n",
      "Epoch 81/100\n",
      "25920/25920 [==============================] - 2s 63us/step - loss: 0.1682 - acc: 0.9589 - val_loss: 0.1326 - val_acc: 0.9677\n",
      "Epoch 82/100\n",
      "25920/25920 [==============================] - 2s 59us/step - loss: 0.1708 - acc: 0.9596 - val_loss: 0.1311 - val_acc: 0.9698\n",
      "Epoch 83/100\n",
      "25920/25920 [==============================] - 2s 59us/step - loss: 0.1654 - acc: 0.9626 - val_loss: 0.1375 - val_acc: 0.9628\n",
      "Epoch 84/100\n",
      "25920/25920 [==============================] - 2s 62us/step - loss: 0.1691 - acc: 0.9606 - val_loss: 0.1302 - val_acc: 0.9681\n",
      "Epoch 85/100\n",
      "25920/25920 [==============================] - 2s 61us/step - loss: 0.1685 - acc: 0.9601 - val_loss: 0.1354 - val_acc: 0.9646\n",
      "Epoch 86/100\n",
      "25920/25920 [==============================] - 2s 61us/step - loss: 0.1698 - acc: 0.9610 - val_loss: 0.1352 - val_acc: 0.9660\n",
      "Epoch 87/100\n",
      "25920/25920 [==============================] - 2s 65us/step - loss: 0.1706 - acc: 0.9591 - val_loss: 0.1339 - val_acc: 0.9705\n",
      "Epoch 88/100\n",
      "25920/25920 [==============================] - 2s 62us/step - loss: 0.1793 - acc: 0.9554 - val_loss: 0.1332 - val_acc: 0.9639\n",
      "Epoch 89/100\n",
      "25920/25920 [==============================] - 2s 65us/step - loss: 0.1669 - acc: 0.9616 - val_loss: 0.1301 - val_acc: 0.9660\n",
      "Epoch 90/100\n",
      "25920/25920 [==============================] - 2s 64us/step - loss: 0.1708 - acc: 0.9590 - val_loss: 0.1298 - val_acc: 0.9701\n",
      "Epoch 91/100\n",
      "25920/25920 [==============================] - 2s 62us/step - loss: 0.1652 - acc: 0.9602 - val_loss: 0.1345 - val_acc: 0.9625\n",
      "Epoch 92/100\n",
      "25920/25920 [==============================] - 2s 66us/step - loss: 0.1661 - acc: 0.9608 - val_loss: 0.1287 - val_acc: 0.9694\n",
      "Epoch 93/100\n",
      "25920/25920 [==============================] - 2s 62us/step - loss: 0.1663 - acc: 0.9613 - val_loss: 0.1318 - val_acc: 0.9701\n",
      "Epoch 94/100\n",
      "25920/25920 [==============================] - 2s 64us/step - loss: 0.1690 - acc: 0.9568 - val_loss: 0.1276 - val_acc: 0.9726\n",
      "Epoch 95/100\n",
      "25920/25920 [==============================] - 2s 61us/step - loss: 0.1635 - acc: 0.9605 - val_loss: 0.1285 - val_acc: 0.9677\n",
      "Epoch 96/100\n",
      "25920/25920 [==============================] - 2s 66us/step - loss: 0.1624 - acc: 0.9628 - val_loss: 0.1320 - val_acc: 0.9705\n",
      "Epoch 97/100\n",
      "25920/25920 [==============================] - 2s 63us/step - loss: 0.1663 - acc: 0.9598 - val_loss: 0.1316 - val_acc: 0.9670\n",
      "Epoch 98/100\n",
      "25920/25920 [==============================] - 2s 65us/step - loss: 0.1617 - acc: 0.9618 - val_loss: 0.1395 - val_acc: 0.9549\n",
      "Epoch 99/100\n",
      "25920/25920 [==============================] - 2s 66us/step - loss: 0.1592 - acc: 0.9614 - val_loss: 0.1257 - val_acc: 0.9750\n",
      "Epoch 100/100\n",
      "25920/25920 [==============================] - 2s 67us/step - loss: 0.1562 - acc: 0.9635 - val_loss: 0.1236 - val_acc: 0.9743\n"
     ]
    },
    {
     "data": {
      "text/plain": [
       "<keras.callbacks.History at 0x1a743e2dda0>"
      ]
     },
     "execution_count": 64,
     "metadata": {},
     "output_type": "execute_result"
    }
   ],
   "source": [
    "# create model\n",
    "model = Sequential()\n",
    "model.add(Dense(128, input_dim=X_train.shape[1], activation='relu'))\n",
    "model.add(Dense(128, activation='relu'))\n",
    "model.add(Dropout(0.5))\n",
    "model.add(Dense(64, activation='relu'))\n",
    "model.add(Dropout(0.5))\n",
    "model.add(Dense(32, activation='relu'))\n",
    "model.add(Dropout(0.8))\n",
    "model.add(Dense(32, activation='relu'))\n",
    "model.add(Dropout(0.8))\n",
    "#model.add(Dense(16, activation='relu'))\n",
    "model.add(Dense(8, activation='relu'))\n",
    "model.add(Dense(4, activation='relu'))\n",
    "model.add(Dense(1, activation='sigmoid'))\n",
    "\n",
    "# Compile model\n",
    "model.compile(loss='binary_crossentropy', optimizer='adam', metrics=['accuracy'])\n",
    "# Fit the model\n",
    "model.fit(X_train, y_train, epochs=100, batch_size=1000,validation_split = 0.1,verbose = 1)"
   ]
  },
  {
   "cell_type": "code",
   "execution_count": 71,
   "metadata": {},
   "outputs": [
    {
     "name": "stdout",
     "output_type": "stream",
     "text": [
      "neural network:              precision    recall  f1-score   support\n",
      "\n",
      "          0       0.97      0.99      0.98      5713\n",
      "          1       0.96      0.87      0.91      1487\n",
      "\n",
      "avg / total       0.97      0.97      0.96      7200\n",
      "\n"
     ]
    }
   ],
   "source": [
    "from sklearn.metrics import classification_report\n",
    "\n",
    "y_predict = model.predict(X_test)\n",
    "tes_y_predict = model.predict(val_X)\n",
    "\n",
    "a = []\n",
    "for i in y_predict:\n",
    "    if i >= 0.5:\n",
    "        y_pred = 1\n",
    "    else:\n",
    "        y_pred = 0\n",
    "    a.append(y_pred)\n",
    "    \n",
    "ny_pred = a\n",
    "\n",
    "print('neural network:',classification_report(y_test, ny_pred, target_names=[\"0\", \"1\"]))\n",
    "\n",
    "###### validation\n",
    "\n",
    "b = []\n",
    "for i in tes_y_predict:\n",
    "    if i >= 0.5:\n",
    "        tes_y_predict = 1\n",
    "    else:\n",
    "        tes_y_predict = 0\n",
    "    b.append(tes_y_predict)\n",
    "    \n",
    "nval_y_predict = b\n"
   ]
  },
  {
   "cell_type": "code",
   "execution_count": 66,
   "metadata": {},
   "outputs": [
    {
     "name": "stdout",
     "output_type": "stream",
     "text": [
      "0.9301156142781756\n"
     ]
    }
   ],
   "source": [
    "# AUC\n",
    "from sklearn.metrics import roc_auc_score\n",
    "\n",
    "auc = roc_auc_score(y_test,ny_pred)\n",
    "\n",
    "print(auc)\n"
   ]
  },
  {
   "cell_type": "code",
   "execution_count": 72,
   "metadata": {},
   "outputs": [
    {
     "name": "stdout",
     "output_type": "stream",
     "text": [
      "0.9297863002364111\n"
     ]
    }
   ],
   "source": [
    "# AUC validation ##\n",
    "from sklearn.metrics import roc_auc_score\n",
    "\n",
    "auc = roc_auc_score(val_y,nval_y_predict)\n",
    "\n",
    "print(auc)\n"
   ]
  },
  {
   "cell_type": "code",
   "execution_count": 74,
   "metadata": {},
   "outputs": [
    {
     "data": {
      "text/plain": [
       "array([[3161,   30],\n",
       "       [ 106,  703]], dtype=int64)"
      ]
     },
     "execution_count": 74,
     "metadata": {},
     "output_type": "execute_result"
    }
   ],
   "source": [
    "from sklearn.metrics import confusion_matrix\n",
    "confusion_matrix(val_y,nval_y_predict) "
   ]
  },
  {
   "cell_type": "markdown",
   "metadata": {},
   "source": [
    "## Prediction on Test set ##"
   ]
  },
  {
   "cell_type": "code",
   "execution_count": 76,
   "metadata": {},
   "outputs": [
    {
     "data": {
      "text/plain": [
       "(40000, 104)"
      ]
     },
     "execution_count": 76,
     "metadata": {},
     "output_type": "execute_result"
    }
   ],
   "source": [
    "from sklearn.preprocessing import MinMaxScaler\n",
    "from sklearn.model_selection import train_test_split\n",
    "\n",
    "seed = 15678\n",
    "\n",
    "### FULL MODEL #####\n",
    "tes = df.iloc[40000:50000,]\n",
    "df = df.iloc[0:40000,]\n",
    "\n",
    "df['y'] = df['y'].astype(np.int64)\n",
    "\n",
    "df['new'] = (df.x75 + df.x37)\n",
    "df['new2'] = (df.x58 + df.x97)\n",
    "\n",
    "tes['new'] = (tes.x75 + tes.x37)\n",
    "tes['new2'] = (tes.x58 + tes.x97)\n",
    "\n",
    "\n",
    "a =['x75', 'x37', 'x58', 'x97', 'x41', 'x99', 'x56', 'x66','x63','x53', 'x1', 'x3','x70','x83','x21','x22','x51','x5','x12','x10',\n",
    "    'x44','x78','x72', 'x73', 'x43','x96','new','new2','x50', 'x33','x2','x0','x77', 'x69','x57','x19']\n",
    "\n",
    "\n",
    "\n",
    "X = df[a]\n",
    "y = df.y\n",
    "\n",
    "tes_X1 = tes[a]\n",
    "tes_y = tes.y\n",
    "\n",
    "# Split train, test\n",
    "scaler = MinMaxScaler()\n",
    "X_train_org, X_test_org, y_train, y_test = train_test_split(X, y, random_state = seed , test_size = 0.2)\n",
    "\n",
    "X_train = scaler.fit_transform(X_train_org)\n",
    "X_test  = scaler.transform(X_test_org)\n",
    "tes_X   = scaler.transform(tes_X1)"
   ]
  },
  {
   "cell_type": "markdown",
   "metadata": {},
   "source": [
    "#### Soft Voting"
   ]
  },
  {
   "cell_type": "code",
   "execution_count": null,
   "metadata": {},
   "outputs": [],
   "source": [
    "from sklearn.ensemble import RandomForestClassifier\n",
    "from sklearn.neighbors import KNeighborsClassifier\n",
    "from sklearn.model_selection import GridSearchCV\n",
    "from sklearn.ensemble import VotingClassifier\n",
    "from sklearn.svm import SVC\n",
    "\n",
    "C = 3\n",
    "gamma = 20 \n",
    "n_neighbors  = 7\n",
    "max_depth    = 20\n",
    "n_estimators = 190\n",
    "          \n",
    "knn_clf = KNeighborsClassifier(n_neighbors)\n",
    "rnd_clf = RandomForestClassifier(max_depth =max_depth, n_estimators=n_estimators  ,random_state = seed)\n",
    "svm_clf = SVC(kernel = 'rbf', C= C, gamma = gamma,probability = True)\n",
    "\n",
    "knn_clf.fit(X_train, y_train)\n",
    "rnd_clf.fit(X_train, y_train)\n",
    "svm_clf.fit(X_train, y_train)\n",
    "\n",
    "\n",
    "voting_clf = VotingClassifier(estimators=[('rnd', rnd_clf), ('svc', svm_clf),('knn', knn_clf)], voting='soft')\n",
    "voting_clf.fit(X_train, y_train)\n",
    "sy_pred = clf.predict(X_test)\n",
    "\n",
    "from sklearn.metrics import accuracy_score\n",
    "for clf in (knn_clf,svm_clf, rnd_clf, voting_clf):\n",
    "    clf.fit(X_train, y_train)\n",
    "    sy_pred = clf.predict(X_test)\n",
    "    softv_y_pred = clf.predict(tes_X)\n",
    "    print(clf.__class__.__name__, accuracy_score(y_test, sy_pred))\n",
    "\n",
    "\n",
    "from sklearn.metrics import classification_report\n",
    "\n",
    "print('Soft Voting:',classification_report(y_test, sy_pred, target_names=[\"0\", \"1\"]))"
   ]
  },
  {
   "cell_type": "code",
   "execution_count": null,
   "metadata": {},
   "outputs": [],
   "source": [
    "# AUC\n",
    "from sklearn.metrics import roc_auc_score\n",
    "\n",
    "auc = roc_auc_score(y_test,sy_pred)\n",
    "\n",
    "print(auc)"
   ]
  },
  {
   "cell_type": "code",
   "execution_count": null,
   "metadata": {},
   "outputs": [],
   "source": [
    "softv_pred = pd.DataFrame(softv_y_pred)\n",
    "softv_pred.to_csv(\"results1.csv\")"
   ]
  },
  {
   "cell_type": "markdown",
   "metadata": {},
   "source": [
    "#### Neural Network"
   ]
  },
  {
   "cell_type": "code",
   "execution_count": null,
   "metadata": {},
   "outputs": [],
   "source": [
    "# create model\n",
    "model = Sequential()\n",
    "model.add(Dense(128, input_dim=X_train.shape[1], activation='relu'))\n",
    "model.add(Dense(128, activation='relu'))\n",
    "model.add(Dropout(0.5))\n",
    "model.add(Dense(64, activation='relu'))\n",
    "model.add(Dropout(0.5))\n",
    "model.add(Dense(32, activation='relu'))\n",
    "model.add(Dropout(0.8))\n",
    "model.add(Dense(32, activation='relu'))\n",
    "model.add(Dropout(0.8))\n",
    "#model.add(Dense(16, activation='relu'))\n",
    "model.add(Dense(8, activation='relu'))\n",
    "model.add(Dense(4, activation='relu'))\n",
    "model.add(Dense(1, activation='sigmoid'))\n",
    "\n",
    "# Compile model\n",
    "model.compile(loss='binary_crossentropy', optimizer='adam', metrics=['accuracy'])\n",
    "# Fit the model\n",
    "model.fit(X_train, y_train, epochs=100, batch_size=1000,validation_split = 0.1,verbose = 1)"
   ]
  },
  {
   "cell_type": "code",
   "execution_count": null,
   "metadata": {},
   "outputs": [],
   "source": [
    "from sklearn.metrics import classification_report\n",
    "\n",
    "y_predict = model.predict(X_test)\n",
    "tes_y_predict = model.predict(tes_X)\n",
    "\n",
    "a = []\n",
    "for i in y_predict:\n",
    "    if i >= 0.5:\n",
    "        y_pred = 1\n",
    "    else:\n",
    "        y_pred = 0\n",
    "    a.append(y_pred)\n",
    "    \n",
    "ny_pred = a\n",
    "\n",
    "print('neural network:',classification_report(y_test, ny_pred, target_names=[\"0\", \"1\"]))\n",
    "\n",
    "###### Test #####\n",
    "\n",
    "b = []\n",
    "for i in tes_y_predict:\n",
    "    if i >= 0.5:\n",
    "        tes_y_predict = 1\n",
    "    else:\n",
    "        tes_y_predict = 0\n",
    "    b.append(tes_y_predict)\n",
    "    \n",
    "nntes_y_predict = b\n"
   ]
  },
  {
   "cell_type": "code",
   "execution_count": null,
   "metadata": {},
   "outputs": [],
   "source": [
    "# AUC\n",
    "from sklearn.metrics import roc_auc_score\n",
    "\n",
    "auc = roc_auc_score(y_test,ny_pred)\n",
    "\n",
    "print(auc)"
   ]
  },
  {
   "cell_type": "code",
   "execution_count": null,
   "metadata": {},
   "outputs": [],
   "source": [
    "nntes_predict = pd.DataFrame(nntes_y_predict)\n",
    "nntes_predict.to_csv(\"results2.csv.csv\")"
   ]
  }
 ],
 "metadata": {
  "kernelspec": {
   "display_name": "Python 3",
   "language": "python",
   "name": "python3"
  },
  "language_info": {
   "codemirror_mode": {
    "name": "ipython",
    "version": 3
   },
   "file_extension": ".py",
   "mimetype": "text/x-python",
   "name": "python",
   "nbconvert_exporter": "python",
   "pygments_lexer": "ipython3",
   "version": "3.6.5"
  }
 },
 "nbformat": 4,
 "nbformat_minor": 2
}
