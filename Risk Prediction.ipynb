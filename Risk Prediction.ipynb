{
 "cells": [
  {
   "cell_type": "markdown",
   "metadata": {},
   "source": [
    "---\n",
    "### Data Set Information:\n",
    "\n",
    "The goal of the research is to help the auditors by building a classification model that can predict the fraudulent firm on the basis the present and historical risk factors. The information about the sectors and the counts of firms are listed respectively as Irrigation (114), Public Health (77), Buildings and Roads (82), Forest (70), Corporate (47), Animal Husbandry (95), Communication (1), Electrical (4), Land (5), Science and Technology (3), Tourism (1), Fisheries (41), Industries (37), Agriculture (200).\n",
    "\n",
    "Consider ``Audit_Risk`` as target columns for regression tasks.\n",
    "### Attribute Information:\n",
    "Many risk factors are examined from various areas like past records of audit office, audit-paras, environmental conditions reports, firm reputation summary, on-going issues report, profit-value records, loss-value records, follow-up reports etc. After in-depth interview with the auditors, important risk factors are evaluated and their probability of existence is calculated from the present and past records.\n",
    "\n",
    "\n",
    "### Relevant Papers:\n",
    "Hooda, Nishtha, Seema Bawa, and Prashant Singh Rana. 'Fraudulent Firm Classification: A Case Study of an External Audit.' Applied Artificial Intelligence 32.1 (2018): 48-64."
   ]
  },
  {
   "cell_type": "code",
   "execution_count": 1,
   "metadata": {},
   "outputs": [],
   "source": [
    "import pandas as pd\n",
    "import numpy as np\n",
    "import matplotlib.pyplot as plt\n",
    "from pandas.plotting import scatter_matrix\n",
    "import seaborn as sns"
   ]
  },
  {
   "cell_type": "code",
   "execution_count": 2,
   "metadata": {},
   "outputs": [
    {
     "name": "stdout",
     "output_type": "stream",
     "text": [
      "(776, 27)\n",
      "(776, 18)\n"
     ]
    }
   ],
   "source": [
    "# Import files\n",
    "ar = pd.read_csv('../audit_risk.csv')\n",
    "tr = pd.read_csv('../trial.csv')\n",
    "print(ar.shape)\n",
    "print(tr.shape)"
   ]
  },
  {
   "cell_type": "code",
   "execution_count": 3,
   "metadata": {},
   "outputs": [],
   "source": [
    "# comapre column names \n",
    "ar_cols = ar.columns\n",
    "tr_cols = tr.columns\n",
    "\n",
    "common_cols = ar_cols.intersection(tr_cols)\n",
    "ar_not_tr = ar_cols.difference(tr_cols)\n",
    "tr_not_ar = tr_cols.difference(ar_cols)"
   ]
  },
  {
   "cell_type": "code",
   "execution_count": 4,
   "metadata": {},
   "outputs": [
    {
     "data": {
      "text/plain": [
       "(776, 36)"
      ]
     },
     "execution_count": 4,
     "metadata": {},
     "output_type": "execute_result"
    }
   ],
   "source": [
    "# Modify common column names and compare their values\n",
    "# Risk has different values in ar and tr, rest of the common columns have the same values\n",
    "# Combine two datasets into one (Keep only one copy of the common columns)\n",
    "\n",
    "tr.rename(columns={'Risk':'tRisk'}, inplace=True) # replace Risk in tr with tRisk \n",
    "\n",
    "ar_cols = ar.columns\n",
    "tr_cols = tr.columns\n",
    "tr_not_ar = tr_cols.difference(ar_cols)\n",
    "\n",
    "df = pd.concat([ar,tr[tr_not_ar]], axis=1)\n",
    "df.shape"
   ]
  },
  {
   "cell_type": "code",
   "execution_count": 5,
   "metadata": {},
   "outputs": [
    {
     "data": {
      "text/plain": [
       "1"
      ]
     },
     "execution_count": 5,
     "metadata": {},
     "output_type": "execute_result"
    }
   ],
   "source": [
    "df.isnull().values.sum()"
   ]
  },
  {
   "cell_type": "code",
   "execution_count": 6,
   "metadata": {},
   "outputs": [
    {
     "data": {
      "text/html": [
       "<div>\n",
       "<style scoped>\n",
       "    .dataframe tbody tr th:only-of-type {\n",
       "        vertical-align: middle;\n",
       "    }\n",
       "\n",
       "    .dataframe tbody tr th {\n",
       "        vertical-align: top;\n",
       "    }\n",
       "\n",
       "    .dataframe thead th {\n",
       "        text-align: right;\n",
       "    }\n",
       "</style>\n",
       "<table border=\"1\" class=\"dataframe\">\n",
       "  <thead>\n",
       "    <tr style=\"text-align: right;\">\n",
       "      <th></th>\n",
       "      <th>Sector_score</th>\n",
       "      <th>LOCATION_ID</th>\n",
       "      <th>PARA_A</th>\n",
       "      <th>Score_A</th>\n",
       "      <th>Risk_A</th>\n",
       "      <th>PARA_B</th>\n",
       "      <th>Score_B</th>\n",
       "      <th>Risk_B</th>\n",
       "      <th>TOTAL</th>\n",
       "      <th>numbers</th>\n",
       "      <th>...</th>\n",
       "      <th>Risk</th>\n",
       "      <th>District</th>\n",
       "      <th>History_score</th>\n",
       "      <th>LOSS_SCORE</th>\n",
       "      <th>Loss</th>\n",
       "      <th>MONEY_Marks</th>\n",
       "      <th>Marks</th>\n",
       "      <th>SCORE_A</th>\n",
       "      <th>SCORE_B</th>\n",
       "      <th>tRisk</th>\n",
       "    </tr>\n",
       "  </thead>\n",
       "  <tbody>\n",
       "    <tr>\n",
       "      <th>642</th>\n",
       "      <td>55.57</td>\n",
       "      <td>4</td>\n",
       "      <td>0.23</td>\n",
       "      <td>0.2</td>\n",
       "      <td>0.046</td>\n",
       "      <td>0.0</td>\n",
       "      <td>0.2</td>\n",
       "      <td>0.0</td>\n",
       "      <td>0.23</td>\n",
       "      <td>5.0</td>\n",
       "      <td>...</td>\n",
       "      <td>0</td>\n",
       "      <td>2</td>\n",
       "      <td>2</td>\n",
       "      <td>2</td>\n",
       "      <td>0</td>\n",
       "      <td>2</td>\n",
       "      <td>2</td>\n",
       "      <td>2</td>\n",
       "      <td>2</td>\n",
       "      <td>0</td>\n",
       "    </tr>\n",
       "  </tbody>\n",
       "</table>\n",
       "<p>1 rows × 36 columns</p>\n",
       "</div>"
      ],
      "text/plain": [
       "     Sector_score LOCATION_ID  PARA_A  Score_A  Risk_A  PARA_B  Score_B  \\\n",
       "642         55.57           4    0.23      0.2   0.046     0.0      0.2   \n",
       "\n",
       "     Risk_B  TOTAL  numbers  ...    Risk  District  History_score  LOSS_SCORE  \\\n",
       "642     0.0   0.23      5.0  ...       0         2              2           2   \n",
       "\n",
       "     Loss  MONEY_Marks  Marks  SCORE_A  SCORE_B  tRisk  \n",
       "642     0            2      2        2        2      0  \n",
       "\n",
       "[1 rows x 36 columns]"
      ]
     },
     "execution_count": 6,
     "metadata": {},
     "output_type": "execute_result"
    }
   ],
   "source": [
    "# Money_value and aMoney_value have Nan\n",
    "df[df.isnull().any(1)]"
   ]
  },
  {
   "cell_type": "code",
   "execution_count": 8,
   "metadata": {},
   "outputs": [
    {
     "name": "stdout",
     "output_type": "stream",
     "text": [
      "Money_Value with NaN: 10970.80163096774\n",
      "Repalce NaN with mean: 10970.80163096774\n"
     ]
    }
   ],
   "source": [
    "# Fill NAN with mean\n",
    "\n",
    "print('Money_Value with NaN:',df.loc[:,'Money_Value'].sum())\n",
    "\n",
    "df['Money_Value'] = df['Money_Value'].fillna(df['Money_Value'].mean())\n",
    "\n",
    "print('Repalce NaN with mean:',df.loc[:,'Money_Value'].sum())\n"
   ]
  },
  {
   "cell_type": "code",
   "execution_count": 9,
   "metadata": {},
   "outputs": [],
   "source": [
    "# Select columns based on their types\n",
    "flo_vars = list(df.select_dtypes(include=[np.float64]))\n",
    "int_vars = list(df.select_dtypes(include=[np.int64]))"
   ]
  },
  {
   "cell_type": "code",
   "execution_count": 10,
   "metadata": {},
   "outputs": [
    {
     "name": "stdout",
     "output_type": "stream",
     "text": [
      "Detection_Risk , unique values: 1\n",
      "['Detection_Risk']\n"
     ]
    }
   ],
   "source": [
    "# Select columns with less than 2 unique values :Detection_Risk'\n",
    "less2 =[]\n",
    "for flo in flo_vars:\n",
    "    a = len(np.unique(df[flo]))\n",
    "    if a < 2:\n",
    "        print(flo,', unique values:', a)\n",
    "        less2.append(flo)\n",
    "print(less2)        "
   ]
  },
  {
   "cell_type": "code",
   "execution_count": 11,
   "metadata": {},
   "outputs": [
    {
     "name": "stdout",
     "output_type": "stream",
     "text": [
      "[]\n"
     ]
    }
   ],
   "source": [
    "# Select columns with less than 2 unique values : Not found\n",
    "les2 =[]\n",
    "for it in int_vars:\n",
    "    a = len(np.unique(df[it]))\n",
    "    if a < 2:\n",
    "        print(it,', unique values:', a)\n",
    "        less2.append(it)\n",
    "print(les2)"
   ]
  },
  {
   "cell_type": "code",
   "execution_count": 12,
   "metadata": {},
   "outputs": [],
   "source": [
    "# drop \"Detection_Risk\"\n",
    "df = df.drop(['Detection_Risk'], axis=1)"
   ]
  },
  {
   "cell_type": "code",
   "execution_count": null,
   "metadata": {},
   "outputs": [],
   "source": [
    "# Check the patterns for columns with similar names\n",
    "# Using seaborn pairplot to see the bivariate relation between each pair of features\n",
    "import seaborn as sns\n",
    "sns.set()\n",
    "\n",
    "similar_vars = ['Score_A', 'Score_B', 'Score_B.1', 'SCORE_A', 'SCORE_B']\n",
    "\n",
    "sns.pairplot(df[similar_vars],size = 1 ,kind ='scatter')\n",
    "plt.show()"
   ]
  },
  {
   "cell_type": "code",
   "execution_count": 13,
   "metadata": {},
   "outputs": [],
   "source": [
    "# 10x Score_A = SCORE_A , 10x Score_B = SCORE_B\n",
    "\n",
    "df = df.drop(['Score_A','Score_B'], axis=1)"
   ]
  },
  {
   "cell_type": "code",
   "execution_count": 14,
   "metadata": {},
   "outputs": [
    {
     "name": "stdout",
     "output_type": "stream",
     "text": [
      "20 12\n"
     ]
    }
   ],
   "source": [
    "# Reorganize column types\n",
    "dfnames = list(df)\n",
    "\n",
    "new_flo = list(df.select_dtypes(include=[np.float64]))\n",
    "new_int = list(df.select_dtypes(include=[np.int64]))\n",
    "\n",
    "print(len(new_flo),len(new_int))\n"
   ]
  },
  {
   "cell_type": "code",
   "execution_count": null,
   "metadata": {},
   "outputs": [],
   "source": [
    "# Using seaborn pairplot to see the bivariate relation between each pair of features\n",
    "import seaborn as sns\n",
    "sns.set()\n",
    "\n",
    "sns.pairplot(df[new_int],size = 1 ,kind ='scatter')\n",
    "plt.show()"
   ]
  },
  {
   "cell_type": "code",
   "execution_count": 15,
   "metadata": {},
   "outputs": [],
   "source": [
    "# District  = District_Loss \n",
    "\n",
    "df = df.drop(['District'], axis=1)"
   ]
  },
  {
   "cell_type": "code",
   "execution_count": null,
   "metadata": {},
   "outputs": [],
   "source": [
    "# Using seaborn pairplot to see the bivariate relation between each pair of features\n",
    "import seaborn as sns\n",
    "sns.set()\n",
    "\n",
    "sns.pairplot(df[new_flo],size = 1 ,kind ='scatter')\n",
    "plt.show()"
   ]
  },
  {
   "cell_type": "code",
   "execution_count": 16,
   "metadata": {},
   "outputs": [
    {
     "data": {
      "text/html": [
       "<div>\n",
       "<style scoped>\n",
       "    .dataframe tbody tr th:only-of-type {\n",
       "        vertical-align: middle;\n",
       "    }\n",
       "\n",
       "    .dataframe tbody tr th {\n",
       "        vertical-align: top;\n",
       "    }\n",
       "\n",
       "    .dataframe thead th {\n",
       "        text-align: right;\n",
       "    }\n",
       "</style>\n",
       "<table border=\"1\" class=\"dataframe\">\n",
       "  <thead>\n",
       "    <tr style=\"text-align: right;\">\n",
       "      <th></th>\n",
       "      <th>PARA_B</th>\n",
       "      <th>Risk_B</th>\n",
       "    </tr>\n",
       "  </thead>\n",
       "  <tbody>\n",
       "    <tr>\n",
       "      <th>766</th>\n",
       "      <td>0.57</td>\n",
       "      <td>0.114</td>\n",
       "    </tr>\n",
       "    <tr>\n",
       "      <th>767</th>\n",
       "      <td>0.54</td>\n",
       "      <td>0.108</td>\n",
       "    </tr>\n",
       "    <tr>\n",
       "      <th>768</th>\n",
       "      <td>0.53</td>\n",
       "      <td>0.106</td>\n",
       "    </tr>\n",
       "    <tr>\n",
       "      <th>769</th>\n",
       "      <td>0.50</td>\n",
       "      <td>0.100</td>\n",
       "    </tr>\n",
       "    <tr>\n",
       "      <th>770</th>\n",
       "      <td>0.45</td>\n",
       "      <td>0.090</td>\n",
       "    </tr>\n",
       "    <tr>\n",
       "      <th>771</th>\n",
       "      <td>0.40</td>\n",
       "      <td>0.080</td>\n",
       "    </tr>\n",
       "    <tr>\n",
       "      <th>772</th>\n",
       "      <td>0.37</td>\n",
       "      <td>0.074</td>\n",
       "    </tr>\n",
       "    <tr>\n",
       "      <th>773</th>\n",
       "      <td>0.04</td>\n",
       "      <td>0.008</td>\n",
       "    </tr>\n",
       "    <tr>\n",
       "      <th>774</th>\n",
       "      <td>0.00</td>\n",
       "      <td>0.000</td>\n",
       "    </tr>\n",
       "    <tr>\n",
       "      <th>775</th>\n",
       "      <td>0.00</td>\n",
       "      <td>0.000</td>\n",
       "    </tr>\n",
       "  </tbody>\n",
       "</table>\n",
       "</div>"
      ],
      "text/plain": [
       "     PARA_B  Risk_B\n",
       "766    0.57   0.114\n",
       "767    0.54   0.108\n",
       "768    0.53   0.106\n",
       "769    0.50   0.100\n",
       "770    0.45   0.090\n",
       "771    0.40   0.080\n",
       "772    0.37   0.074\n",
       "773    0.04   0.008\n",
       "774    0.00   0.000\n",
       "775    0.00   0.000"
      ]
     },
     "execution_count": 16,
     "metadata": {},
     "output_type": "execute_result"
    }
   ],
   "source": [
    "df[['PARA_B','Risk_B']].tail(10)"
   ]
  },
  {
   "cell_type": "code",
   "execution_count": 17,
   "metadata": {},
   "outputs": [],
   "source": [
    "#  2x Money_Value = Risk_D, PARA_A = 50x Risk_A,PARA_B = 50x Risk_B\n",
    "\n",
    "df = df.drop(['Risk_D','Risk_B','Risk_A'], axis=1)"
   ]
  },
  {
   "cell_type": "code",
   "execution_count": 18,
   "metadata": {},
   "outputs": [
    {
     "data": {
      "image/png": "[encoded data removed]",
      "text/plain": [
       "<Figure size 432x288 with 1 Axes>"
      ]
     },
     "metadata": {},
     "output_type": "display_data"
    }
   ],
   "source": [
    "a=df[[\"LOCATION_ID\",\"Risk\"]].groupby(\"LOCATION_ID\").mean().sort_values(by=\"Risk\", ascending=False)\n",
    "\n",
    "# Risk varies in some LOCATION_IDs\n",
    "# Need transform location_id\n",
    "\n",
    "plt.plot(a.index,a['Risk'])\n",
    "plt.show()"
   ]
  },
  {
   "cell_type": "code",
   "execution_count": 19,
   "metadata": {},
   "outputs": [],
   "source": [
    "# Rename Location_ID (character to number)\n",
    "a =[]\n",
    "for i in df.LOCATION_ID:\n",
    "    if i == 'SAFIDON':\n",
    "        new_val = 101\n",
    "    elif i == 'NUH':\n",
    "        new_val = 102\n",
    "    elif i == 'LOHARU':\n",
    "        new_val = 1003\n",
    "    else:\n",
    "        new_val = int(i)\n",
    "    a.append(new_val)\n",
    "    #df.LOCATION_ID.replace(i,new_val)\n",
    "df.LOCATION_ID = a"
   ]
  },
  {
   "cell_type": "code",
   "execution_count": 20,
   "metadata": {},
   "outputs": [
    {
     "data": {
      "text/plain": [
       "[<matplotlib.lines.Line2D at 0x28ed0f38278>]"
      ]
     },
     "execution_count": 20,
     "metadata": {},
     "output_type": "execute_result"
    },
    {
     "data": {
      "image/png": "[encoded data removed]",
      "text/plain": [
       "<Figure size 432x288 with 1 Axes>"
      ]
     },
     "metadata": {},
     "output_type": "display_data"
    }
   ],
   "source": [
    "import matplotlib.pyplot as plt\n",
    "\n",
    "#%matplotlib inline\n",
    "\n",
    "plt.plot(df['Audit_Risk'])\n",
    "\n"
   ]
  },
  {
   "cell_type": "code",
   "execution_count": 21,
   "metadata": {},
   "outputs": [
    {
     "data": {
      "text/plain": [
       "[<matplotlib.lines.Line2D at 0x28ed0f94b70>]"
      ]
     },
     "execution_count": 21,
     "metadata": {},
     "output_type": "execute_result"
    },
    {
     "data": {
      "image/png": "[encoded data removed]",
      "text/plain": [
       "<Figure size 432x288 with 1 Axes>"
      ]
     },
     "metadata": {},
     "output_type": "display_data"
    }
   ],
   "source": [
    "import matplotlib.pyplot as plt\n",
    "\n",
    "#%matplotlib inline\n",
    "log_AR = np.log1p(df['Audit_Risk'])\n",
    "\n",
    "plt.plot(log_AR)"
   ]
  },
  {
   "cell_type": "code",
   "execution_count": 22,
   "metadata": {},
   "outputs": [],
   "source": [
    "# define independent and dependent variables\n",
    "# rescale Audit_Risk\n",
    "# split data\n",
    "\n",
    "from sklearn.model_selection import train_test_split\n",
    "\n",
    "from sklearn.preprocessing import StandardScaler\n",
    "from sklearn.preprocessing import MinMaxScaler\n",
    "\n",
    "X = df.drop(['Audit_Risk'], axis = 1)\n",
    "y = df['Audit_Risk']\n",
    "\n",
    "X_train_mm, X_test_mm, y_train, y_test = train_test_split(X, y, random_state =15678 , test_size = 0.15)\n",
    "\n",
    "scaler  = StandardScaler()\n",
    "X_train = scaler.fit_transform(X_train_mm)\n",
    "X_test  = scaler.transform(X_test_mm)\n",
    "y_train = np.log1p(y_train)\n",
    "y_test  = np.log1p(y_test)\n",
    "\n",
    "# inverse of log1p\n",
    "real_ytest=np.expm1(y_test)"
   ]
  },
  {
   "cell_type": "markdown",
   "metadata": {},
   "source": [
    "### Gradient Boosting (Decision Tree)"
   ]
  },
  {
   "cell_type": "code",
   "execution_count": 23,
   "metadata": {},
   "outputs": [
    {
     "name": "stdout",
     "output_type": "stream",
     "text": [
      "Grid best parameter (max. accuracy):  {'learning_rate': 0.2, 'max_depth': 5, 'n_estimators': 200}\n",
      "Grid best score (accuracy):  0.983848695455148\n"
     ]
    }
   ],
   "source": [
    "from  sklearn.ensemble import GradientBoostingRegressor\n",
    "from sklearn.model_selection import GridSearchCV\n",
    "\n",
    "# Decision Tree parameters are adapted from previou result  \n",
    "\n",
    "grid_values = {'max_depth'  : [ 5, 10, 20, 50],\n",
    "              'n_estimators': [ 10, 50, 100, 200, 500],\n",
    "              'learning_rate': [ 0.1, 0.2, 0.5, 0.8]}\n",
    "\n",
    "\n",
    "gbrt = GradientBoostingRegressor(random_state=42)\n",
    "\n",
    "grid_clf = GridSearchCV(gbrt, cv = 5, param_grid = grid_values)\n",
    "\n",
    "grid_clf.fit(X_train, y_train)\n",
    "\n",
    "print('Grid best parameter (max. accuracy): ', grid_clf.best_params_)\n",
    "print('Grid best score (accuracy): ', grid_clf.best_score_)"
   ]
  },
  {
   "cell_type": "code",
   "execution_count": 24,
   "metadata": {},
   "outputs": [
    {
     "name": "stdout",
     "output_type": "stream",
     "text": [
      "Mean squared error (dummy): 1.09\n",
      "Mean squared error (gbrt): 0.03\n",
      "MSE (gbrt): 0.02889569831188224\n",
      "r2_score (dummy): -0.00\n",
      "r2_score (gbrt): 0.97\n"
     ]
    }
   ],
   "source": [
    "from sklearn.dummy import DummyRegressor\n",
    "from sklearn.metrics import mean_squared_error, r2_score\n",
    "\n",
    "# Apply best parameters\n",
    "\n",
    "gbrt = GradientBoostingRegressor(**grid_clf.best_params_, random_state=42)\n",
    "gbrt.fit(X_train, y_train)\n",
    "\n",
    "lm_dummy_mean = DummyRegressor(strategy = 'mean').fit(X_train, y_train)\n",
    "\n",
    "y_predict = gbrt.predict(X_test)\n",
    "y_predict_dummy_mean = lm_dummy_mean.predict(X_test)\n",
    "\n",
    "\n",
    "#print('Bag Decision Tree, coefficients: ', bag_clf.coef_)\n",
    "print(\"Mean squared error (dummy): {:.2f}\".format(mean_squared_error(y_test, \n",
    "                                                                     y_predict_dummy_mean)))\n",
    "print(\"Mean squared error (gbrt): {:.2f}\".format(mean_squared_error(y_test, y_predict)))\n",
    "print('MSE (gbrt):',np.square(y_predict-y_test).mean())\n",
    "\n",
    "print(\"r2_score (dummy): {:.2f}\".format(r2_score(y_test, y_predict_dummy_mean)))\n",
    "print(\"r2_score (gbrt): {:.2f}\".format(r2_score(y_test, y_predict)))\n",
    "\n",
    "# (MSE from no feature engineering data)\n",
    "#0.022455599574399694(MSE from feature engineering data)"
   ]
  },
  {
   "cell_type": "code",
   "execution_count": 25,
   "metadata": {},
   "outputs": [
    {
     "data": {
      "text/html": [
       "\n",
       "    <style>\n",
       "    table.eli5-weights tr:hover {\n",
       "        filter: brightness(85%);\n",
       "    }\n",
       "</style>\n",
       "\n",
       "\n",
       "\n",
       "    \n",
       "\n",
       "    \n",
       "\n",
       "    \n",
       "\n",
       "    \n",
       "\n",
       "    \n",
       "\n",
       "    \n",
       "\n",
       "\n",
       "    \n",
       "\n",
       "    \n",
       "\n",
       "    \n",
       "\n",
       "    \n",
       "\n",
       "    \n",
       "\n",
       "    \n",
       "\n",
       "\n",
       "    \n",
       "\n",
       "    \n",
       "\n",
       "    \n",
       "\n",
       "    \n",
       "\n",
       "    \n",
       "        <table class=\"eli5-weights eli5-feature-importances\" style=\"border-collapse: collapse; border: none; margin-top: 0em; table-layout: auto;\">\n",
       "    <thead>\n",
       "    <tr style=\"border: none;\">\n",
       "        <th style=\"padding: 0 1em 0 0.5em; text-align: right; border: none;\">Weight</th>\n",
       "        <th style=\"padding: 0 0.5em 0 0.5em; text-align: left; border: none;\">Feature</th>\n",
       "    </tr>\n",
       "    </thead>\n",
       "    <tbody>\n",
       "    \n",
       "        <tr style=\"background-color: hsl(120, 100.00%, 80.00%); border: none;\">\n",
       "            <td style=\"padding: 0 1em 0 0.5em; text-align: right; border: none;\">\n",
       "                1.4051\n",
       "                \n",
       "                    &plusmn; 0.2787\n",
       "                \n",
       "            </td>\n",
       "            <td style=\"padding: 0 0.5em 0 0.5em; text-align: left; border: none;\">\n",
       "                Inherent_Risk\n",
       "            </td>\n",
       "        </tr>\n",
       "    \n",
       "        <tr style=\"background-color: hsl(120, 100.00%, 97.07%); border: none;\">\n",
       "            <td style=\"padding: 0 1em 0 0.5em; text-align: right; border: none;\">\n",
       "                0.0906\n",
       "                \n",
       "                    &plusmn; 0.0179\n",
       "                \n",
       "            </td>\n",
       "            <td style=\"padding: 0 0.5em 0 0.5em; text-align: left; border: none;\">\n",
       "                CONTROL_RISK\n",
       "            </td>\n",
       "        </tr>\n",
       "    \n",
       "        <tr style=\"background-color: hsl(120, 100.00%, 98.46%); border: none;\">\n",
       "            <td style=\"padding: 0 1em 0 0.5em; text-align: right; border: none;\">\n",
       "                0.0361\n",
       "                \n",
       "                    &plusmn; 0.0155\n",
       "                \n",
       "            </td>\n",
       "            <td style=\"padding: 0 0.5em 0 0.5em; text-align: left; border: none;\">\n",
       "                Risk\n",
       "            </td>\n",
       "        </tr>\n",
       "    \n",
       "        <tr style=\"background-color: hsl(120, 100.00%, 99.83%); border: none;\">\n",
       "            <td style=\"padding: 0 1em 0 0.5em; text-align: right; border: none;\">\n",
       "                0.0015\n",
       "                \n",
       "                    &plusmn; 0.0006\n",
       "                \n",
       "            </td>\n",
       "            <td style=\"padding: 0 0.5em 0 0.5em; text-align: left; border: none;\">\n",
       "                Money_Value\n",
       "            </td>\n",
       "        </tr>\n",
       "    \n",
       "        <tr style=\"background-color: hsl(120, 100.00%, 99.89%); border: none;\">\n",
       "            <td style=\"padding: 0 1em 0 0.5em; text-align: right; border: none;\">\n",
       "                0.0008\n",
       "                \n",
       "                    &plusmn; 0.0004\n",
       "                \n",
       "            </td>\n",
       "            <td style=\"padding: 0 0.5em 0 0.5em; text-align: left; border: none;\">\n",
       "                RiSk_E\n",
       "            </td>\n",
       "        </tr>\n",
       "    \n",
       "        <tr style=\"background-color: hsl(120, 100.00%, 99.93%); border: none;\">\n",
       "            <td style=\"padding: 0 1em 0 0.5em; text-align: right; border: none;\">\n",
       "                0.0004\n",
       "                \n",
       "                    &plusmn; 0.0037\n",
       "                \n",
       "            </td>\n",
       "            <td style=\"padding: 0 0.5em 0 0.5em; text-align: left; border: none;\">\n",
       "                PARA_A\n",
       "            </td>\n",
       "        </tr>\n",
       "    \n",
       "        <tr style=\"background-color: hsl(120, 100.00%, 99.94%); border: none;\">\n",
       "            <td style=\"padding: 0 1em 0 0.5em; text-align: right; border: none;\">\n",
       "                0.0004\n",
       "                \n",
       "                    &plusmn; 0.0006\n",
       "                \n",
       "            </td>\n",
       "            <td style=\"padding: 0 0.5em 0 0.5em; text-align: left; border: none;\">\n",
       "                Score\n",
       "            </td>\n",
       "        </tr>\n",
       "    \n",
       "        <tr style=\"background-color: hsl(120, 100.00%, 99.95%); border: none;\">\n",
       "            <td style=\"padding: 0 1em 0 0.5em; text-align: right; border: none;\">\n",
       "                0.0002\n",
       "                \n",
       "                    &plusmn; 0.0002\n",
       "                \n",
       "            </td>\n",
       "            <td style=\"padding: 0 0.5em 0 0.5em; text-align: left; border: none;\">\n",
       "                TOTAL\n",
       "            </td>\n",
       "        </tr>\n",
       "    \n",
       "        <tr style=\"background-color: hsl(120, 100.00%, 99.97%); border: none;\">\n",
       "            <td style=\"padding: 0 1em 0 0.5em; text-align: right; border: none;\">\n",
       "                0.0001\n",
       "                \n",
       "                    &plusmn; 0.0003\n",
       "                \n",
       "            </td>\n",
       "            <td style=\"padding: 0 0.5em 0 0.5em; text-align: left; border: none;\">\n",
       "                History\n",
       "            </td>\n",
       "        </tr>\n",
       "    \n",
       "        <tr style=\"background-color: hsl(120, 100.00%, 99.97%); border: none;\">\n",
       "            <td style=\"padding: 0 1em 0 0.5em; text-align: right; border: none;\">\n",
       "                0.0001\n",
       "                \n",
       "                    &plusmn; 0.0000\n",
       "                \n",
       "            </td>\n",
       "            <td style=\"padding: 0 0.5em 0 0.5em; text-align: left; border: none;\">\n",
       "                District_Loss\n",
       "            </td>\n",
       "        </tr>\n",
       "    \n",
       "        <tr style=\"background-color: hsl(120, 100.00%, 99.99%); border: none;\">\n",
       "            <td style=\"padding: 0 1em 0 0.5em; text-align: right; border: none;\">\n",
       "                0.0000\n",
       "                \n",
       "                    &plusmn; 0.0000\n",
       "                \n",
       "            </td>\n",
       "            <td style=\"padding: 0 0.5em 0 0.5em; text-align: left; border: none;\">\n",
       "                Prob\n",
       "            </td>\n",
       "        </tr>\n",
       "    \n",
       "        <tr style=\"background-color: hsl(120, 100.00%, 99.99%); border: none;\">\n",
       "            <td style=\"padding: 0 1em 0 0.5em; text-align: right; border: none;\">\n",
       "                0.0000\n",
       "                \n",
       "                    &plusmn; 0.0000\n",
       "                \n",
       "            </td>\n",
       "            <td style=\"padding: 0 0.5em 0 0.5em; text-align: left; border: none;\">\n",
       "                Loss\n",
       "            </td>\n",
       "        </tr>\n",
       "    \n",
       "        <tr style=\"background-color: hsl(120, 100.00%, 99.99%); border: none;\">\n",
       "            <td style=\"padding: 0 1em 0 0.5em; text-align: right; border: none;\">\n",
       "                0.0000\n",
       "                \n",
       "                    &plusmn; 0.0000\n",
       "                \n",
       "            </td>\n",
       "            <td style=\"padding: 0 0.5em 0 0.5em; text-align: left; border: none;\">\n",
       "                MONEY_Marks\n",
       "            </td>\n",
       "        </tr>\n",
       "    \n",
       "        <tr style=\"background-color: hsl(120, 100.00%, 100.00%); border: none;\">\n",
       "            <td style=\"padding: 0 1em 0 0.5em; text-align: right; border: none;\">\n",
       "                0.0000\n",
       "                \n",
       "                    &plusmn; 0.0000\n",
       "                \n",
       "            </td>\n",
       "            <td style=\"padding: 0 0.5em 0 0.5em; text-align: left; border: none;\">\n",
       "                Risk_F\n",
       "            </td>\n",
       "        </tr>\n",
       "    \n",
       "        <tr style=\"background-color: hsl(120, 100.00%, 100.00%); border: none;\">\n",
       "            <td style=\"padding: 0 1em 0 0.5em; text-align: right; border: none;\">\n",
       "                0.0000\n",
       "                \n",
       "                    &plusmn; 0.0000\n",
       "                \n",
       "            </td>\n",
       "            <td style=\"padding: 0 0.5em 0 0.5em; text-align: left; border: none;\">\n",
       "                tRisk\n",
       "            </td>\n",
       "        </tr>\n",
       "    \n",
       "        <tr style=\"background-color: hsl(120, 100.00%, 100.00%); border: none;\">\n",
       "            <td style=\"padding: 0 1em 0 0.5em; text-align: right; border: none;\">\n",
       "                0.0000\n",
       "                \n",
       "                    &plusmn; 0.0000\n",
       "                \n",
       "            </td>\n",
       "            <td style=\"padding: 0 0.5em 0 0.5em; text-align: left; border: none;\">\n",
       "                Marks\n",
       "            </td>\n",
       "        </tr>\n",
       "    \n",
       "        <tr style=\"background-color: hsl(120, 100.00%, 100.00%); border: none;\">\n",
       "            <td style=\"padding: 0 1em 0 0.5em; text-align: right; border: none;\">\n",
       "                0.0000\n",
       "                \n",
       "                    &plusmn; 0.0000\n",
       "                \n",
       "            </td>\n",
       "            <td style=\"padding: 0 0.5em 0 0.5em; text-align: left; border: none;\">\n",
       "                PROB\n",
       "            </td>\n",
       "        </tr>\n",
       "    \n",
       "        <tr style=\"background-color: hsl(0, 100.00%, 100.00%); border: none;\">\n",
       "            <td style=\"padding: 0 1em 0 0.5em; text-align: right; border: none;\">\n",
       "                -0.0000\n",
       "                \n",
       "                    &plusmn; 0.0000\n",
       "                \n",
       "            </td>\n",
       "            <td style=\"padding: 0 0.5em 0 0.5em; text-align: left; border: none;\">\n",
       "                numbers\n",
       "            </td>\n",
       "        </tr>\n",
       "    \n",
       "        <tr style=\"background-color: hsl(0, 100.00%, 100.00%); border: none;\">\n",
       "            <td style=\"padding: 0 1em 0 0.5em; text-align: right; border: none;\">\n",
       "                -0.0000\n",
       "                \n",
       "                    &plusmn; 0.0000\n",
       "                \n",
       "            </td>\n",
       "            <td style=\"padding: 0 0.5em 0 0.5em; text-align: left; border: none;\">\n",
       "                Score_B.1\n",
       "            </td>\n",
       "        </tr>\n",
       "    \n",
       "        <tr style=\"background-color: hsl(0, 100.00%, 100.00%); border: none;\">\n",
       "            <td style=\"padding: 0 1em 0 0.5em; text-align: right; border: none;\">\n",
       "                -0.0000\n",
       "                \n",
       "                    &plusmn; 0.0000\n",
       "                \n",
       "            </td>\n",
       "            <td style=\"padding: 0 0.5em 0 0.5em; text-align: left; border: none;\">\n",
       "                Risk_C\n",
       "            </td>\n",
       "        </tr>\n",
       "    \n",
       "    \n",
       "        \n",
       "            <tr style=\"background-color: hsl(0, 100.00%, 100.00%); border: none;\">\n",
       "                <td colspan=\"2\" style=\"padding: 0 0.5em 0 0.5em; text-align: center; border: none; white-space: nowrap;\">\n",
       "                    <i>&hellip; 8 more &hellip;</i>\n",
       "                </td>\n",
       "            </tr>\n",
       "        \n",
       "    \n",
       "    </tbody>\n",
       "</table>\n",
       "    \n",
       "\n",
       "    \n",
       "\n",
       "\n",
       "    \n",
       "\n",
       "    \n",
       "\n",
       "    \n",
       "\n",
       "    \n",
       "\n",
       "    \n",
       "\n",
       "    \n",
       "\n",
       "\n",
       "\n"
      ],
      "text/plain": [
       "<IPython.core.display.HTML object>"
      ]
     },
     "execution_count": 25,
     "metadata": {},
     "output_type": "execute_result"
    }
   ],
   "source": [
    "# Using permutation importance to determine wich features are important, and see if we can lower the MSE\n",
    "\n",
    "import eli5\n",
    "from eli5.sklearn import PermutationImportance\n",
    "\n",
    "var = list(X)\n",
    "\n",
    "perm = PermutationImportance(gbrt, random_state=1).fit(X_test, y_test)\n",
    "eli5.show_weights(perm, feature_names = var)"
   ]
  },
  {
   "cell_type": "code",
   "execution_count": 62,
   "metadata": {},
   "outputs": [],
   "source": [
    "# create new features\n",
    "df['Risk_analysis_A'] =(df.Inherent_Risk + df.CONTROL_RISK)\n",
    "df['Risk_analysis_B'] =abs(df.Risk - df.Inherent_Risk)"
   ]
  },
  {
   "cell_type": "code",
   "execution_count": 63,
   "metadata": {},
   "outputs": [],
   "source": [
    "# RE-split the data since the new variable was introduced\n",
    "\n",
    "from sklearn.model_selection import train_test_split\n",
    "\n",
    "from sklearn.preprocessing import StandardScaler\n",
    "from sklearn.preprocessing import MinMaxScaler\n",
    "\n",
    "X_TEMP = df.drop(['Audit_Risk'], axis = 1)\n",
    "y_TEMP = df['Audit_Risk']\n",
    "\n",
    "X_train_PM, X_test_PM, y_train, y_test = train_test_split(X_TEMP, y_TEMP, random_state =15678 , test_size = 0.15)\n",
    "\n",
    "scaler  = StandardScaler()\n",
    "X_train_TEMP = scaler.fit_transform(X_train_PM)\n",
    "X_test_TEMP  = scaler.transform(X_test_PM)\n",
    "y_train_TEMP = np.log1p(y_train)\n",
    "y_test_TEMP  = np.log1p(y_test)"
   ]
  },
  {
   "cell_type": "code",
   "execution_count": 52,
   "metadata": {},
   "outputs": [
    {
     "name": "stdout",
     "output_type": "stream",
     "text": [
      "Grid best parameter (max. accuracy):  {'learning_rate': 0.1, 'max_depth': 5, 'n_estimators': 500}\n",
      "Grid best score (accuracy):  0.985547688956243\n"
     ]
    }
   ],
   "source": [
    "from  sklearn.ensemble import GradientBoostingRegressor\n",
    "from sklearn.model_selection import GridSearchCV\n",
    "\n",
    "# Decision Tree parameters are adapted from previou result  \n",
    "\n",
    "grid_values = {'max_depth'  : [ 5, 10, 50],\n",
    "              'n_estimators': [ 50, 100, 500],\n",
    "              'learning_rate': [0.05, 0.1, 0.2, 0.5]}\n",
    "\n",
    "\n",
    "gbrt = GradientBoostingRegressor(random_state=42)\n",
    "\n",
    "grid_clf = GridSearchCV(gbrt, cv = 5, param_grid = grid_values)\n",
    "\n",
    "grid_clf.fit(X_train_TEMP, y_train_TEMP)\n",
    "\n",
    "print('Grid best parameter (max. accuracy): ', grid_clf.best_params_)\n",
    "print('Grid best score (accuracy): ', grid_clf.best_score_)"
   ]
  },
  {
   "cell_type": "code",
   "execution_count": 64,
   "metadata": {},
   "outputs": [
    {
     "name": "stdout",
     "output_type": "stream",
     "text": [
      "Mean squared error (dummy): 1.09\n",
      "Mean squared error (gbrt): 0.03\n",
      "MSE (gbrt): 0.026412256016107902\n",
      "r2_score (dummy): -0.00\n",
      "r2_score (gbrt): 0.98\n"
     ]
    }
   ],
   "source": [
    "from sklearn.dummy import DummyRegressor\n",
    "from sklearn.metrics import mean_squared_error, r2_score\n",
    "\n",
    "# Apply best parameters\n",
    "\n",
    "gbrt = GradientBoostingRegressor(**grid_clf.best_params_, random_state=42)\n",
    "gbrt.fit(X_train_TEMP, y_train_TEMP)\n",
    "\n",
    "lm_dummy_mean = DummyRegressor(strategy = 'mean').fit(X_train_TEMP, y_train_TEMP)\n",
    "\n",
    "y_predict = gbrt.predict(X_test_TEMP)\n",
    "y_predict_dummy_mean = lm_dummy_mean.predict(X_test_TEMP)\n",
    "\n",
    "\n",
    "#print('Bag Decision Tree, coefficients: ', bag_clf.coef_)\n",
    "print(\"Mean squared error (dummy): {:.2f}\".format(mean_squared_error(y_test_TEMP, \n",
    "                                                                     y_predict_dummy_mean)))\n",
    "print(\"Mean squared error (gbrt): {:.2f}\".format(mean_squared_error(y_test_TEMP, y_predict)))\n",
    "print('MSE (gbrt):',np.square(y_predict-y_test_TEMP).mean())\n",
    "\n",
    "print(\"r2_score (dummy): {:.2f}\".format(r2_score(y_test_TEMP, y_predict_dummy_mean)))\n",
    "print(\"r2_score (gbrt): {:.2f}\".format(r2_score(y_test_TEMP, y_predict)))"
   ]
  },
  {
   "cell_type": "code",
   "execution_count": 65,
   "metadata": {},
   "outputs": [],
   "source": [
    "#  Rename X, y (since MSE was reduced)\n",
    "X_train, y_train,X_test, y_test = X_train_TEMP, y_train_TEMP,X_test_TEMP, y_test_TEMP"
   ]
  },
  {
   "cell_type": "markdown",
   "metadata": {},
   "source": [
    "## Bagging (Decision Tree)"
   ]
  },
  {
   "cell_type": "code",
   "execution_count": 66,
   "metadata": {},
   "outputs": [
    {
     "name": "stdout",
     "output_type": "stream",
     "text": [
      "Grid best parameter (max. accuracy):  {'max_depth': 20}\n",
      "Grid best score (accuracy):  0.9669840929511389\n"
     ]
    }
   ],
   "source": [
    "# Grid search\n",
    "from sklearn.ensemble import BaggingRegressor\n",
    "from sklearn.tree import DecisionTreeRegressor\n",
    "from sklearn.model_selection import GridSearchCV\n",
    "from sklearn.dummy import DummyRegressor\n",
    "\n",
    "grid_values = {'max_depth': [ 5, 10, 20, 50, 100]}\n",
    "\n",
    "dt_clf = DecisionTreeRegressor(random_state=12345)\n",
    "grid_clf = GridSearchCV(dt_clf,cv = 5, param_grid = grid_values)\n",
    "\n",
    "grid_clf.fit(X_train, y_train)\n",
    "y_decision_fn_scores_acc = grid_clf.predict(X_test) \n",
    "\n",
    "print('Grid best parameter (max. accuracy): ', grid_clf.best_params_)\n",
    "print('Grid best score (accuracy): ', grid_clf.best_score_)\n"
   ]
  },
  {
   "cell_type": "code",
   "execution_count": 67,
   "metadata": {},
   "outputs": [
    {
     "name": "stdout",
     "output_type": "stream",
     "text": [
      "Mean squared error (Decision Tree): 0.00\n",
      "MSE: 1.4432886898179701e-08\n",
      "r2_score (Bag Decision Tree): 1.00\n"
     ]
    }
   ],
   "source": [
    "# Decision Tree (best parameteres)\n",
    "from sklearn.metrics import mean_squared_error, r2_score\n",
    "\n",
    "# fitting test with the best parameter\n",
    "dtclf = DecisionTreeRegressor(**grid_clf.best_params_)\n",
    "dtclf.fit(X_test, y_test) \n",
    "\n",
    "y_test_predict = dtclf.predict(X_test)\n",
    "\n",
    "print(\"Mean squared error (Decision Tree): {:.2f}\".format(mean_squared_error(y_test, y_test_predict)))\n",
    "print('MSE:',np.square(y_test_predict-y_test).mean())\n",
    "print(\"r2_score (Bag Decision Tree): {:.2f}\".format(r2_score(y_test, y_test_predict )))"
   ]
  },
  {
   "cell_type": "code",
   "execution_count": 69,
   "metadata": {},
   "outputs": [
    {
     "name": "stdout",
     "output_type": "stream",
     "text": [
      "Mean squared error (Bag Decision Tree): 0.04\n",
      "MSE: 0.038789300612675194\n",
      "r2_score (Bag Decision Tree): 0.96\n"
     ]
    }
   ],
   "source": [
    "# Bagging with Decision Tree\n",
    "bag_clf = BaggingRegressor(dtclf, n_estimators=20, max_samples=150, bootstrap=True, n_jobs=-1, random_state=123)\n",
    "bag_clf.fit(X_train, y_train)\n",
    "\n",
    "y_predict = bag_clf.predict(X_test)\n",
    "\n",
    "print(\"Mean squared error (Bag Decision Tree): {:.2f}\".format(mean_squared_error(y_test, y_predict)))\n",
    "print('MSE:',np.square(y_predict-y_test).mean())\n",
    "print(\"r2_score (Bag Decision Tree): {:.2f}\".format(r2_score(y_test, y_predict)))"
   ]
  },
  {
   "cell_type": "code",
   "execution_count": null,
   "metadata": {},
   "outputs": [],
   "source": [
    "### The result is better without bagging"
   ]
  },
  {
   "cell_type": "markdown",
   "metadata": {},
   "source": [
    "### Pasting"
   ]
  },
  {
   "cell_type": "code",
   "execution_count": 70,
   "metadata": {},
   "outputs": [
    {
     "name": "stdout",
     "output_type": "stream",
     "text": [
      "Mean squared error (Decision Tree): 0.02\n",
      "MSE: 0.02240391944381823\n",
      "r2_score (Bag: Decision Tree): 0.98\n"
     ]
    }
   ],
   "source": [
    "# fitting test with the best parameter\n",
    "\n",
    "from sklearn.metrics import mean_squared_error\n",
    "\n",
    "pasting_clf = BaggingRegressor(dtclf, n_estimators=20, max_samples=150, bootstrap=False, n_jobs=-1, random_state=123)\n",
    "pasting_clf.fit(X_train, y_train)\n",
    "\n",
    "\n",
    "y_test_predict = pasting_clf.predict(X_test)\n",
    "\n",
    "print(\"Mean squared error (Decision Tree): {:.2f}\".format(mean_squared_error(y_test, y_test_predict)))\n",
    "print('MSE:',np.square(y_test_predict-y_test).mean())\n",
    "print(\"r2_score (Bag: Decision Tree): {:.2f}\".format(r2_score(y_test, y_test_predict )))\n"
   ]
  },
  {
   "cell_type": "code",
   "execution_count": null,
   "metadata": {},
   "outputs": [],
   "source": [
    "#### 'Decision tree' result is better than pasting Decision tree and bagging Decision tree"
   ]
  },
  {
   "cell_type": "markdown",
   "metadata": {},
   "source": [
    "### Adaboost (Decision Tree)"
   ]
  },
  {
   "cell_type": "code",
   "execution_count": 72,
   "metadata": {},
   "outputs": [
    {
     "name": "stdout",
     "output_type": "stream",
     "text": [
      "Grid best parameter (max. accuracy):  {'learning_rate': 0.1, 'n_estimators': 50}\n",
      "Grid best score (accuracy):  0.9815018851722479\n"
     ]
    }
   ],
   "source": [
    "from sklearn.metrics import mean_squared_error, r2_score\n",
    "from sklearn.ensemble import AdaBoostRegressor\n",
    "from sklearn.model_selection import GridSearchCV\n",
    "\n",
    "# Decision Tree parameters are adapted from previou result  \n",
    "\n",
    "grid_values = {'n_estimators': [ 10, 50, 100, 200, 500],\n",
    "              'learning_rate': [ 0.1, 0.2, 0.5, 0.8]}\n",
    "\n",
    "ada_clf = AdaBoostRegressor(dtclf, random_state=1234)\n",
    "grid_clf = GridSearchCV(ada_clf, cv = 5, param_grid = grid_values)\n",
    "grid_clf.fit(X_train, y_train)\n",
    "\n",
    "print('Grid best parameter (max. accuracy): ', grid_clf.best_params_)\n",
    "print('Grid best score (accuracy): ', grid_clf.best_score_)\n"
   ]
  },
  {
   "cell_type": "code",
   "execution_count": 74,
   "metadata": {},
   "outputs": [
    {
     "name": "stdout",
     "output_type": "stream",
     "text": [
      "Mean squared error (Ada: DecisionTree): 0.00\n",
      "MSE (Ada: DecisionTree): 0.004605314818956073\n",
      "r2_score (Ada: DecisionTree): 1.00\n"
     ]
    }
   ],
   "source": [
    "# Apply best parameters\n",
    "\n",
    "ada_clf = AdaBoostRegressor(dtclf,**grid_clf.best_params_,random_state=12345)\n",
    "ada_clf.fit(X_train, y_train)\n",
    "y_predict = ada_clf.predict(X_test)\n",
    "\n",
    "print(\"Mean squared error (Ada: DecisionTree): {:.2f}\".format(mean_squared_error(y_test, y_predict)))\n",
    "print('MSE (Ada: DecisionTree):',np.square(y_predict-y_test).mean())\n",
    "print(\"r2_score (Ada: DecisionTree): {:.2f}\".format(r2_score(y_test, y_predict)))\n"
   ]
  },
  {
   "cell_type": "markdown",
   "metadata": {},
   "source": [
    "### Regression Neural networks"
   ]
  },
  {
   "cell_type": "code",
   "execution_count": 75,
   "metadata": {},
   "outputs": [
    {
     "name": "stderr",
     "output_type": "stream",
     "text": [
      "C:\\Users\\clfee\\Anaconda3\\lib\\site-packages\\h5py\\__init__.py:36: FutureWarning: Conversion of the second argument of issubdtype from `float` to `np.floating` is deprecated. In future, it will be treated as `np.float64 == np.dtype(float).type`.\n",
      "  from ._conv import register_converters as _register_converters\n",
      "Using TensorFlow backend.\n"
     ]
    }
   ],
   "source": [
    "import numpy as np\n",
    "from sklearn.model_selection import GridSearchCV\n",
    "from keras.models import Sequential\n",
    "from keras.layers import Dense, Dropout, Activation\n",
    "from keras import optimizers\n",
    "from keras.callbacks import EarlyStopping, ModelCheckpoint, CSVLogger\n",
    "from keras.wrappers.scikit_learn import KerasClassifier"
   ]
  },
  {
   "cell_type": "code",
   "execution_count": 76,
   "metadata": {},
   "outputs": [
    {
     "data": {
      "text/plain": [
       "30"
      ]
     },
     "execution_count": 76,
     "metadata": {},
     "output_type": "execute_result"
    }
   ],
   "source": [
    "X_train.shape[1]"
   ]
  },
  {
   "cell_type": "code",
   "execution_count": 77,
   "metadata": {},
   "outputs": [],
   "source": [
    "from pylab import *\n",
    "\n",
    "batch_size = 15\n",
    "epochs = 300\n",
    "d = X_train.shape[1]\n",
    "\n",
    "#Define the model\n",
    "def baseline_model():\n",
    "    # create model\n",
    "    model = Sequential()\n",
    "    model.add(Dense(d, input_dim=d, kernel_initializer='normal', activation='relu'))\n",
    "    model.add(Dense(16, kernel_initializer='normal'))\n",
    "    #model.add(Dropout(0.1))\n",
    "    model.add(Dense(16, kernel_initializer='normal'))\n",
    "    model.add(Dense(8, kernel_initializer='normal'))\n",
    "    model.add(Dense(8, kernel_initializer='normal'))    \n",
    "    model.add(Dense(4, kernel_initializer='normal'))\n",
    "    model.add(Dense(2, kernel_initializer='normal'))\n",
    "    model.add(Dense(1, kernel_initializer='normal'))\n",
    "\n",
    "   # Compile model\n",
    "    model.compile(loss='mse', optimizer='adam' , metrics = ['mse'])\n",
    "    #model.compile(optimizer=optimizers.RMSprop(lr=0.005), loss='mean_squared_error', metrics=['mse'])\n",
    "    #model.compile(optimizer = 'rmsprop', loss = 'mean_squared_error', metrics = ['accuracy'])\n",
    "    return model\n",
    "\n",
    "# Set callback functions to early stop training and save the best model so far\n",
    "callbacks = [EarlyStopping(monitor='val_loss', patience=2),\n",
    "             ModelCheckpoint(filepath='regr', monitor='val_loss', save_best_only=True)]"
   ]
  },
  {
   "cell_type": "code",
   "execution_count": 78,
   "metadata": {},
   "outputs": [
    {
     "name": "stdout",
     "output_type": "stream",
     "text": [
      "Train on 593 samples, validate on 66 samples\n",
      "Epoch 1/300\n",
      "593/593 [==============================] - 2s 4ms/step - loss: 2.2818 - mean_squared_error: 2.2818 - val_loss: 1.7172 - val_mean_squared_error: 1.7172\n",
      "Epoch 2/300\n",
      "593/593 [==============================] - 0s 332us/step - loss: 1.8659 - mean_squared_error: 1.8659 - val_loss: 0.5210 - val_mean_squared_error: 0.5210\n",
      "Epoch 3/300\n",
      "593/593 [==============================] - 0s 842us/step - loss: 0.2959 - mean_squared_error: 0.2959 - val_loss: 0.0886 - val_mean_squared_error: 0.0886\n",
      "Epoch 4/300\n",
      "593/593 [==============================] - 1s 846us/step - loss: 0.1193 - mean_squared_error: 0.1193 - val_loss: 0.0761 - val_mean_squared_error: 0.0761\n",
      "Epoch 5/300\n",
      "593/593 [==============================] - 0s 393us/step - loss: 0.0996 - mean_squared_error: 0.0996 - val_loss: 0.0532 - val_mean_squared_error: 0.0532\n",
      "Epoch 6/300\n",
      "593/593 [==============================] - 0s 616us/step - loss: 0.0867 - mean_squared_error: 0.0867 - val_loss: 0.0642 - val_mean_squared_error: 0.0642\n",
      "Epoch 7/300\n",
      "593/593 [==============================] - 0s 563us/step - loss: 0.0829 - mean_squared_error: 0.0829 - val_loss: 0.0379 - val_mean_squared_error: 0.0379\n",
      "Epoch 8/300\n",
      "593/593 [==============================] - 0s 464us/step - loss: 0.0838 - mean_squared_error: 0.0838 - val_loss: 0.0389 - val_mean_squared_error: 0.0389\n",
      "Epoch 9/300\n",
      "593/593 [==============================] - 1s 980us/step - loss: 0.0837 - mean_squared_error: 0.0837 - val_loss: 0.0368 - val_mean_squared_error: 0.0368\n",
      "Epoch 10/300\n",
      "593/593 [==============================] - 0s 551us/step - loss: 0.0856 - mean_squared_error: 0.0856 - val_loss: 0.0389 - val_mean_squared_error: 0.0389\n",
      "Epoch 11/300\n",
      "593/593 [==============================] - 0s 632us/step - loss: 0.0803 - mean_squared_error: 0.0803 - val_loss: 0.0342 - val_mean_squared_error: 0.0342\n",
      "Epoch 12/300\n",
      "593/593 [==============================] - 0s 710us/step - loss: 0.0796 - mean_squared_error: 0.0796 - val_loss: 0.0451 - val_mean_squared_error: 0.0451\n",
      "Epoch 13/300\n",
      "593/593 [==============================] - 1s 858us/step - loss: 0.0816 - mean_squared_error: 0.0816 - val_loss: 0.0344 - val_mean_squared_error: 0.0344\n"
     ]
    }
   ],
   "source": [
    "#Use the model\n",
    "seed = 1025\n",
    "np.random.seed(seed)\n",
    "regr = baseline_model()\n",
    "#es = EarlyStopping(monitor ='val_loss', patience=2)\n",
    "csv_logger = CSVLogger('training.log')\n",
    "regr_fit = regr.fit(X_train,y_train, epochs = epochs,batch_size = batch_size, \n",
    "                    verbose = 1, validation_split = 0.1,callbacks =callbacks)"
   ]
  },
  {
   "cell_type": "code",
   "execution_count": 79,
   "metadata": {},
   "outputs": [
    {
     "name": "stdout",
     "output_type": "stream",
     "text": [
      "test loss: 0.06809990190797383\n"
     ]
    }
   ],
   "source": [
    "# Model evaluation\n",
    "score = regr.evaluate(X_test, y_test, verbose = 0)\n",
    "print('test loss:', score[0])"
   ]
  },
  {
   "cell_type": "code",
   "execution_count": 80,
   "metadata": {},
   "outputs": [
    {
     "data": {
      "image/png": "[encoded data removed]",
      "text/plain": [
       "<Figure size 432x288 with 1 Axes>"
      ]
     },
     "metadata": {},
     "output_type": "display_data"
    }
   ],
   "source": [
    "%matplotlib inline\n",
    "from matplotlib import pyplot as plt\n",
    "# Learning rersults\n",
    "loss = regr_fit.history['loss']\n",
    "val_loss = regr_fit.history['val_loss']\n",
    "epochs = len(loss)\n",
    "plt.plot(range(epochs),loss, marker = '.', label = 'loss(training data)')\n",
    "plt.plot(range(epochs),val_loss, marker = ',', label = 'val_loss(evaluation data)')\n",
    "plt.legend(loc='best')\n",
    "plt.grid()\n",
    "plt.xlabel('epoch')\n",
    "plt.ylabel('loss')\n",
    "plt.show()"
   ]
  },
  {
   "cell_type": "code",
   "execution_count": 81,
   "metadata": {},
   "outputs": [
    {
     "name": "stdout",
     "output_type": "stream",
     "text": [
      "MSE_nn: 0.06809990537860323\n"
     ]
    }
   ],
   "source": [
    "# Neuron network Results\n",
    "from sklearn.metrics import mean_squared_error, r2_score\n",
    "\n",
    "y_test_predict = regr.predict(X_test)\n",
    "\n",
    "MSE_nn = (mean_squared_error(y_test, y_test_predict))\n",
    "\n",
    "print('MSE_nn:', MSE_nn)"
   ]
  },
  {
   "cell_type": "markdown",
   "metadata": {},
   "source": [
    "### LinearSVR"
   ]
  },
  {
   "cell_type": "code",
   "execution_count": 82,
   "metadata": {},
   "outputs": [
    {
     "name": "stdout",
     "output_type": "stream",
     "text": [
      "Grid best parameter (max. accuracy):  {'C': 0.005, 'epsilon': 0.1}\n",
      "MSE_lnSVR: 0.5511576425174549\n"
     ]
    }
   ],
   "source": [
    "# LinearSVR \n",
    "from sklearn.svm import LinearSVR\n",
    "from sklearn.metrics import mean_squared_error, r2_score\n",
    "from sklearn.model_selection import GridSearchCV\n",
    "\n",
    "grid_values = {'epsilon': [0.005, 0.01, 0.1, 1, 10, 100],\n",
    "              'C': [0.005, 0.01, 0.1, 1, 10, 100]}\n",
    "\n",
    "clf = LinearSVR(dual=True, fit_intercept=True,intercept_scaling=1.0, loss='epsilon_insensitive', max_iter=1000,random_state=843647, tol=1e-04, verbose=0)\n",
    "\n",
    "#clf = LinearSVR()\n",
    "grid_clf = GridSearchCV(clf, cv = 5, param_grid = grid_values)\n",
    "\n",
    "grid_clf.fit(X_train, y_train)\n",
    "\n",
    "#y_decision_fn_scores_acc = grid_clf.predict(X_test) \n",
    "\n",
    "print('Grid best parameter (max. accuracy): ', grid_clf.best_params_)\n",
    "\n",
    "bclf = LinearSVR(**grid_clf.best_params_,random_state=843647)\n",
    "bclf.fit(X_test, y_test) \n",
    "y_test_predict = bclf.predict(X_test)\n",
    "\n",
    "MSE_lnSVR = (mean_squared_error(y_test, y_test_predict))\n",
    "\n",
    "print('MSE_lnSVR:', MSE_lnSVR)"
   ]
  },
  {
   "cell_type": "code",
   "execution_count": 92,
   "metadata": {},
   "outputs": [
    {
     "name": "stdout",
     "output_type": "stream",
     "text": [
      "Mean squared error (Ada: lnSVR): 0.07\n",
      "MSE (Ada: lnSVR): 0.07155977888922206\n",
      "r2_score (Ada: lnSVR): 0.93\n"
     ]
    }
   ],
   "source": [
    "# Apply best parameters\n",
    "\n",
    "ada_clf = AdaBoostRegressor(bclf,learning_rate = 0.1, n_estimators = 50,random_state=1234)\n",
    "ada_clf.fit(X_train, y_train)\n",
    "\n",
    "y_predict = ada_clf.predict(X_test)\n",
    "y_predict_dummy_mean = lm_dummy_mean.predict(X_test)\n",
    "\n",
    "print(\"Mean squared error (Ada: lnSVR): {:.2f}\".format(mean_squared_error(y_test, y_predict)))\n",
    "print('MSE (Ada: lnSVR):',np.square(y_predict-y_test).mean())\n",
    "print(\"r2_score (Ada: lnSVR): {:.2f}\".format(r2_score(y_test, y_predict)))"
   ]
  },
  {
   "cell_type": "markdown",
   "metadata": {},
   "source": [
    "### SVC with kernel trick"
   ]
  },
  {
   "cell_type": "markdown",
   "metadata": {},
   "source": [
    "SVC RBF"
   ]
  },
  {
   "cell_type": "code",
   "execution_count": 84,
   "metadata": {},
   "outputs": [
    {
     "name": "stdout",
     "output_type": "stream",
     "text": [
      "Grid best parameter (max. accuracy):  {'C': 10, 'gamma': 0.01}\n",
      "MSE_rbf: 0.005650774344329945\n"
     ]
    }
   ],
   "source": [
    "# SVR RBF\n",
    "from sklearn.svm import SVR\n",
    "from sklearn.metrics import mean_squared_error, r2_score\n",
    "from sklearn.model_selection import GridSearchCV\n",
    "\n",
    "grid_values = {'gamma': [0.01, 0.1, 1, 10, 100],\n",
    "              'C': [0.01, 0.1, 1, 10, 100]}\n",
    "\n",
    "svr_rbf = SVR(kernel='rbf')\n",
    "\n",
    "grid_clf = GridSearchCV(svr_rbf, cv = 5, param_grid = grid_values)\n",
    "\n",
    "grid_clf.fit(X_train, y_train)\n",
    "\n",
    "print('Grid best parameter (max. accuracy): ', grid_clf.best_params_)\n",
    "\n",
    "bsvr_rbf = SVR(kernel = 'rbf',**grid_clf.best_params_)\n",
    "bsvr_rbf.fit(X_test, y_test) \n",
    "y_test_predict = bsvr_rbf.predict(X_test)\n",
    "\n",
    "MSE_rbf = (mean_squared_error(y_test, y_test_predict))\n",
    "\n",
    "print('MSE_rbf:', MSE_rbf)"
   ]
  }
 ],
 "metadata": {
  "kernelspec": {
   "display_name": "Python 3",
   "language": "python",
   "name": "python3"
  },
  "language_info": {
   "codemirror_mode": {
    "name": "ipython",
    "version": 3
   },
   "file_extension": ".py",
   "mimetype": "text/x-python",
   "name": "python",
   "nbconvert_exporter": "python",
   "pygments_lexer": "ipython3",
   "version": "3.6.5"
  }
 },
 "nbformat": 4,
 "nbformat_minor": 2
}
