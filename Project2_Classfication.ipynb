{
 "cells": [
  {
   "cell_type": "markdown",
   "metadata": {},
   "source": [
    "### <font color='red'> Project 2\n",
    "\n",
    "Project Description:\n",
    "- Use same datasets as Project 1.\n",
    "- Preprocess data: Explore data and apply data scaling.\n",
    "\n",
    "Regression Task:\n",
    "- Apply any two models with bagging and any two models with pasting.\n",
    "- Apply any two models with adaboost boosting\n",
    "- Apply one model with gradient boosting\n",
    "- Apply PCA on data and then apply all the models in project 1 again on data you get from PCA. Compare your results with results in project 2. You don't need to apply all the models twice. Just copy the result table from project 1, prepare similar table for all the models after PCA and compare both tables. Does PCA help in getting better results?\n",
    "- Apply deep learning models covered in class\n",
    "\n",
    "Classification Task:\n",
    "- Apply two voting classifiers - one with hard voting and one with soft voting\n",
    "- Apply any two models with bagging and any two models with pasting.\n",
    "- Apply any two models with adaboost boosting\n",
    "- Apply one model with gradient boosting\n",
    "- Apply PCA on data and then apply all the models in project 1 again on data you get from PCA. Compare your results with results in project 1. You don't need to apply all the models twice. Just copy the result table from project 1, prepare similar table for all the models after PCA and compare both tables. Does PCA help in getting better results?\n",
    "- Apply deep learning models covered in class\n",
    "\n",
    "Deliverables:\n",
    "- Use markdown to provide inline comments for this project.\n",
    "- Your outputs should be clearly executed in the notebook i.e. we should not need to rerun the code to obtain the outputs.\n",
    "- Visualization encouraged.\n",
    "- If you are submitting two different files, then please only one group member submit both the files. If you submit two files separately from different accounts, it will be submitted as two different attempts.\n",
    "- If you are submitting two different files, then please follow below naming convetion:\n",
    "    Project2_Regression_GroupXX_Firstname1_Firstname2.ipynb\n",
    "    Project2_Classification_GroupXX_Firstname1_Firstname2.ipynb\n",
    "- If you are submitting single file, then please follow below naming convetion:\n",
    "    Project2_Both_GroupXX_Firstname1_Firstname2.ipynb\n",
    "\n",
    "Questions regarding the project:\n",
    "- We have created a discussion board under Projects folder on e-learning. Create threads over there and post your queries related to project there.\n",
    "- We will also answer queries there. We will not be answering any project related queries through the mail."
   ]
  },
  {
   "cell_type": "markdown",
   "metadata": {
    "collapsed": true
   },
   "source": [
    "## Preprocessing"
   ]
  },
  {
   "cell_type": "code",
   "execution_count": 2,
   "metadata": {},
   "outputs": [
    {
     "name": "stderr",
     "output_type": "stream",
     "text": [
      "/Users/gabriel/anaconda3/lib/python3.6/site-packages/sklearn/ensemble/weight_boosting.py:29: DeprecationWarning: numpy.core.umath_tests is an internal NumPy module and should not be imported. It will be removed in a future NumPy release.\n",
      "  from numpy.core.umath_tests import inner1d\n"
     ]
    }
   ],
   "source": [
    "import pandas as pd\n",
    "import numpy as np\n",
    "import matplotlib.pyplot as plt\n",
    "from pandas.plotting import scatter_matrix\n",
    "\n",
    "#import seaborn as sns\n",
    "from sklearn.model_selection import train_test_split\n",
    "\n",
    "from sklearn.preprocessing import StandardScaler\n",
    "from sklearn.preprocessing import MinMaxScaler\n",
    "\n",
    "from sklearn.linear_model import LinearRegression\n",
    "from sklearn.linear_model import SGDRegressor\n",
    "from sklearn.tree import DecisionTreeRegressor\n",
    "\n",
    "from sklearn.neighbors import KNeighborsClassifier\n",
    "from sklearn.linear_model import LogisticRegression\n",
    "from sklearn.preprocessing  import PolynomialFeatures\n",
    "from sklearn.ensemble import RandomForestClassifier\n",
    "from sklearn.svm import LinearSVC\n",
    "from sklearn.svm import SVC\n",
    "from sklearn.tree import DecisionTreeClassifier\n",
    "from sklearn.ensemble import VotingClassifier\n",
    "\n",
    "\n",
    "from  sklearn.linear_model import Ridge\n",
    "from sklearn.linear_model import Lasso\n",
    "from sklearn.ensemble import AdaBoostClassifier\n",
    "from sklearn.ensemble import GradientBoostingClassifier\n",
    "from sklearn.decomposition import PCA\n",
    "\n",
    "\n",
    "\n",
    "# softmax regression\n",
    "\n",
    "ar = pd.read_csv('audit_risk.csv')\n",
    "tr = pd.read_csv('trial.csv')\n",
    "# comapre column names \n",
    "ar_cols = ar.columns\n",
    "tr_cols = tr.columns\n",
    "\n",
    "ar.rename(columns={'Risk':'aRisk'}, inplace=True)\n",
    "common_cols = ar_cols.intersection(tr_cols)\n",
    "ar_not_tr = ar_cols.difference(tr_cols)\n",
    "tr_not_ar = tr_cols.difference(ar_cols)\n",
    "\n",
    "df = pd.concat([ar,tr[tr_not_ar]], axis=1)\n",
    "\n",
    "df['Money_Value'].mean()\n",
    "df.loc[642,'Money_Value'] = 14.14\n",
    "dfx = df\n",
    "\n",
    "# compare row values from ar and tr from columns with common names\n",
    "dfx = dfx.reset_index(drop=True)\n",
    "dfx_gpby = dfx.groupby(list(dfx.columns)) #group by\n",
    "idx = [x[0] for x in dfx_gpby.groups.values() if len(x) == 1] #get index of unique records\n",
    "diff_dfx = dfx.reindex(idx)\n",
    "\n",
    "dfx['LOCATION_ID']= dfx['LOCATION_ID'].str.replace(\"LOHARU\", \"1001\", case = False) \n",
    "dfx['LOCATION_ID']= dfx['LOCATION_ID'].str.replace(\"NUH\", \"1002\", case = False) \n",
    "dfx['LOCATION_ID']= dfx['LOCATION_ID'].str.replace(\"SAFIDON\", \"1003\", case = False)\n",
    "dfx['LOCATION_ID'] = dfx['LOCATION_ID'].apply(pd.to_numeric)\n",
    "\n",
    "y = dfx['History']\n",
    "X = dfx.drop(['History'], axis = 1)\n",
    "\n",
    "y.sum()/len(y)\n",
    "\n",
    "#Standard Scaler used in Classification due to Binary Values of Risk\n",
    "\n",
    "from sklearn.preprocessing import StandardScaler\n",
    "from sklearn.model_selection import train_test_split\n",
    "\n",
    "x_train_org,x_test_org,y_train,y_test=train_test_split(X,y,random_state=0)  ## org stands for the very original\n",
    "scaler = StandardScaler()\n",
    "X_train = scaler.fit_transform(x_train_org) \n",
    "X_test = scaler.transform(x_test_org) "
   ]
  },
  {
   "cell_type": "markdown",
   "metadata": {
    "collapsed": true
   },
   "source": [
    "## Hard | Soft Voting"
   ]
  },
  {
   "cell_type": "code",
   "execution_count": 3,
   "metadata": {},
   "outputs": [
    {
     "name": "stdout",
     "output_type": "stream",
     "text": [
      "KNeighborsClassifier 0.9484536082474226\n",
      "RandomForestClassifier 0.979381443298969\n",
      "VotingClassifier 0.9484536082474226\n"
     ]
    },
    {
     "name": "stderr",
     "output_type": "stream",
     "text": [
      "/Users/gabriel/anaconda3/lib/python3.6/site-packages/sklearn/preprocessing/label.py:167: DeprecationWarning: The truth value of an empty array is ambiguous. Returning False, but in future this will result in an error. Use `array.size > 0` to check that an array is not empty.\n",
      "  if diff:\n"
     ]
    }
   ],
   "source": [
    "knn_clf = KNeighborsClassifier(7)\n",
    "knn_clf.fit(X_train, y_train)\n",
    "rnd_clf = RandomForestClassifier()\n",
    "rnd_clf.fit(X_train, y_train)\n",
    "\n",
    "voting_clf = VotingClassifier(estimators=[('knn', knn_clf), ('rnd', rnd_clf)], voting='hard')\n",
    "voting_clf.fit(X_train, y_train)\n",
    "\n",
    "from sklearn.metrics import accuracy_score\n",
    "for clf in (knn_clf, rnd_clf, voting_clf):\n",
    "    clf.fit(X_train, y_train)\n",
    "    y_pred = clf.predict(X_test)\n",
    "    print(clf.__class__.__name__, accuracy_score(y_test, y_pred))\n"
   ]
  },
  {
   "cell_type": "code",
   "execution_count": 4,
   "metadata": {},
   "outputs": [
    {
     "name": "stdout",
     "output_type": "stream",
     "text": [
      "LogisticRegression 0.9690721649484536\n",
      "SVC 0.9690721649484536\n",
      "VotingClassifier 0.9690721649484536\n"
     ]
    },
    {
     "name": "stderr",
     "output_type": "stream",
     "text": [
      "/Users/gabriel/anaconda3/lib/python3.6/site-packages/sklearn/preprocessing/label.py:167: DeprecationWarning: The truth value of an empty array is ambiguous. Returning False, but in future this will result in an error. Use `array.size > 0` to check that an array is not empty.\n",
      "  if diff:\n"
     ]
    }
   ],
   "source": [
    "log_clf = LogisticRegression()\n",
    "log_clf.fit(X_train, y_train)\n",
    "svm_clf = SVC(C = 10, probability = True)\n",
    "svm_clf.fit(X_train, y_train)\n",
    "\n",
    "voting_clf = VotingClassifier(estimators=[('lr', log_clf), ('svc', svm_clf)], voting='soft')\n",
    "voting_clf.fit(X_train, y_train)\n",
    "\n",
    "from sklearn.metrics import accuracy_score\n",
    "for clf in (log_clf, svm_clf, voting_clf):\n",
    "    clf.fit(X_train, y_train)\n",
    "    y_pred = clf.predict(X_test)\n",
    "    print(clf.__class__.__name__, accuracy_score(y_test, y_pred))\n"
   ]
  },
  {
   "cell_type": "markdown",
   "metadata": {},
   "source": [
    "## Bagging and Pasting"
   ]
  },
  {
   "cell_type": "markdown",
   "metadata": {
    "collapsed": true
   },
   "source": [
    "###### Running Decision Tree for Bagging"
   ]
  },
  {
   "cell_type": "code",
   "execution_count": 5,
   "metadata": {
    "collapsed": true
   },
   "outputs": [],
   "source": [
    "from sklearn.ensemble import BaggingClassifier\n",
    "from sklearn.tree import DecisionTreeClassifier\n",
    "\n",
    "dt_clf = DecisionTreeClassifier(random_state=0)\n",
    "bag_clf = BaggingClassifier(dt_clf, n_estimators=500, max_samples=100, bootstrap=True, n_jobs=-1, random_state=0)\n",
    "\n",
    "bag_clf.fit(X_train, y_train)\n",
    "y_pred = bag_clf.predict(X_test)"
   ]
  },
  {
   "cell_type": "code",
   "execution_count": 6,
   "metadata": {},
   "outputs": [
    {
     "name": "stdout",
     "output_type": "stream",
     "text": [
      "0.9690721649484536\n"
     ]
    }
   ],
   "source": [
    "from  sklearn.metrics import accuracy_score\n",
    "print(accuracy_score(y_test, y_pred))"
   ]
  },
  {
   "cell_type": "markdown",
   "metadata": {
    "collapsed": true
   },
   "source": [
    "###### Bagging Score for Decision Tree = 0.9690721649484536"
   ]
  },
  {
   "cell_type": "code",
   "execution_count": 7,
   "metadata": {},
   "outputs": [
    {
     "name": "stdout",
     "output_type": "stream",
     "text": [
      "Train score: 0.98\n",
      "Test score: 0.97\n"
     ]
    }
   ],
   "source": [
    "bag_clf.fit(X_train, y_train)\n",
    "print('Train score: {:.2f}'.format(bag_clf.score(X_train, y_train)))\n",
    "print('Test score: {:.2f}'.format(bag_clf.score(X_test, y_test)))"
   ]
  },
  {
   "cell_type": "markdown",
   "metadata": {
    "collapsed": true
   },
   "source": [
    "###### Running Decision Tree for Pasting"
   ]
  },
  {
   "cell_type": "code",
   "execution_count": 8,
   "metadata": {},
   "outputs": [
    {
     "name": "stdout",
     "output_type": "stream",
     "text": [
      "0.9845360824742269\n"
     ]
    }
   ],
   "source": [
    "tree_clf = DecisionTreeClassifier(random_state=0)\n",
    "tree_clf.fit(X_train, y_train)\n",
    "y_pred_tree = tree_clf.predict(X_test)\n",
    "\n",
    "print(accuracy_score(y_test, y_pred_tree))"
   ]
  },
  {
   "cell_type": "markdown",
   "metadata": {
    "collapsed": true
   },
   "source": [
    "###### Pasting Score for Decision Tree = 0.9845360824742269"
   ]
  },
  {
   "cell_type": "markdown",
   "metadata": {
    "collapsed": true
   },
   "source": [
    "###### Running Random Forest for Bagging"
   ]
  },
  {
   "cell_type": "code",
   "execution_count": 9,
   "metadata": {},
   "outputs": [
    {
     "data": {
      "text/plain": [
       "0.9896907216494846"
      ]
     },
     "execution_count": 9,
     "metadata": {},
     "output_type": "execute_result"
    }
   ],
   "source": [
    "from sklearn.ensemble import RandomForestClassifier\n",
    "\n",
    "rnd_clf = RandomForestClassifier(n_estimators=500, max_leaf_nodes=16, n_jobs=-1, random_state=0)\n",
    "rnd_clf.fit(X_train, y_train)\n",
    "\n",
    "y_pred_rf = rnd_clf.predict(X_test)\n",
    "\n",
    "dt_clf = DecisionTreeClassifier(splitter=\"random\", max_leaf_nodes=16, random_state=0)\n",
    "bag_clf = BaggingClassifier(dt_clf, n_estimators=500, max_samples=1.0, bootstrap=True, n_jobs=-1, random_state=0)\n",
    "\n",
    "bag_clf.fit(X_train, y_train)\n",
    "y_pred = bag_clf.predict(X_test)\n",
    "\n",
    "np.sum(y_pred == y_pred_rf ) / len(y_pred)  # almost identical predictions"
   ]
  },
  {
   "cell_type": "code",
   "execution_count": 10,
   "metadata": {},
   "outputs": [
    {
     "name": "stdout",
     "output_type": "stream",
     "text": [
      "0.9948453608247423\n"
     ]
    }
   ],
   "source": [
    "print(accuracy_score(y_test, y_pred))"
   ]
  },
  {
   "cell_type": "markdown",
   "metadata": {
    "collapsed": true
   },
   "source": [
    "###### Running Random Forest for Pasting"
   ]
  },
  {
   "cell_type": "code",
   "execution_count": 11,
   "metadata": {
    "collapsed": true
   },
   "outputs": [],
   "source": [
    "forest = RandomForestClassifier(n_estimators=100, random_state=0)\n",
    "forest.fit(X_train, y_train)\n",
    "y_pred_forest = forest.predict(X_test)"
   ]
  },
  {
   "cell_type": "code",
   "execution_count": 12,
   "metadata": {},
   "outputs": [
    {
     "name": "stdout",
     "output_type": "stream",
     "text": [
      "0.9845360824742269\n"
     ]
    }
   ],
   "source": [
    "print(accuracy_score(y_test, y_pred_forest))"
   ]
  },
  {
   "cell_type": "code",
   "execution_count": 13,
   "metadata": {},
   "outputs": [
    {
     "name": "stdout",
     "output_type": "stream",
     "text": [
      "0.9845360824742269\n"
     ]
    }
   ],
   "source": [
    "from  sklearn.metrics import accuracy_score\n",
    "print(accuracy_score(y_test, y_pred_forest))"
   ]
  },
  {
   "cell_type": "code",
   "execution_count": 14,
   "metadata": {},
   "outputs": [
    {
     "name": "stdout",
     "output_type": "stream",
     "text": [
      "Train score: 1.00\n",
      "Test score: 0.99\n"
     ]
    }
   ],
   "source": [
    "bag_clf.fit(X_train, y_train)\n",
    "print('Train score: {:.2f}'.format(bag_clf.score(X_train, y_train)))\n",
    "print('Test score: {:.2f}'.format(bag_clf.score(X_test, y_test)))"
   ]
  },
  {
   "cell_type": "markdown",
   "metadata": {},
   "source": [
    "### Adaboosting"
   ]
  },
  {
   "cell_type": "markdown",
   "metadata": {
    "collapsed": true
   },
   "source": [
    "###### Adaboosting for Decision Tree "
   ]
  },
  {
   "cell_type": "code",
   "execution_count": 15,
   "metadata": {
    "collapsed": true
   },
   "outputs": [],
   "source": [
    "ada_clf = AdaBoostClassifier(DecisionTreeClassifier(max_depth=1), n_estimators=200, algorithm=\"SAMME.R\", learning_rate=0.5, random_state=0)\n",
    "ada_clf.fit(X_train, y_train)\n",
    "y_pred_ada = ada_clf.predict(X_test)"
   ]
  },
  {
   "cell_type": "code",
   "execution_count": 16,
   "metadata": {},
   "outputs": [
    {
     "name": "stdout",
     "output_type": "stream",
     "text": [
      "0.9845360824742269\n"
     ]
    }
   ],
   "source": [
    "print(accuracy_score(y_test, y_pred_ada))"
   ]
  },
  {
   "cell_type": "markdown",
   "metadata": {},
   "source": [
    " ###### Adaboosting for Random Forest"
   ]
  },
  {
   "cell_type": "code",
   "execution_count": 17,
   "metadata": {
    "collapsed": true
   },
   "outputs": [],
   "source": [
    "ada_frs = AdaBoostClassifier(RandomForestClassifier(max_depth=1), n_estimators=200, algorithm=\"SAMME.R\", learning_rate=0.5, random_state=0)\n",
    "ada_frs.fit(X_train, y_train)\n",
    "y_pred_frs = ada_frs.predict(X_test)"
   ]
  },
  {
   "cell_type": "code",
   "execution_count": 18,
   "metadata": {},
   "outputs": [
    {
     "name": "stdout",
     "output_type": "stream",
     "text": [
      "0.9690721649484536\n"
     ]
    }
   ],
   "source": [
    "print(accuracy_score(y_test, y_pred_frs))"
   ]
  },
  {
   "cell_type": "markdown",
   "metadata": {},
   "source": [
    "### Gradient Boosting"
   ]
  },
  {
   "cell_type": "code",
   "execution_count": 19,
   "metadata": {},
   "outputs": [
    {
     "name": "stdout",
     "output_type": "stream",
     "text": [
      "Accuracy on training set: 1.000\n",
      "Accuracy on test set: 0.990\n"
     ]
    }
   ],
   "source": [
    "gbrt = GradientBoostingClassifier(random_state=0)\n",
    "gbrt.fit(X_train, y_train)\n",
    "\n",
    "print(\"Accuracy on training set: {:.3f}\".format(gbrt.score(X_train, y_train)))\n",
    "print(\"Accuracy on test set: {:.3f}\".format(gbrt.score(X_test, y_test)))"
   ]
  },
  {
   "cell_type": "code",
   "execution_count": 20,
   "metadata": {},
   "outputs": [
    {
     "name": "stdout",
     "output_type": "stream",
     "text": [
      "Accuracy on training set: 0.936\n",
      "Accuracy on test set: 0.933\n"
     ]
    }
   ],
   "source": [
    "gbrt = GradientBoostingClassifier(random_state=0, learning_rate=0.0001)\n",
    "gbrt.fit(X_train, y_train)\n",
    "\n",
    "print(\"Accuracy on training set: {:.3f}\".format(gbrt.score(X_train, y_train)))\n",
    "print(\"Accuracy on test set: {:.3f}\".format(gbrt.score(X_test, y_test)))"
   ]
  },
  {
   "cell_type": "markdown",
   "metadata": {},
   "source": [
    "### PCA on Previous Models"
   ]
  },
  {
   "cell_type": "code",
   "execution_count": 21,
   "metadata": {},
   "outputs": [
    {
     "data": {
      "text/plain": [
       "PCA(copy=True, iterated_power='auto', n_components=None, random_state=None,\n",
       "  svd_solver='auto', tol=0.0, whiten=False)"
      ]
     },
     "execution_count": 21,
     "metadata": {},
     "output_type": "execute_result"
    }
   ],
   "source": [
    "pca = PCA()\n",
    "pca.fit(X_train)"
   ]
  },
  {
   "cell_type": "code",
   "execution_count": 22,
   "metadata": {
    "collapsed": true
   },
   "outputs": [],
   "source": [
    "# KNN Classifier"
   ]
  },
  {
   "cell_type": "code",
   "execution_count": 23,
   "metadata": {},
   "outputs": [
    {
     "name": "stdout",
     "output_type": "stream",
     "text": [
      "[0.9707903780068728, 0.9725085910652921, 0.9707903780068728, 0.9725085910652921, 0.9725085910652921, 0.9725085910652921, 0.9707903780068728, 0.9707903780068728, 0.9690721649484536, 0.9690721649484536]\n",
      "[0.9484536082474226, 0.9484536082474226, 0.9484536082474226, 0.9484536082474226, 0.9484536082474226, 0.9484536082474226, 0.9484536082474226, 0.9484536082474226, 0.9484536082474226, 0.9484536082474226]\n"
     ]
    }
   ],
   "source": [
    "from sklearn.neighbors import KNeighborsClassifier\n",
    "\n",
    "neighbors = [1, 5, 10, 15, 20] #can test multiple neighbors for the best result\n",
    "\n",
    "train_score_list = []\n",
    "test_score_list = []\n",
    "\n",
    "for k in range(10,20):\n",
    "    knn = KNeighborsClassifier(k)\n",
    "    knn.fit(X_train,y_train)\n",
    "    train_score_list.append(knn.score(X_train,y_train))\n",
    "    test_score_list.append(knn.score(X_test,y_test))\n",
    "\n",
    "print(train_score_list)\n",
    "print(test_score_list)"
   ]
  },
  {
   "cell_type": "code",
   "execution_count": 24,
   "metadata": {},
   "outputs": [
    {
     "data": {
      "text/plain": [
       "<matplotlib.legend.Legend at 0x1207fe710>"
      ]
     },
     "execution_count": 24,
     "metadata": {},
     "output_type": "execute_result"
    },
    {
     "data": {
      "image/png": "[encoded data removed]",
      "text/plain": [
       "<Figure size 432x288 with 1 Axes>"
      ]
     },
     "metadata": {},
     "output_type": "display_data"
    }
   ],
   "source": [
    "x_axis = range(10,20)\n",
    "%matplotlib inline\n",
    "plt.plot(x_axis, train_score_list, label = 'Train Score', c ='g')\n",
    "plt.plot(x_axis, test_score_list, label = 'Test Score', c ='b')\n",
    "plt.xlabel('k')\n",
    "plt.ylabel('Accuracy')\n",
    "plt.legend()\n",
    "\n",
    "#K = 14 is the best model due it's ability to imitate from the previous model"
   ]
  },
  {
   "cell_type": "code",
   "execution_count": 25,
   "metadata": {},
   "outputs": [
    {
     "name": "stdout",
     "output_type": "stream",
     "text": [
      "Train score: 0.9725\n",
      "Train score: 0.9485\n"
     ]
    }
   ],
   "source": [
    "knn = KNeighborsClassifier(14)\n",
    "knn.fit(X_train, y_train)\n",
    "print('Train score: {:.4f}'.format(knn.score(X_train, y_train)))\n",
    "print('Test score: {:.4f}'.format(knn.score(X_test, y_test)))\n",
    "\n",
    "#Strong model due to the plateauing parameter score, K = 14"
   ]
  },
  {
   "cell_type": "code",
   "execution_count": 26,
   "metadata": {
    "collapsed": true
   },
   "outputs": [],
   "source": [
    "#Logistic Regression Classifier"
   ]
  },
  {
   "cell_type": "code",
   "execution_count": 27,
   "metadata": {},
   "outputs": [
    {
     "name": "stdout",
     "output_type": "stream",
     "text": [
      "[0.936426116838488, 0.936426116838488, 0.9862542955326461, 0.9982817869415808, 1.0, 1.0]\n",
      "[0.9329896907216495, 0.9329896907216495, 0.9690721649484536, 0.9845360824742269, 0.9845360824742269, 0.9845360824742269]\n",
      "[0.9089347079037801, 0.9862542955326461, 0.9896907216494846, 0.993127147766323, 1.0, 1.0]\n",
      "[0.9123711340206185, 0.9690721649484536, 0.9690721649484536, 0.9690721649484536, 0.9639175257731959, 0.9690721649484536]\n"
     ]
    }
   ],
   "source": [
    "from sklearn.linear_model import LogisticRegression\n",
    "\n",
    "clist = [0.001,0.01,0.1,1,10, 100]\n",
    "train_score_list_l1 = []\n",
    "test_score_list_l1 = []\n",
    "train_score_list_l2 = []\n",
    "test_score_list_l2 = []\n",
    "\n",
    "for c in clist:\n",
    "    log_l1 = LogisticRegression(penalty='l1', C=c )\n",
    "    log_l2 = LogisticRegression(penalty='l2', C=c )\n",
    "    log_l1.fit(X_train,y_train)\n",
    "    log_l2.fit(X_train,y_train)\n",
    "    train_score_list_l1.append(log_l1.score(X_train,y_train))\n",
    "    train_score_list_l2.append(log_l2.score(X_train,y_train))\n",
    "    test_score_list_l1.append(log_l1.score(X_test,y_test))\n",
    "    test_score_list_l2.append(log_l2.score(X_test,y_test))\n",
    "    \n",
    "print(train_score_list_l1)\n",
    "print(test_score_list_l1)\n",
    "print(train_score_list_l2)\n",
    "print(test_score_list_l2)\n"
   ]
  },
  {
   "cell_type": "code",
   "execution_count": 28,
   "metadata": {},
   "outputs": [
    {
     "data": {
      "image/png": "[encoded data removed]",
      "text/plain": [
       "<Figure size 432x288 with 1 Axes>"
      ]
     },
     "metadata": {},
     "output_type": "display_data"
    }
   ],
   "source": [
    "%matplotlib inline\n",
    "\n",
    "plt.plot(clist, train_score_list_l1, label = 'train score, penalty = l1')\n",
    "plt.plot(clist, test_score_list_l1, label = 'test score, penalty = l1')\n",
    "plt.plot(clist, train_score_list_l2, label = 'train score, penalty = l2')\n",
    "plt.plot(clist, test_score_list_l2, label = 'test score, penalty = l2')\n",
    "plt.legend()\n",
    "plt.xlabel('Regularization parameter: C')\n",
    "plt.ylabel('Accuracy')\n",
    "plt.xscale('log')\n",
    "\n",
    "#Graph below illustrates that 0.1 is the best hyperparameter "
   ]
  },
  {
   "cell_type": "code",
   "execution_count": 29,
   "metadata": {
    "collapsed": true
   },
   "outputs": [],
   "source": [
    "# Decision Tree"
   ]
  },
  {
   "cell_type": "code",
   "execution_count": 30,
   "metadata": {},
   "outputs": [
    {
     "name": "stdout",
     "output_type": "stream",
     "text": [
      "Accuracy on Training set: 0.048\n",
      "Accuracy on Testing set: 0.036\n"
     ]
    }
   ],
   "source": [
    "from sklearn.tree import DecisionTreeClassifier\n",
    "dtree = DecisionTreeClassifier(random_state=0)\n",
    "\n",
    "#dtree.fit(X_train,y_train)\n",
    "#print(\"Accuracy on Training set: {:.3f}\".format(dtree.score(x_train_org,y_train)))\n",
    "#print(\"Accuracy on Testing set: {:.3f}\".format(dtree.score(x_test_org,y_test)))\n",
    "\n",
    "\n",
    "dtree = DecisionTreeClassifier(max_depth = 4, random_state=0)\n",
    "dtree.fit(X_train, y_train)\n",
    "\n",
    "print(\"Accuracy on Training set: {:.3f}\".format(dtree.score(x_train_org,y_train)))\n",
    "print(\"Accuracy on Testing set: {:.3f}\".format(dtree.score(x_test_org,y_test)))\n",
    "\n",
    "#The accuracy of the Decision Tree model is really low so not the best\n",
    "# model to choose"
   ]
  },
  {
   "cell_type": "code",
   "execution_count": 31,
   "metadata": {},
   "outputs": [
    {
     "data": {
      "text/plain": [
       "[<matplotlib.lines.Line2D at 0x1212d8518>,\n",
       " <matplotlib.lines.Line2D at 0x1212d83c8>,\n",
       " <matplotlib.lines.Line2D at 0x1212d8c18>]"
      ]
     },
     "execution_count": 31,
     "metadata": {},
     "output_type": "execute_result"
    },
    {
     "data": {
      "image/png": "[encoded data removed]",
      "text/plain": [
       "<Figure size 432x288 with 1 Axes>"
      ]
     },
     "metadata": {},
     "output_type": "display_data"
    }
   ],
   "source": [
    "import mglearn \n",
    "\n",
    "X_b = X_train[:20,[2,22]] #inherited risk and location_id \n",
    "y_b = y_train[:20]\n",
    "\n",
    "dtree = DecisionTreeClassifier()\n",
    "dtree.fit(X_b, y_b)\n",
    "\n",
    "mglearn.plots.plot_2d_separator(dtree, X_b, fill=True, eps=0.5, alpha=.4)\n",
    "mglearn.discrete_scatter(X_b[:,0], X_b[:,1], y_b)\n",
    "\n",
    "# Model shows what the result of the model will be and which\n",
    "# variables will lead to a 0 or 1 risk result"
   ]
  },
  {
   "cell_type": "code",
   "execution_count": 32,
   "metadata": {
    "collapsed": true
   },
   "outputs": [],
   "source": [
    "# Linear SVM"
   ]
  },
  {
   "cell_type": "code",
   "execution_count": 33,
   "metadata": {},
   "outputs": [
    {
     "name": "stdout",
     "output_type": "stream",
     "text": [
      "0.9329896907216495\n"
     ]
    }
   ],
   "source": [
    "X_train,X_test,y_train,y_test=train_test_split(X,y,random_state=0)  ## org stands for the very original\n",
    "linear_svm = LinearSVC().fit(X_train, y_train)\n",
    "linear_svm.fit(X,y)\n",
    "y_pred_forest = forest.predict(X_test)\n",
    "print(accuracy_score(y_test, y_pred_forest))"
   ]
  },
  {
   "cell_type": "code",
   "execution_count": 35,
   "metadata": {
    "collapsed": true
   },
   "outputs": [],
   "source": [
    "# SVC Kernel"
   ]
  },
  {
   "cell_type": "code",
   "execution_count": 40,
   "metadata": {},
   "outputs": [
    {
     "name": "stdout",
     "output_type": "stream",
     "text": [
      "0.9432989690721649\n"
     ]
    }
   ],
   "source": [
    "linear_svm = LinearSVC()\n",
    "linear_svm.fit(X_train, y_train)\n",
    "y_pred_svm_linear = linear_svm.predict(X_test)\n",
    "print(accuracy_score(y_test, y_pred_svm_linear))"
   ]
  },
  {
   "cell_type": "code",
   "execution_count": 41,
   "metadata": {},
   "outputs": [
    {
     "name": "stdout",
     "output_type": "stream",
     "text": [
      "Accuracy on Training set: 0.995\n",
      "Accuracy on Testing set: 0.943\n"
     ]
    }
   ],
   "source": [
    "print(\"Accuracy on Training set: {:.3f}\".format(linear_svm.score(x_train_org,y_train)))\n",
    "print(\"Accuracy on Testing set: {:.3f}\".format(linear_svm.score(x_test_org,y_test)))\n"
   ]
  },
  {
   "cell_type": "code",
   "execution_count": 38,
   "metadata": {
    "collapsed": true
   },
   "outputs": [],
   "source": [
    "# Poly kernel\n"
   ]
  },
  {
   "cell_type": "code",
   "execution_count": 42,
   "metadata": {},
   "outputs": [
    {
     "name": "stdout",
     "output_type": "stream",
     "text": [
      "1.0\n"
     ]
    }
   ],
   "source": [
    "svm_poly = SVC(kernel = 'poly')\n",
    "svm_poly.fit(X_test, y_test)\n",
    "y_pred_svm_kernel = svm_poly.predict(X_test)\n",
    "print(accuracy_score(y_test, y_pred_svm_kernel))\n"
   ]
  },
  {
   "cell_type": "code",
   "execution_count": 43,
   "metadata": {},
   "outputs": [
    {
     "name": "stdout",
     "output_type": "stream",
     "text": [
      "Accuracy on Training set: 0.940\n",
      "Accuracy on Testing set: 1.000\n"
     ]
    }
   ],
   "source": [
    "print(\"Accuracy on Training set: {:.3f}\".format(svm_poly.score(x_train_org,y_train)))\n",
    "print(\"Accuracy on Testing set: {:.3f}\".format(svm_poly.score(x_test_org,y_test)))\n"
   ]
  },
  {
   "cell_type": "markdown",
   "metadata": {
    "collapsed": true
   },
   "source": [
    "### PCA Model Comparison"
   ]
  },
  {
   "cell_type": "markdown",
   "metadata": {
    "collapsed": true
   },
   "source": [
    "#### KNN Result:\n",
    "##### Train score: 0.9622\n",
    "##### Test score: 0.9639\n",
    "    \n",
    "#### PCA KNN Result:\n",
    "##### Train score: 0.9725\n",
    "##### Test score: 0.9485"
   ]
  },
  {
   "cell_type": "markdown",
   "metadata": {
    "collapsed": true
   },
   "source": [
    "#### Logit Result:\n",
    "##### [0.5962199312714777, 0.8814432989690721, 0.9690721649484536, 0.9845360824742269, 0.9948453608247423, 0.9948453608247423]\n",
    "##### [0.6391752577319587, 0.8917525773195877, 0.9742268041237113, 0.9896907216494846, 0.9948453608247423, 0.9948453608247423]\n",
    "##### [0.9312714776632303, 0.9621993127147767, 0.9707903780068728, 0.979381443298969, 0.9862542955326461, 0.9948453608247423]\n",
    "##### [0.9278350515463918, 0.9690721649484536, 0.9742268041237113, 0.9896907216494846, 0.9896907216494846, 0.9948453608247423]    \n",
    "#### PCA Logit Result:\n",
    "##### [0.936426116838488, 0.936426116838488, 0.9862542955326461, 0.9982817869415808, 1.0, 1.0]\n",
    "##### [0.9329896907216495, 0.9329896907216495, 0.9690721649484536, 0.9845360824742269, 0.9845360824742269, 0.9845360824742269]\n",
    "##### [0.9089347079037801, 0.9862542955326461, 0.9896907216494846, 0.993127147766323, 1.0, 1.0]\n",
    "##### [0.9123711340206185, 0.9690721649484536, 0.9690721649484536, 0.9690721649484536, 0.9639175257731959, 0.9690721649484536]"
   ]
  },
  {
   "cell_type": "markdown",
   "metadata": {},
   "source": [
    "#### Decision Tree:\n",
    "##### Accuracy on Training set: 0.404\n",
    "##### Accuracy on Testing set: 0.361\n",
    "##### PCA Decision Tree Result:\n",
    "##### Accuracy on Training set: 0.048\n",
    "##### Accuracy on Testing set: 0.036"
   ]
  },
  {
   "cell_type": "markdown",
   "metadata": {},
   "source": [
    "#### Linear SVM: \n",
    "##### Accuracy on Training set: 0.404\n",
    "##### Accuracy on Testing set: 0.376\n",
    "##### Accuracy Score Prediction: 0.9432989690721649\n",
    "\n",
    "\n",
    "#### PCA Linear SVM:\n",
    "##### Accuracy on Training set: 0.995\n",
    "##### Accuracy on Testing set: 0.943\n",
    "##### Accuracy Score Prediction: 1.0"
   ]
  },
  {
   "cell_type": "markdown",
   "metadata": {
    "collapsed": true
   },
   "source": [
    "#### Poly SVM:\n",
    "##### Accuracy on Training set: 0.404\n",
    "##### Accuracy on Testing set: 0.361\n",
    "##### Accuracy Score Prediction: 0.8814432989690721   \n",
    "    \n",
    "#### PCA Poly SVM:\n",
    "##### Accuracy on Training set: 0.940\n",
    "##### Accuracy on Testing set: 1.000\n",
    "##### Accuracy Score Prediction: 1.0\n",
    "    "
   ]
  },
  {
   "cell_type": "markdown",
   "metadata": {},
   "source": [
    "#### PCA Conclusion: Overall, PCA improved the accuracy of the Linear and Polynomial Support Vector Machine, the Logistic Classificaiton, and KNN. The Decision Tree accuracy was the only model that had decrased in accuracy"
   ]
  },
  {
   "cell_type": "markdown",
   "metadata": {},
   "source": [
    "### Neurel Network - Classification"
   ]
  },
  {
   "cell_type": "code",
   "execution_count": 123,
   "metadata": {
    "collapsed": true
   },
   "outputs": [],
   "source": [
    "from keras.models import Sequential\n",
    "from keras.layers import Dense\n",
    "import numpy\n",
    "\n",
    "# fix random seed for reproducibility\n",
    "numpy.random.seed(10)\n",
    "\n",
    "x_train_org,x_test_org,y_train,y_test=train_test_split(X,y,random_state=0)  ## org stands for the very original\n",
    "scaler = StandardScaler()\n",
    "X_train = scaler.fit_transform(x_train_org) \n",
    "X_test = scaler.transform(x_test_org) "
   ]
  },
  {
   "cell_type": "code",
   "execution_count": 129,
   "metadata": {
    "collapsed": true
   },
   "outputs": [],
   "source": [
    "# create model\n",
    "model = Sequential()\n",
    "model.add(Dense(12, input_dim=2, activation='relu'))\n",
    "model.add(Dense(8, activation='relu'))\n",
    "model.add(Dense(1, activation='sigmoid'))"
   ]
  },
  {
   "cell_type": "code",
   "execution_count": 130,
   "metadata": {
    "collapsed": true
   },
   "outputs": [],
   "source": [
    "# Compile model\n",
    "model.compile(loss='binary_crossentropy', optimizer='adam', metrics=['accuracy'])"
   ]
  },
  {
   "cell_type": "code",
   "execution_count": 131,
   "metadata": {},
   "outputs": [
    {
     "name": "stdout",
     "output_type": "stream",
     "text": [
      "Epoch 1/150\n",
      "582/582 [==============================] - 1s 1ms/step - loss: 0.6702 - acc: 0.6100\n",
      "Epoch 2/150\n",
      "582/582 [==============================] - 0s 284us/step - loss: 0.6365 - acc: 0.8351\n",
      "Epoch 3/150\n",
      "582/582 [==============================] - 0s 239us/step - loss: 0.6043 - acc: 0.8127\n",
      "Epoch 4/150\n",
      "582/582 [==============================] - 0s 215us/step - loss: 0.5633 - acc: 0.8162\n",
      "Epoch 5/150\n",
      "582/582 [==============================] - 0s 204us/step - loss: 0.5083 - acc: 0.8265\n",
      "Epoch 6/150\n",
      "582/582 [==============================] - 0s 206us/step - loss: 0.4497 - acc: 0.8419\n",
      "Epoch 7/150\n",
      "582/582 [==============================] - 0s 205us/step - loss: 0.4038 - acc: 0.8436\n",
      "Epoch 8/150\n",
      "582/582 [==============================] - 0s 219us/step - loss: 0.3692 - acc: 0.8454\n",
      "Epoch 9/150\n",
      "582/582 [==============================] - 0s 256us/step - loss: 0.3445 - acc: 0.8557\n",
      "Epoch 10/150\n",
      "582/582 [==============================] - 0s 250us/step - loss: 0.3252 - acc: 0.8643\n",
      "Epoch 11/150\n",
      "582/582 [==============================] - 0s 248us/step - loss: 0.3111 - acc: 0.8625\n",
      "Epoch 12/150\n",
      "582/582 [==============================] - 0s 288us/step - loss: 0.2978 - acc: 0.8797\n",
      "Epoch 13/150\n",
      "582/582 [==============================] - 0s 215us/step - loss: 0.2877 - acc: 0.8797\n",
      "Epoch 14/150\n",
      "582/582 [==============================] - 0s 228us/step - loss: 0.2770 - acc: 0.8918\n",
      "Epoch 15/150\n",
      "582/582 [==============================] - 0s 221us/step - loss: 0.2694 - acc: 0.8969\n",
      "Epoch 16/150\n",
      "582/582 [==============================] - 0s 249us/step - loss: 0.2625 - acc: 0.9055\n",
      "Epoch 17/150\n",
      "582/582 [==============================] - 0s 302us/step - loss: 0.2527 - acc: 0.9072\n",
      "Epoch 18/150\n",
      "582/582 [==============================] - 0s 214us/step - loss: 0.2470 - acc: 0.9107\n",
      "Epoch 19/150\n",
      "582/582 [==============================] - 0s 294us/step - loss: 0.2405 - acc: 0.9175\n",
      "Epoch 20/150\n",
      "582/582 [==============================] - 0s 249us/step - loss: 0.2352 - acc: 0.9141\n",
      "Epoch 21/150\n",
      "582/582 [==============================] - 0s 206us/step - loss: 0.2298 - acc: 0.9210\n",
      "Epoch 22/150\n",
      "582/582 [==============================] - 0s 199us/step - loss: 0.2250 - acc: 0.9261\n",
      "Epoch 23/150\n",
      "582/582 [==============================] - 0s 256us/step - loss: 0.2201 - acc: 0.9278\n",
      "Epoch 24/150\n",
      "582/582 [==============================] - 0s 243us/step - loss: 0.2197 - acc: 0.9278\n",
      "Epoch 25/150\n",
      "582/582 [==============================] - 0s 247us/step - loss: 0.2132 - acc: 0.9278\n",
      "Epoch 26/150\n",
      "582/582 [==============================] - 0s 233us/step - loss: 0.2110 - acc: 0.9261\n",
      "Epoch 27/150\n",
      "582/582 [==============================] - 0s 198us/step - loss: 0.2064 - acc: 0.9347\n",
      "Epoch 28/150\n",
      "582/582 [==============================] - 0s 182us/step - loss: 0.2080 - acc: 0.9347\n",
      "Epoch 29/150\n",
      "582/582 [==============================] - 0s 199us/step - loss: 0.2001 - acc: 0.9381\n",
      "Epoch 30/150\n",
      "582/582 [==============================] - 0s 284us/step - loss: 0.1982 - acc: 0.9330\n",
      "Epoch 31/150\n",
      "582/582 [==============================] - 0s 315us/step - loss: 0.1993 - acc: 0.9330\n",
      "Epoch 32/150\n",
      "582/582 [==============================] - 0s 298us/step - loss: 0.1934 - acc: 0.9381\n",
      "Epoch 33/150\n",
      "582/582 [==============================] - 0s 222us/step - loss: 0.1926 - acc: 0.9330\n",
      "Epoch 34/150\n",
      "582/582 [==============================] - 0s 204us/step - loss: 0.1891 - acc: 0.9313\n",
      "Epoch 35/150\n",
      "582/582 [==============================] - 0s 199us/step - loss: 0.1915 - acc: 0.9364\n",
      "Epoch 36/150\n",
      "582/582 [==============================] - 0s 210us/step - loss: 0.1891 - acc: 0.9313\n",
      "Epoch 37/150\n",
      "582/582 [==============================] - 0s 244us/step - loss: 0.1839 - acc: 0.9381\n",
      "Epoch 38/150\n",
      "582/582 [==============================] - 0s 284us/step - loss: 0.1887 - acc: 0.9313\n",
      "Epoch 39/150\n",
      "582/582 [==============================] - 0s 248us/step - loss: 0.1818 - acc: 0.9330\n",
      "Epoch 40/150\n",
      "582/582 [==============================] - 0s 232us/step - loss: 0.1830 - acc: 0.9347\n",
      "Epoch 41/150\n",
      "582/582 [==============================] - 0s 271us/step - loss: 0.1831 - acc: 0.9296\n",
      "Epoch 42/150\n",
      "582/582 [==============================] - 0s 206us/step - loss: 0.1787 - acc: 0.9296\n",
      "Epoch 43/150\n",
      "582/582 [==============================] - 0s 257us/step - loss: 0.1790 - acc: 0.9330\n",
      "Epoch 44/150\n",
      "582/582 [==============================] - 0s 312us/step - loss: 0.1785 - acc: 0.9313\n",
      "Epoch 45/150\n",
      "582/582 [==============================] - 0s 263us/step - loss: 0.1750 - acc: 0.9330\n",
      "Epoch 46/150\n",
      "582/582 [==============================] - 0s 198us/step - loss: 0.1815 - acc: 0.9261\n",
      "Epoch 47/150\n",
      "582/582 [==============================] - 0s 223us/step - loss: 0.1751 - acc: 0.9278\n",
      "Epoch 48/150\n",
      "582/582 [==============================] - 0s 231us/step - loss: 0.1727 - acc: 0.9313\n",
      "Epoch 49/150\n",
      "582/582 [==============================] - 0s 235us/step - loss: 0.1738 - acc: 0.9330\n",
      "Epoch 50/150\n",
      "582/582 [==============================] - 0s 232us/step - loss: 0.1719 - acc: 0.9296\n",
      "Epoch 51/150\n",
      "582/582 [==============================] - 0s 265us/step - loss: 0.1712 - acc: 0.9330\n",
      "Epoch 52/150\n",
      "582/582 [==============================] - 0s 261us/step - loss: 0.1738 - acc: 0.9278\n",
      "Epoch 53/150\n",
      "582/582 [==============================] - 0s 223us/step - loss: 0.1742 - acc: 0.9278\n",
      "Epoch 54/150\n",
      "582/582 [==============================] - 0s 228us/step - loss: 0.1700 - acc: 0.9278\n",
      "Epoch 55/150\n",
      "582/582 [==============================] - 0s 239us/step - loss: 0.1731 - acc: 0.9313\n",
      "Epoch 56/150\n",
      "582/582 [==============================] - 0s 224us/step - loss: 0.1683 - acc: 0.9313\n",
      "Epoch 57/150\n",
      "582/582 [==============================] - 0s 204us/step - loss: 0.1675 - acc: 0.9364\n",
      "Epoch 58/150\n",
      "582/582 [==============================] - 0s 265us/step - loss: 0.1666 - acc: 0.9313\n",
      "Epoch 59/150\n",
      "582/582 [==============================] - 0s 319us/step - loss: 0.1670 - acc: 0.9296\n",
      "Epoch 60/150\n",
      "582/582 [==============================] - 0s 227us/step - loss: 0.1669 - acc: 0.9364\n",
      "Epoch 61/150\n",
      "582/582 [==============================] - 0s 245us/step - loss: 0.1661 - acc: 0.9364\n",
      "Epoch 62/150\n",
      "582/582 [==============================] - 0s 202us/step - loss: 0.1663 - acc: 0.9364\n",
      "Epoch 63/150\n",
      "582/582 [==============================] - 0s 204us/step - loss: 0.1658 - acc: 0.9330\n",
      "Epoch 64/150\n",
      "582/582 [==============================] - 0s 248us/step - loss: 0.1644 - acc: 0.9330\n",
      "Epoch 65/150\n",
      "582/582 [==============================] - 0s 292us/step - loss: 0.1639 - acc: 0.9330\n",
      "Epoch 66/150\n",
      "582/582 [==============================] - 0s 288us/step - loss: 0.1662 - acc: 0.9347\n",
      "Epoch 67/150\n",
      "582/582 [==============================] - 0s 272us/step - loss: 0.1694 - acc: 0.9278\n",
      "Epoch 68/150\n",
      "582/582 [==============================] - 0s 215us/step - loss: 0.1644 - acc: 0.9296\n",
      "Epoch 69/150\n",
      "582/582 [==============================] - 0s 219us/step - loss: 0.1649 - acc: 0.9347\n",
      "Epoch 70/150\n",
      "582/582 [==============================] - 0s 201us/step - loss: 0.1631 - acc: 0.9330\n",
      "Epoch 71/150\n",
      "582/582 [==============================] - 0s 218us/step - loss: 0.1646 - acc: 0.9313\n",
      "Epoch 72/150\n",
      "582/582 [==============================] - 0s 234us/step - loss: 0.1619 - acc: 0.9364\n",
      "Epoch 73/150\n",
      "582/582 [==============================] - 0s 258us/step - loss: 0.1634 - acc: 0.9278\n",
      "Epoch 74/150\n",
      "582/582 [==============================] - 0s 275us/step - loss: 0.1645 - acc: 0.9313\n",
      "Epoch 75/150\n",
      "582/582 [==============================] - 0s 218us/step - loss: 0.1615 - acc: 0.9364\n",
      "Epoch 76/150\n",
      "582/582 [==============================] - ETA: 0s - loss: 0.1761 - acc: 0.916 - 0s 213us/step - loss: 0.1622 - acc: 0.9227\n",
      "Epoch 77/150\n",
      "582/582 [==============================] - 0s 207us/step - loss: 0.1641 - acc: 0.9278\n",
      "Epoch 78/150\n",
      "582/582 [==============================] - ETA: 0s - loss: 0.1602 - acc: 0.933 - 0s 219us/step - loss: 0.1605 - acc: 0.9330\n",
      "Epoch 79/150\n",
      "582/582 [==============================] - 0s 256us/step - loss: 0.1614 - acc: 0.9330\n",
      "Epoch 80/150\n",
      "582/582 [==============================] - 0s 259us/step - loss: 0.1604 - acc: 0.9296\n",
      "Epoch 81/150\n",
      "582/582 [==============================] - 0s 217us/step - loss: 0.1609 - acc: 0.9278\n",
      "Epoch 82/150\n",
      "582/582 [==============================] - 0s 228us/step - loss: 0.1633 - acc: 0.9296\n",
      "Epoch 83/150\n"
     ]
    },
    {
     "name": "stdout",
     "output_type": "stream",
     "text": [
      "582/582 [==============================] - 0s 201us/step - loss: 0.1644 - acc: 0.9313\n",
      "Epoch 84/150\n",
      "582/582 [==============================] - 0s 218us/step - loss: 0.1594 - acc: 0.9364\n",
      "Epoch 85/150\n",
      "582/582 [==============================] - 0s 200us/step - loss: 0.1671 - acc: 0.9296\n",
      "Epoch 86/150\n",
      "582/582 [==============================] - 0s 228us/step - loss: 0.1625 - acc: 0.9433\n",
      "Epoch 87/150\n",
      "582/582 [==============================] - 0s 300us/step - loss: 0.1610 - acc: 0.9313\n",
      "Epoch 88/150\n",
      "582/582 [==============================] - 0s 252us/step - loss: 0.1596 - acc: 0.9330\n",
      "Epoch 89/150\n",
      "582/582 [==============================] - 0s 237us/step - loss: 0.1585 - acc: 0.9313 0s - loss: 0.2009 - acc: 0.91\n",
      "Epoch 90/150\n",
      "582/582 [==============================] - 0s 220us/step - loss: 0.1593 - acc: 0.9313\n",
      "Epoch 91/150\n",
      "582/582 [==============================] - 0s 237us/step - loss: 0.1588 - acc: 0.9278\n",
      "Epoch 92/150\n",
      "582/582 [==============================] - 0s 206us/step - loss: 0.1587 - acc: 0.9296\n",
      "Epoch 93/150\n",
      "582/582 [==============================] - 0s 207us/step - loss: 0.1587 - acc: 0.9278\n",
      "Epoch 94/150\n",
      "582/582 [==============================] - 0s 251us/step - loss: 0.1605 - acc: 0.9347\n",
      "Epoch 95/150\n",
      "582/582 [==============================] - 0s 285us/step - loss: 0.1609 - acc: 0.9330\n",
      "Epoch 96/150\n",
      "582/582 [==============================] - 0s 231us/step - loss: 0.1578 - acc: 0.9313\n",
      "Epoch 97/150\n",
      "582/582 [==============================] - 0s 217us/step - loss: 0.1625 - acc: 0.9364\n",
      "Epoch 98/150\n",
      "582/582 [==============================] - 0s 233us/step - loss: 0.1588 - acc: 0.9330\n",
      "Epoch 99/150\n",
      "582/582 [==============================] - 0s 215us/step - loss: 0.1570 - acc: 0.9278\n",
      "Epoch 100/150\n",
      "582/582 [==============================] - 0s 234us/step - loss: 0.1580 - acc: 0.9330\n",
      "Epoch 101/150\n",
      "582/582 [==============================] - 0s 253us/step - loss: 0.1599 - acc: 0.9313\n",
      "Epoch 102/150\n",
      "582/582 [==============================] - 0s 292us/step - loss: 0.1588 - acc: 0.9296 0s - loss: 0.1607 - acc: 0.930\n",
      "Epoch 103/150\n",
      "582/582 [==============================] - 0s 228us/step - loss: 0.1570 - acc: 0.9330\n",
      "Epoch 104/150\n",
      "582/582 [==============================] - 0s 212us/step - loss: 0.1611 - acc: 0.9296\n",
      "Epoch 105/150\n",
      "582/582 [==============================] - 0s 235us/step - loss: 0.1584 - acc: 0.9313\n",
      "Epoch 106/150\n",
      "582/582 [==============================] - 0s 220us/step - loss: 0.1578 - acc: 0.9330\n",
      "Epoch 107/150\n",
      "582/582 [==============================] - 0s 264us/step - loss: 0.1587 - acc: 0.9278\n",
      "Epoch 108/150\n",
      "582/582 [==============================] - 0s 299us/step - loss: 0.1577 - acc: 0.9296\n",
      "Epoch 109/150\n",
      "582/582 [==============================] - 0s 273us/step - loss: 0.1590 - acc: 0.9330\n",
      "Epoch 110/150\n",
      "582/582 [==============================] - 0s 263us/step - loss: 0.1611 - acc: 0.9347\n",
      "Epoch 111/150\n",
      "582/582 [==============================] - 0s 269us/step - loss: 0.1590 - acc: 0.9278\n",
      "Epoch 112/150\n",
      "582/582 [==============================] - 0s 309us/step - loss: 0.1578 - acc: 0.9296\n",
      "Epoch 113/150\n",
      "582/582 [==============================] - 0s 275us/step - loss: 0.1565 - acc: 0.9330\n",
      "Epoch 114/150\n",
      "582/582 [==============================] - 0s 267us/step - loss: 0.1567 - acc: 0.9364\n",
      "Epoch 115/150\n",
      "582/582 [==============================] - 0s 312us/step - loss: 0.1579 - acc: 0.9330\n",
      "Epoch 116/150\n",
      "582/582 [==============================] - 0s 263us/step - loss: 0.1556 - acc: 0.9364\n",
      "Epoch 117/150\n",
      "582/582 [==============================] - 0s 210us/step - loss: 0.1561 - acc: 0.9313\n",
      "Epoch 118/150\n",
      "582/582 [==============================] - 0s 208us/step - loss: 0.1557 - acc: 0.9330\n",
      "Epoch 119/150\n",
      "582/582 [==============================] - 0s 268us/step - loss: 0.1568 - acc: 0.9364\n",
      "Epoch 120/150\n",
      "582/582 [==============================] - 0s 312us/step - loss: 0.1584 - acc: 0.9330\n",
      "Epoch 121/150\n",
      "582/582 [==============================] - 0s 243us/step - loss: 0.1554 - acc: 0.9278\n",
      "Epoch 122/150\n",
      "582/582 [==============================] - 0s 232us/step - loss: 0.1570 - acc: 0.9330\n",
      "Epoch 123/150\n",
      "582/582 [==============================] - 0s 212us/step - loss: 0.1562 - acc: 0.9296\n",
      "Epoch 124/150\n",
      "582/582 [==============================] - 0s 211us/step - loss: 0.1589 - acc: 0.9313\n",
      "Epoch 125/150\n",
      "582/582 [==============================] - 0s 262us/step - loss: 0.1568 - acc: 0.9296\n",
      "Epoch 126/150\n",
      "582/582 [==============================] - 0s 233us/step - loss: 0.1574 - acc: 0.9313\n",
      "Epoch 127/150\n",
      "582/582 [==============================] - 0s 256us/step - loss: 0.1559 - acc: 0.9330\n",
      "Epoch 128/150\n",
      "582/582 [==============================] - 0s 305us/step - loss: 0.1570 - acc: 0.9313\n",
      "Epoch 129/150\n",
      "582/582 [==============================] - 0s 213us/step - loss: 0.1546 - acc: 0.9330\n",
      "Epoch 130/150\n",
      "582/582 [==============================] - 0s 218us/step - loss: 0.1544 - acc: 0.9296\n",
      "Epoch 131/150\n",
      "582/582 [==============================] - 0s 207us/step - loss: 0.1594 - acc: 0.9313\n",
      "Epoch 132/150\n",
      "582/582 [==============================] - 0s 220us/step - loss: 0.1581 - acc: 0.9347\n",
      "Epoch 133/150\n",
      "582/582 [==============================] - 0s 256us/step - loss: 0.1548 - acc: 0.9330\n",
      "Epoch 134/150\n",
      "582/582 [==============================] - 0s 301us/step - loss: 0.1542 - acc: 0.9330\n",
      "Epoch 135/150\n",
      "582/582 [==============================] - 0s 281us/step - loss: 0.1546 - acc: 0.9347\n",
      "Epoch 136/150\n",
      "582/582 [==============================] - 0s 221us/step - loss: 0.1554 - acc: 0.9330\n",
      "Epoch 137/150\n",
      "582/582 [==============================] - 0s 217us/step - loss: 0.1560 - acc: 0.9347\n",
      "Epoch 138/150\n",
      "582/582 [==============================] - 0s 250us/step - loss: 0.1531 - acc: 0.9347\n",
      "Epoch 139/150\n",
      "582/582 [==============================] - 0s 235us/step - loss: 0.1544 - acc: 0.9313\n",
      "Epoch 140/150\n",
      "582/582 [==============================] - 0s 245us/step - loss: 0.1535 - acc: 0.9330\n",
      "Epoch 141/150\n",
      "582/582 [==============================] - 0s 336us/step - loss: 0.1572 - acc: 0.9313\n",
      "Epoch 142/150\n",
      "582/582 [==============================] - 0s 256us/step - loss: 0.1558 - acc: 0.9330 0s - loss: 0.2102 - acc: 0.91\n",
      "Epoch 143/150\n",
      "582/582 [==============================] - 0s 231us/step - loss: 0.1544 - acc: 0.9330\n",
      "Epoch 144/150\n",
      "582/582 [==============================] - 0s 214us/step - loss: 0.1536 - acc: 0.9296\n",
      "Epoch 145/150\n",
      "582/582 [==============================] - 0s 235us/step - loss: 0.1536 - acc: 0.9347\n",
      "Epoch 146/150\n",
      "582/582 [==============================] - 0s 235us/step - loss: 0.1532 - acc: 0.9313\n",
      "Epoch 147/150\n",
      "582/582 [==============================] - 0s 211us/step - loss: 0.1553 - acc: 0.9330\n",
      "Epoch 148/150\n",
      "582/582 [==============================] - 0s 314us/step - loss: 0.1562 - acc: 0.9313\n",
      "Epoch 149/150\n",
      "582/582 [==============================] - 0s 273us/step - loss: 0.1545 - acc: 0.9296\n",
      "Epoch 150/150\n",
      "582/582 [==============================] - 0s 213us/step - loss: 0.1565 - acc: 0.9347\n"
     ]
    },
    {
     "data": {
      "text/plain": [
       "<keras.callbacks.History at 0x127e5e780>"
      ]
     },
     "execution_count": 131,
     "metadata": {},
     "output_type": "execute_result"
    }
   ],
   "source": [
    "# Fit the model\n",
    "model.fit(X_train, y_train, epochs=150, batch_size=10)"
   ]
  },
  {
   "cell_type": "code",
   "execution_count": 132,
   "metadata": {},
   "outputs": [
    {
     "name": "stdout",
     "output_type": "stream",
     "text": [
      "194/194 [==============================] - 0s 847us/step\n",
      "\n",
      "acc: 93.30%\n"
     ]
    }
   ],
   "source": [
    "# evaluate the model\n",
    "scores = model.evaluate(X_test, y_test)\n",
    "print(\"\\n%s: %.2f%%\" % (model.metrics_names[1], scores[1]*100))"
   ]
  },
  {
   "cell_type": "code",
   "execution_count": 133,
   "metadata": {},
   "outputs": [
    {
     "data": {
      "text/plain": [
       "array([[1.        ],\n",
       "       [1.        ],\n",
       "       [0.0056498 ],\n",
       "       [0.00793771],\n",
       "       [0.99999416],\n",
       "       [0.01857417],\n",
       "       [0.01399356],\n",
       "       [0.07592128],\n",
       "       [0.00845857],\n",
       "       [0.07696842],\n",
       "       [1.        ],\n",
       "       [1.        ],\n",
       "       [0.00600959],\n",
       "       [0.04905406],\n",
       "       [1.        ],\n",
       "       [0.03300349],\n",
       "       [0.03260681],\n",
       "       [0.9970415 ],\n",
       "       [0.9999764 ],\n",
       "       [0.22660244],\n",
       "       [0.02480831],\n",
       "       [0.18802428],\n",
       "       [0.00600567],\n",
       "       [0.00783223],\n",
       "       [1.        ],\n",
       "       [0.03560997],\n",
       "       [1.        ],\n",
       "       [0.01732446],\n",
       "       [0.6364301 ],\n",
       "       [0.09566218],\n",
       "       [0.0056735 ],\n",
       "       [0.03431503],\n",
       "       [0.06661424],\n",
       "       [1.        ],\n",
       "       [0.2933437 ],\n",
       "       [0.00797415],\n",
       "       [0.03627653],\n",
       "       [0.01662322],\n",
       "       [0.08420402],\n",
       "       [1.        ],\n",
       "       [0.07267378],\n",
       "       [1.        ],\n",
       "       [0.9243253 ],\n",
       "       [0.98251396],\n",
       "       [1.        ],\n",
       "       [0.01083868],\n",
       "       [0.0264571 ],\n",
       "       [0.9950511 ],\n",
       "       [0.04132147],\n",
       "       [1.        ],\n",
       "       [1.        ],\n",
       "       [0.07228577],\n",
       "       [0.00747593],\n",
       "       [0.3181772 ],\n",
       "       [0.00713223],\n",
       "       [0.99999905],\n",
       "       [0.03110017],\n",
       "       [0.06377373],\n",
       "       [0.20059161],\n",
       "       [0.37167296],\n",
       "       [0.04269851],\n",
       "       [0.08034084],\n",
       "       [1.        ],\n",
       "       [0.9269939 ],\n",
       "       [0.00863391],\n",
       "       [0.01907905],\n",
       "       [1.        ],\n",
       "       [0.0128187 ],\n",
       "       [0.02480323],\n",
       "       [0.51712084],\n",
       "       [0.00577912],\n",
       "       [0.4346933 ],\n",
       "       [0.9999535 ],\n",
       "       [1.        ],\n",
       "       [0.01887382],\n",
       "       [0.02963916],\n",
       "       [0.00697862],\n",
       "       [0.00642964],\n",
       "       [0.01309859],\n",
       "       [1.        ],\n",
       "       [0.00596964],\n",
       "       [0.00633036],\n",
       "       [0.99847573],\n",
       "       [0.0242537 ],\n",
       "       [1.        ],\n",
       "       [0.01619686],\n",
       "       [1.        ],\n",
       "       [0.18932296],\n",
       "       [0.00646449],\n",
       "       [0.06962784],\n",
       "       [0.04636486],\n",
       "       [1.        ],\n",
       "       [0.00735858],\n",
       "       [0.02798918],\n",
       "       [0.23473126],\n",
       "       [0.9996039 ],\n",
       "       [0.00869368],\n",
       "       [0.01028951],\n",
       "       [0.01517751],\n",
       "       [1.        ],\n",
       "       [1.        ],\n",
       "       [1.        ],\n",
       "       [0.08894885],\n",
       "       [0.06950337],\n",
       "       [0.99999475],\n",
       "       [0.06882212],\n",
       "       [0.00678171],\n",
       "       [0.00629108],\n",
       "       [0.03446215],\n",
       "       [0.07109322],\n",
       "       [0.8204373 ],\n",
       "       [0.00743074],\n",
       "       [0.01268524],\n",
       "       [0.00695695],\n",
       "       [0.14964288],\n",
       "       [1.        ],\n",
       "       [0.935044  ],\n",
       "       [0.0486126 ],\n",
       "       [0.9907205 ],\n",
       "       [0.9915638 ],\n",
       "       [0.00694974],\n",
       "       [0.15402535],\n",
       "       [0.48899594],\n",
       "       [0.01025738],\n",
       "       [1.        ],\n",
       "       [0.02537366],\n",
       "       [1.        ],\n",
       "       [0.689584  ],\n",
       "       [0.00752474],\n",
       "       [0.961203  ],\n",
       "       [0.0597425 ],\n",
       "       [0.12437848],\n",
       "       [0.00775323],\n",
       "       [1.        ],\n",
       "       [1.        ],\n",
       "       [0.06430998],\n",
       "       [0.01138528],\n",
       "       [0.03906882],\n",
       "       [0.07354989],\n",
       "       [0.9999969 ],\n",
       "       [1.        ],\n",
       "       [0.01975527],\n",
       "       [0.6618232 ],\n",
       "       [0.0187783 ],\n",
       "       [1.        ],\n",
       "       [1.        ],\n",
       "       [1.        ],\n",
       "       [0.9999914 ],\n",
       "       [0.03211309],\n",
       "       [0.73917854],\n",
       "       [0.02165344],\n",
       "       [0.0111195 ],\n",
       "       [0.14451584],\n",
       "       [0.04888008],\n",
       "       [1.        ],\n",
       "       [0.00622379],\n",
       "       [0.00758983],\n",
       "       [1.        ],\n",
       "       [0.98080564],\n",
       "       [0.00740777],\n",
       "       [1.        ],\n",
       "       [0.8748815 ],\n",
       "       [0.01408934],\n",
       "       [0.9165085 ],\n",
       "       [0.09171082],\n",
       "       [0.05795578],\n",
       "       [0.66087854],\n",
       "       [0.07669792],\n",
       "       [0.01929734],\n",
       "       [0.5746359 ],\n",
       "       [0.01020956],\n",
       "       [0.3417903 ],\n",
       "       [0.9949911 ],\n",
       "       [0.0382362 ],\n",
       "       [0.00696416],\n",
       "       [0.3321411 ],\n",
       "       [0.43002942],\n",
       "       [0.9999931 ],\n",
       "       [1.        ],\n",
       "       [0.0059558 ],\n",
       "       [0.07267378],\n",
       "       [0.01240578],\n",
       "       [0.10645877],\n",
       "       [0.03627653],\n",
       "       [0.00775323],\n",
       "       [1.        ],\n",
       "       [0.01192757],\n",
       "       [1.        ],\n",
       "       [0.16088504],\n",
       "       [0.00587579],\n",
       "       [0.00571626],\n",
       "       [1.        ],\n",
       "       [1.        ],\n",
       "       [0.04841413]], dtype=float32)"
      ]
     },
     "execution_count": 133,
     "metadata": {},
     "output_type": "execute_result"
    }
   ],
   "source": [
    "y_predict = model.predict(X_test)\n",
    "y_predict"
   ]
  },
  {
   "cell_type": "markdown",
   "metadata": {},
   "source": []
  },
  {
   "cell_type": "code",
   "execution_count": 134,
   "metadata": {
    "collapsed": true
   },
   "outputs": [],
   "source": []
  },
  {
   "cell_type": "code",
   "execution_count": 145,
   "metadata": {
    "collapsed": true
   },
   "outputs": [],
   "source": []
  },
  {
   "cell_type": "code",
   "execution_count": 146,
   "metadata": {
    "collapsed": true
   },
   "outputs": [],
   "source": []
  },
  {
   "cell_type": "code",
   "execution_count": 147,
   "metadata": {
    "collapsed": true
   },
   "outputs": [],
   "source": []
  },
  {
   "cell_type": "code",
   "execution_count": 148,
   "metadata": {
    "collapsed": true
   },
   "outputs": [],
   "source": []
  },
  {
   "cell_type": "code",
   "execution_count": null,
   "metadata": {
    "collapsed": true
   },
   "outputs": [],
   "source": []
  }
 ],
 "metadata": {
  "kernelspec": {
   "display_name": "Python 3",
   "language": "python",
   "name": "python3"
  },
  "language_info": {
   "codemirror_mode": {
    "name": "ipython",
    "version": 3
   },
   "file_extension": ".py",
   "mimetype": "text/x-python",
   "name": "python",
   "nbconvert_exporter": "python",
   "pygments_lexer": "ipython3",
   "version": "3.6.3"
  }
 },
 "nbformat": 4,
 "nbformat_minor": 2
}
